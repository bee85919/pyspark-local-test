{
 "cells": [
  {
   "cell_type": "code",
   "execution_count": 1,
   "metadata": {},
   "outputs": [],
   "source": [
    "import pandas as pd\n",
    "import re\n",
    "\n",
    "# 파일 경로\n",
    "file_path = '/Users/b06/Desktop/yeardream/medi-05/data/naverplace_meta_sample.json'\n",
    "\n",
    "\n",
    "pd.set_option('display.max_colwidth', None)  # 컬럼 너비 제한 해제\n",
    "pd.set_option('display.max_rows', None)  # 행의 수 제한 해제\n",
    "\n",
    "\n",
    "# JSON 파일을 읽어 DataFrame으로 변환\n",
    "df = pd.read_json(file_path)"
   ]
  },
  {
   "cell_type": "code",
   "execution_count": 2,
   "metadata": {},
   "outputs": [],
   "source": [
    "# temp = df['HospitalBase:1934828030']\n",
    "# print(temp)"
   ]
  },
  {
   "cell_type": "code",
   "execution_count": 3,
   "metadata": {},
   "outputs": [],
   "source": [
    "def extract_values(row):\n",
    "    if isinstance(row, dict):\n",
    "        values = row.get('id'), \\\n",
    "                 row.get('name'), \\\n",
    "                 row.get('road'), \\\n",
    "                 row.get('reviewSettings'), \\\n",
    "                 row.get('conveniences'), \\\n",
    "                 row.get('keywords'), \\\n",
    "                 row.get('phone'), \\\n",
    "                 row.get('virtualPhone'), \\\n",
    "                 row.get('naverBookingUrl'), \\\n",
    "                 row.get('talktalkUrl'), \\\n",
    "                 row.get('paymentInfo'), \\\n",
    "                 row.get('homepages'), \\\n",
    "                 row.get('visitorReviewsTotal'), \\\n",
    "                 row.get('description'), \\\n",
    "                 row.get('Images')\n",
    "        return values\n",
    "    return [None]*15"
   ]
  },
  {
   "cell_type": "code",
   "execution_count": 4,
   "metadata": {},
   "outputs": [
    {
     "data": {
      "text/html": [
       "<div>\n",
       "<style scoped>\n",
       "    .dataframe tbody tr th:only-of-type {\n",
       "        vertical-align: middle;\n",
       "    }\n",
       "\n",
       "    .dataframe tbody tr th {\n",
       "        vertical-align: top;\n",
       "    }\n",
       "\n",
       "    .dataframe thead th {\n",
       "        text-align: right;\n",
       "    }\n",
       "</style>\n",
       "<table border=\"1\" class=\"dataframe\">\n",
       "  <thead>\n",
       "    <tr style=\"text-align: right;\">\n",
       "      <th></th>\n",
       "      <th>id</th>\n",
       "      <th>name</th>\n",
       "      <th>road</th>\n",
       "      <th>reviewSettings</th>\n",
       "      <th>conveniences</th>\n",
       "      <th>keywords</th>\n",
       "      <th>phone</th>\n",
       "      <th>virtualPhone</th>\n",
       "      <th>naverBookingUrl</th>\n",
       "      <th>talktalkUrl</th>\n",
       "      <th>paymentInfo</th>\n",
       "      <th>homepages</th>\n",
       "      <th>visitorReviewsTotal</th>\n",
       "      <th>description</th>\n",
       "      <th>Images</th>\n",
       "    </tr>\n",
       "  </thead>\n",
       "  <tbody>\n",
       "    <tr>\n",
       "      <th>0</th>\n",
       "      <td>1934828030</td>\n",
       "      <td>청구경희한의원 아현점</td>\n",
       "      <td>지하철 이용 시\\n\\n2호선 아현역 3번 출구 도보 2분\\n5호선 애오개역 2번 출구 도보 5분\\n\\n자가용 이용 시\\n\\n한의원 앞 2대 주차 가능</td>\n",
       "      <td>{'__typename': 'ReviewSettings', 'keyword': '(청구경희한의원 아현점) &amp; (마포구 | 아현동 | 한의원-일반) &amp; \"청구경희한의원 아현점\"', 'blog': 1, 'cafe': 1, 'showVisitorReviewScore': True}</td>\n",
       "      <td>[주차, 예약, 무선 인터넷, 남/녀 화장실 구분]</td>\n",
       "      <td>[아현역한의원, 추나요법, 교통사고후유증, 골반교정, 턱관절]</td>\n",
       "      <td>02-364-1080</td>\n",
       "      <td></td>\n",
       "      <td>None</td>\n",
       "      <td>None</td>\n",
       "      <td>[지역화폐(카드,모바일), 제로페이]</td>\n",
       "      <td>{'__typename': 'Homepage', 'etc': [{'__typename': 'HomepageRepr', 'url': 'https://blog.naver.com/kundaeclinic', 'landingUrl': 'https://blog.naver.com/kundaeclinic', 'type': '블로그', 'order': 1, 'isDeadUrl': False, 'isRep': None}, {'__typename': 'HomepageRepr', 'url': 'https://www.instagram.com/bluehillclinic_official', 'landingUrl': 'https://www.instagram.com/bluehillclinic_official', 'type': '인스타그램', 'order': 2, 'isDeadUrl': False, 'isRep': None}], 'repr': {'__typename': 'HomepageRepr', 'url': 'http://ahyeon.bluehillclinic.com', 'landingUrl': 'http://ahyeon.bluehillclinic.com', 'isDeadUrl': False, 'type': '웹사이트', 'order': 0, 'isRep': None}}</td>\n",
       "      <td>121.0</td>\n",
       "      <td>안녕하세요. 청구경희한의원 아현점 입니다.\\n\\n추나요법 네트워크 청구경희한의원의 탄탄한 23년 추나요법 임상 노하우를 바탕으로 환자분들의 통증 및 체형 불균형, 교통사고후유증까지!\\n\\n목, 어깨, 허리, 골반, 턱관절 곳곳에서 발생되는 불편함을 치료해드립니다!\\n\\n추나요법 건강보험 적용 이전부터 20여년 추나요법 네트워크의 임상을 바탕으로 통증 및 교정을 아우르는 특화된 치료를 해오고 있습니다.\\n\\n추나요법은 2019년 부터 건강보험 적용을 통해 통증, 척추 질환을 부담없이 진료를 받으실 수 있게 되었습니다.\\n\\n대한한의사협회의 추나요법 교육을 이수하였으며, 오랜 진료 경험으로 서울시 마포구 아현동 , 공덕동 지역 주민 여러분의 건강지킴이가 되겠습니다.\\n\\n23년 전통, 평일밤 9시 야간진료 및 365일 연중무휴 진료 청구경희한의원 아현점의 이유 있는 자신감!\\n\\n비수술 추나요법, 척추, 골반, 체형교정. 일자목, 디스크, 턱관절질환, 골반교정, 통증클리닉, 교통사고후유증, 비만까지\\n\\n바른 체형이 만드는 통증없는 멋진 몸매, 청구경희한의원 아현점이 만들어 가겠습니다.\\n\\n청구경희한의원 아현점의 특화된 진료서비스를 만나보세요.\\n\\n통증과 함께 마음까지 치료하겠습니다.\\n\\n감사합니다.</td>\n",
       "      <td>None</td>\n",
       "    </tr>\n",
       "  </tbody>\n",
       "</table>\n",
       "</div>"
      ],
      "text/plain": [
       "           id         name   \n",
       "0  1934828030  청구경희한의원 아현점  \\\n",
       "\n",
       "                                                                                  road   \n",
       "0  지하철 이용 시\\n\\n2호선 아현역 3번 출구 도보 2분\\n5호선 애오개역 2번 출구 도보 5분\\n\\n자가용 이용 시\\n\\n한의원 앞 2대 주차 가능  \\\n",
       "\n",
       "                                                                                                                                              reviewSettings   \n",
       "0  {'__typename': 'ReviewSettings', 'keyword': '(청구경희한의원 아현점) & (마포구 | 아현동 | 한의원-일반) & \"청구경희한의원 아현점\"', 'blog': 1, 'cafe': 1, 'showVisitorReviewScore': True}  \\\n",
       "\n",
       "                   conveniences                            keywords   \n",
       "0  [주차, 예약, 무선 인터넷, 남/녀 화장실 구분]  [아현역한의원, 추나요법, 교통사고후유증, 골반교정, 턱관절]  \\\n",
       "\n",
       "         phone virtualPhone naverBookingUrl talktalkUrl           paymentInfo   \n",
       "0  02-364-1080                         None        None  [지역화폐(카드,모바일), 제로페이]  \\\n",
       "\n",
       "                                                                                                                                                                                                                                                                                                                                                                                                                                                                                                                                                                                                                                                                 homepages   \n",
       "0  {'__typename': 'Homepage', 'etc': [{'__typename': 'HomepageRepr', 'url': 'https://blog.naver.com/kundaeclinic', 'landingUrl': 'https://blog.naver.com/kundaeclinic', 'type': '블로그', 'order': 1, 'isDeadUrl': False, 'isRep': None}, {'__typename': 'HomepageRepr', 'url': 'https://www.instagram.com/bluehillclinic_official', 'landingUrl': 'https://www.instagram.com/bluehillclinic_official', 'type': '인스타그램', 'order': 2, 'isDeadUrl': False, 'isRep': None}], 'repr': {'__typename': 'HomepageRepr', 'url': 'http://ahyeon.bluehillclinic.com', 'landingUrl': 'http://ahyeon.bluehillclinic.com', 'isDeadUrl': False, 'type': '웹사이트', 'order': 0, 'isRep': None}}  \\\n",
       "\n",
       "   visitorReviewsTotal   \n",
       "0                121.0  \\\n",
       "\n",
       "                                                                                                                                                                                                                                                                                                                                                                                                                                                                                                                                                                                                                                         description   \n",
       "0  안녕하세요. 청구경희한의원 아현점 입니다.\\n\\n추나요법 네트워크 청구경희한의원의 탄탄한 23년 추나요법 임상 노하우를 바탕으로 환자분들의 통증 및 체형 불균형, 교통사고후유증까지!\\n\\n목, 어깨, 허리, 골반, 턱관절 곳곳에서 발생되는 불편함을 치료해드립니다!\\n\\n추나요법 건강보험 적용 이전부터 20여년 추나요법 네트워크의 임상을 바탕으로 통증 및 교정을 아우르는 특화된 치료를 해오고 있습니다.\\n\\n추나요법은 2019년 부터 건강보험 적용을 통해 통증, 척추 질환을 부담없이 진료를 받으실 수 있게 되었습니다.\\n\\n대한한의사협회의 추나요법 교육을 이수하였으며, 오랜 진료 경험으로 서울시 마포구 아현동 , 공덕동 지역 주민 여러분의 건강지킴이가 되겠습니다.\\n\\n23년 전통, 평일밤 9시 야간진료 및 365일 연중무휴 진료 청구경희한의원 아현점의 이유 있는 자신감!\\n\\n비수술 추나요법, 척추, 골반, 체형교정. 일자목, 디스크, 턱관절질환, 골반교정, 통증클리닉, 교통사고후유증, 비만까지\\n\\n바른 체형이 만드는 통증없는 멋진 몸매, 청구경희한의원 아현점이 만들어 가겠습니다.\\n\\n청구경희한의원 아현점의 특화된 진료서비스를 만나보세요.\\n\\n통증과 함께 마음까지 치료하겠습니다.\\n\\n감사합니다.  \\\n",
       "\n",
       "  Images  \n",
       "0   None  "
      ]
     },
     "execution_count": 4,
     "metadata": {},
     "output_type": "execute_result"
    }
   ],
   "source": [
    "extracted_values = df['HospitalBase:1934828030'].apply(lambda x: extract_values(x))\n",
    "extracted_df = pd.DataFrame(extracted_values.tolist(), columns=[\n",
    "    'id', \n",
    "    'name', \n",
    "    'road', \n",
    "    'reviewSettings', \n",
    "    'conveniences', \n",
    "    'keywords', \n",
    "    'phone',\n",
    "    'virtualPhone', \n",
    "    'naverBookingUrl', \n",
    "    'talktalkUrl', \n",
    "    'paymentInfo', \n",
    "    'homepages', \n",
    "    'visitorReviewsTotal', \n",
    "    'description', \n",
    "    'Images'\n",
    "])\n",
    "data = extracted_df.dropna(how='all').reset_index(drop=True)\n",
    "data"
   ]
  },
  {
   "cell_type": "code",
   "execution_count": 5,
   "metadata": {},
   "outputs": [
    {
     "name": "stdout",
     "output_type": "stream",
     "text": [
      "0    지하철 이용 시2호선 아현역 3번 출구 도보 2분5호선 애오개역 2번 출구 도보 5분자가용 이용 시한의원 앞 2대 주차 가능\n",
      "Name: road, dtype: object\n"
     ]
    }
   ],
   "source": [
    "# 'road' 열에서 개행 문자 제거\n",
    "data['road'] = data['road'].str.replace('\\n', '', regex=False)\n",
    "\n",
    "# 결과 확인\n",
    "print(data['road'])"
   ]
  },
  {
   "cell_type": "code",
   "execution_count": 6,
   "metadata": {},
   "outputs": [
    {
     "name": "stdout",
     "output_type": "stream",
     "text": [
      "0    (청구경희한의원 아현점) & (마포구 | 아현동 | 한의원-일반) & \"청구경희한의원 아현점\"\n",
      "Name: reviewSettings_keyword, dtype: object\n"
     ]
    }
   ],
   "source": [
    "def extract_keyword(reviewSettings):\n",
    "    if isinstance(reviewSettings, dict):\n",
    "        return reviewSettings.get('keyword')\n",
    "    return None\n",
    "\n",
    "\n",
    "# 'reviewSettings' 열에서 'keyword' 추출\n",
    "data['reviewSettings_keyword'] = data['reviewSettings'].apply(extract_keyword)\n",
    "\n",
    "# 결과 확인\n",
    "print(data['reviewSettings_keyword'])"
   ]
  },
  {
   "cell_type": "code",
   "execution_count": 7,
   "metadata": {},
   "outputs": [
    {
     "name": "stdout",
     "output_type": "stream",
     "text": [
      "0    청구경희한의원 아현점, 마포구 | 아현동 | 한의원-일반, 청구경희한의원 아현점\n",
      "Name: reviewSettings_keyword, dtype: object\n"
     ]
    }
   ],
   "source": [
    "def format_keyword(keyword):\n",
    "    if isinstance(keyword, str):\n",
    "        # 괄호와 따옴표 제거\n",
    "        keyword = re.sub(r\"[()\\\"\\']\", \"\", keyword)\n",
    "        # &를 ,로 바꾸기\n",
    "        keyword = keyword.replace(\" &\", \",\")\n",
    "        return keyword\n",
    "    return keyword\n",
    "\n",
    "\n",
    "# 'reviewSettings_keyword' 열의 데이터 포맷 변경\n",
    "data['reviewSettings_keyword'] = data['reviewSettings_keyword'].apply(format_keyword)\n",
    "\n",
    "\n",
    "# 결과 확인\n",
    "print(data['reviewSettings_keyword'])"
   ]
  },
  {
   "cell_type": "code",
   "execution_count": 8,
   "metadata": {},
   "outputs": [
    {
     "name": "stdout",
     "output_type": "stream",
     "text": [
      "0    '주차', '예약', '무선 인터넷', '남/녀 화장실 구분'\n",
      "Name: conveniences, dtype: object\n"
     ]
    }
   ],
   "source": [
    "def remove_brackets(text):\n",
    "    if isinstance(text, list):\n",
    "        # 리스트를 문자열로 변환하고, 대괄호 제거\n",
    "        return str(text)[1:-1]\n",
    "    return text\n",
    "\n",
    "\n",
    "# 'conveniences' 열의 데이터에서 대괄호 제거\n",
    "data['conveniences'] = data['conveniences'].apply(remove_brackets)\n",
    "\n",
    "\n",
    "# 결과 확인\n",
    "print(data['conveniences'])"
   ]
  },
  {
   "cell_type": "code",
   "execution_count": 9,
   "metadata": {},
   "outputs": [
    {
     "name": "stdout",
     "output_type": "stream",
     "text": [
      "0    '아현역한의원', '추나요법', '교통사고후유증', '골반교정', '턱관절'\n",
      "Name: keywords, dtype: object\n"
     ]
    }
   ],
   "source": [
    "# 'keywords' 열의 데이터에서 대괄호 제거\n",
    "data['keywords'] = data['keywords'].apply(remove_brackets)\n",
    "\n",
    "\n",
    "# 결과 확인\n",
    "print(data['keywords'])"
   ]
  },
  {
   "cell_type": "code",
   "execution_count": 10,
   "metadata": {},
   "outputs": [
    {
     "name": "stdout",
     "output_type": "stream",
     "text": [
      "0    '지역화폐(카드,모바일)', '제로페이'\n",
      "Name: paymentInfo, dtype: object\n"
     ]
    }
   ],
   "source": [
    "# 'paymentInfo' 열의 데이터에서 대괄호 제거\n",
    "data['paymentInfo'] = data['paymentInfo'].apply(remove_brackets)\n",
    "\n",
    "\n",
    "# 결과 확인\n",
    "print(data['paymentInfo'])"
   ]
  },
  {
   "cell_type": "code",
   "execution_count": 11,
   "metadata": {},
   "outputs": [],
   "source": [
    "def extract_order_zero(homepage):\n",
    "    if isinstance(homepage, dict) and 'repr' in homepage:\n",
    "        if homepage['repr'].get('order') == 0:\n",
    "            return homepage['repr']\n",
    "    return None\n",
    "\n",
    "\n",
    "def extract_isDeadUrl(mainpage):\n",
    "    if isinstance(mainpage, dict):\n",
    "        return mainpage.get('isDeadUrl')\n",
    "    return None\n",
    "\n",
    "\n",
    "def extract_type(mainpage):\n",
    "    if isinstance(mainpage, dict):\n",
    "        return mainpage.get('type')\n",
    "    return None\n",
    "\n",
    "\n",
    "def extract_url(mainpage):\n",
    "    if isinstance(mainpage, dict):\n",
    "        return mainpage.get('url')\n",
    "    return None\n",
    "\n",
    "\n",
    "# 'homepages' 열에서 order가 0인 값을 추출\n",
    "data['mainpage'] = data['homepages'].apply(extract_order_zero)\n",
    "\n",
    "\n",
    "# 'mainpage' 열에서 'isDeadUrl'과 'type', 'url' 추출\n",
    "data['isDeadUrl'] = data['mainpage'].apply(extract_isDeadUrl)\n",
    "data['type'] = data['mainpage'].apply(extract_type)\n",
    "data['url'] = data['mainpage'].apply(extract_url)"
   ]
  },
  {
   "cell_type": "code",
   "execution_count": 12,
   "metadata": {},
   "outputs": [
    {
     "name": "stdout",
     "output_type": "stream",
     "text": [
      "0    안녕하세요. 청구경희한의원 아현점 입니다.추나요법 네트워크 청구경희한의원의 탄탄한 23년 추나요법 임상 노하우를 바탕으로 환자분들의 통증 및 체형 불균형, 교통사고후유증까지!목, 어깨, 허리, 골반, 턱관절 곳곳에서 발생되는 불편함을 치료해드립니다!추나요법 건강보험 적용 이전부터 20여년 추나요법 네트워크의 임상을 바탕으로 통증 및 교정을 아우르는 특화된 치료를 해오고 있습니다.추나요법은 2019년 부터 건강보험 적용을 통해 통증, 척추 질환을 부담없이 진료를 받으실 수 있게 되었습니다.대한한의사협회의 추나요법 교육을 이수하였으며, 오랜 진료 경험으로 서울시 마포구 아현동 , 공덕동 지역 주민 여러분의 건강지킴이가 되겠습니다.23년 전통, 평일밤 9시 야간진료 및 365일 연중무휴 진료 청구경희한의원 아현점의 이유 있는 자신감!비수술 추나요법, 척추, 골반, 체형교정. 일자목, 디스크, 턱관절질환, 골반교정, 통증클리닉, 교통사고후유증, 비만까지바른 체형이 만드는 통증없는 멋진 몸매, 청구경희한의원 아현점이 만들어 가겠습니다.청구경희한의원 아현점의 특화된 진료서비스를 만나보세요.통증과 함께 마음까지 치료하겠습니다.감사합니다.\n",
      "Name: description, dtype: object\n"
     ]
    }
   ],
   "source": [
    "# 'road' 열에서 개행 문자 제거\n",
    "data['description'] = data['description'].str.replace('\\n', '', regex=False)\n",
    "\n",
    "# 결과 확인\n",
    "print(data['description'])"
   ]
  },
  {
   "cell_type": "code",
   "execution_count": 15,
   "metadata": {},
   "outputs": [],
   "source": [
    "# Table 1: id, name, phone, virtualPhone, naverBookingUrl, talktalkUrl, url, type, isDeadUrl, visitorReviewsTotal, Images\n",
    "table1 = data[['id', 'name', 'phone', 'virtualPhone', 'naverBookingUrl', 'talktalkUrl', 'url', 'type', 'isDeadUrl', 'visitorReviewsTotal', 'Images']]\n",
    "\n",
    "\n",
    "# Table 2: id, road\n",
    "table2 = data[['id', 'road']]\n",
    "\n",
    "\n",
    "# Table 3: id, reviewSettings_keyword\n",
    "table3 = data[['id', 'reviewSettings_keyword']]\n",
    "\n",
    "\n",
    "# Table 4: id, conveniences\n",
    "table4 = data[['id', 'conveniences']]\n",
    "\n",
    "\n",
    "# Table 5: id, keywords\n",
    "table5 = data[['id', 'keywords']]\n",
    "\n",
    "\n",
    "# Table 6: id, paymentInfo\n",
    "table6 = data[['id', 'paymentInfo']]\n",
    "\n",
    "\n",
    "# Table 7: id, description\n",
    "table7 = data[['id', 'description']]"
   ]
  },
  {
   "cell_type": "code",
   "execution_count": 16,
   "metadata": {},
   "outputs": [
    {
     "name": "stdout",
     "output_type": "stream",
     "text": [
      "           id reviewSettings_keyword\n",
      "0  1934828030            청구경희한의원 아현점\n",
      "0  1934828030     마포구 | 아현동 | 한의원-일반\n",
      "0  1934828030            청구경희한의원 아현점\n",
      "           id   conveniences\n",
      "0  1934828030           '주차'\n",
      "0  1934828030           '예약'\n",
      "0  1934828030       '무선 인터넷'\n",
      "0  1934828030   '남/녀 화장실 구분'\n",
      "           id    keywords\n",
      "0  1934828030    '아현역한의원'\n",
      "0  1934828030      '추나요법'\n",
      "0  1934828030   '교통사고후유증'\n",
      "0  1934828030      '골반교정'\n",
      "0  1934828030       '턱관절'\n",
      "           id paymentInfo\n",
      "0  1934828030    '지역화폐(카드\n",
      "0  1934828030       모바일)'\n",
      "0  1934828030      '제로페이'\n"
     ]
    },
    {
     "name": "stderr",
     "output_type": "stream",
     "text": [
      "/var/folders/cj/gc1ypmy136x0w5k4g3z15qy40000gn/T/ipykernel_75858/3881931219.py:2: SettingWithCopyWarning: \n",
      "A value is trying to be set on a copy of a slice from a DataFrame.\n",
      "Try using .loc[row_indexer,col_indexer] = value instead\n",
      "\n",
      "See the caveats in the documentation: https://pandas.pydata.org/pandas-docs/stable/user_guide/indexing.html#returning-a-view-versus-a-copy\n",
      "  table3['reviewSettings_keyword'] = table3['reviewSettings_keyword'].str.split(',')\n",
      "/var/folders/cj/gc1ypmy136x0w5k4g3z15qy40000gn/T/ipykernel_75858/3881931219.py:3: SettingWithCopyWarning: \n",
      "A value is trying to be set on a copy of a slice from a DataFrame.\n",
      "Try using .loc[row_indexer,col_indexer] = value instead\n",
      "\n",
      "See the caveats in the documentation: https://pandas.pydata.org/pandas-docs/stable/user_guide/indexing.html#returning-a-view-versus-a-copy\n",
      "  table4['conveniences'] = table4['conveniences'].str.split(',')\n",
      "/var/folders/cj/gc1ypmy136x0w5k4g3z15qy40000gn/T/ipykernel_75858/3881931219.py:4: SettingWithCopyWarning: \n",
      "A value is trying to be set on a copy of a slice from a DataFrame.\n",
      "Try using .loc[row_indexer,col_indexer] = value instead\n",
      "\n",
      "See the caveats in the documentation: https://pandas.pydata.org/pandas-docs/stable/user_guide/indexing.html#returning-a-view-versus-a-copy\n",
      "  table5['keywords'] = table5['keywords'].str.split(',')\n",
      "/var/folders/cj/gc1ypmy136x0w5k4g3z15qy40000gn/T/ipykernel_75858/3881931219.py:5: SettingWithCopyWarning: \n",
      "A value is trying to be set on a copy of a slice from a DataFrame.\n",
      "Try using .loc[row_indexer,col_indexer] = value instead\n",
      "\n",
      "See the caveats in the documentation: https://pandas.pydata.org/pandas-docs/stable/user_guide/indexing.html#returning-a-view-versus-a-copy\n",
      "  table6['paymentInfo'] = table6['paymentInfo'].str.split(',')\n"
     ]
    }
   ],
   "source": [
    "# 쉼표를 기준으로 리스트로 변환\n",
    "table3['reviewSettings_keyword'] = table3['reviewSettings_keyword'].str.split(',')\n",
    "table4['conveniences'] = table4['conveniences'].str.split(',')\n",
    "table5['keywords'] = table5['keywords'].str.split(',')\n",
    "table6['paymentInfo'] = table6['paymentInfo'].str.split(',')\n",
    "\n",
    "# 각 테이블에 대해 explode 적용\n",
    "table3 = table3.explode('reviewSettings_keyword')\n",
    "table4 = table4.explode('conveniences')\n",
    "table5 = table5.explode('keywords')\n",
    "table6 = table6.explode('paymentInfo')"
   ]
  },
  {
   "cell_type": "code",
   "execution_count": null,
   "metadata": {},
   "outputs": [],
   "source": []
  }
 ],
 "metadata": {
  "kernelspec": {
   "display_name": "yeardream",
   "language": "python",
   "name": "python3"
  },
  "language_info": {
   "codemirror_mode": {
    "name": "ipython",
    "version": 3
   },
   "file_extension": ".py",
   "mimetype": "text/x-python",
   "name": "python",
   "nbconvert_exporter": "python",
   "pygments_lexer": "ipython3",
   "version": "3.10.9"
  }
 },
 "nbformat": 4,
 "nbformat_minor": 2
}
