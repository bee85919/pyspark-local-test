{
 "cells": [
  {
   "cell_type": "code",
   "execution_count": 7,
   "metadata": {},
   "outputs": [],
   "source": [
    "import pandas as pd\n",
    "import re\n",
    "\n",
    "# 파일 경로\n",
    "file_path = '/Users/b06/Desktop/yeardream/medi-05/data/naverplace_meta_sample.json'\n",
    "\n",
    "\n",
    "pd.set_option('display.max_colwidth', None)  # 컬럼 너비 제한 해제\n",
    "pd.set_option('display.max_rows', None)  # 행의 수 제한 해제\n",
    "\n",
    "\n",
    "# JSON 파일을 읽어 DataFrame으로 변환\n",
    "df = pd.read_json(file_path)"
   ]
  },
  {
   "cell_type": "code",
   "execution_count": 6,
   "metadata": {},
   "outputs": [
    {
     "data": {
      "text/plain": [
       "Index(['ROOT_QUERY', 'Panorama:bydPStvfMsdID2iv8PxqvA==',\n",
       "       'BaseNaverBlog:kundaeclinic', 'HospitalBase:1934828030',\n",
       "       'FsasReview:blog_청구경희한의원 아현점_223227655592_공덕동교통사고후유증 더 이상 미루지 말고',\n",
       "       'FsasReview:blog_청구경희한의원 아현점_223218840741_공덕역일요일진료 사고가 생겼다면',\n",
       "       'FsasReview:blog_청구경희한의원 아현점_223222015488_아현공휴일한의원 추석 진료 안내',\n",
       "       'SubwayStationInfo:242', 'SubwayStationInfo:530',\n",
       "       'SubwayStationInfo:531', 'SubwayStationInfo:243',\n",
       "       'SubwayStationInfo:241', 'InnerRoute:1507', 'BusStation:93484',\n",
       "       'BusStation:194123', 'InnerRoute:907', 'InnerRoute:909',\n",
       "       'InnerRoute:988', 'InnerRoute:989', 'InnerRoute:941', 'InnerRoute:1073',\n",
       "       'InnerRoute:1166', 'InnerRoute:1168', 'InnerRoute:1259',\n",
       "       'InnerRoute:1275', 'InnerRoute:510', 'InnerRoute:11036981',\n",
       "       'InnerRoute:576', 'InnerRoute:11036997', 'InnerRoute:11036973',\n",
       "       'InnerRoute:1242', 'InnerRoute:1248', 'InnerRoute:13003',\n",
       "       'InnerRoute:21129', 'InnerRoute:21207', 'InnerRoute:21149',\n",
       "       'InnerRoute:21213', 'InnerRoute:21240', 'InnerRoute:21210',\n",
       "       'InnerRoute:11038300', 'BusStation:86157', 'InnerRoute:1564',\n",
       "       'BusStation:194124', 'InnerRoute:1278', 'BusStation:104231',\n",
       "       'InnerRoute:1370', 'BusStation:86158', 'VisitorReviewAuthor:3rYQ1',\n",
       "       'VisitorReview:651be62e95273ea3ae925d34', 'VisitorReviewAuthor:5nKO',\n",
       "       'VisitorReview:6514d72716e7b0976bab28d7',\n",
       "       'VisitorReview:651249771a24e0b7fae3cfb2',\n",
       "       'VisitorReviewStatsResult:1934828030'],\n",
       "      dtype='object')"
      ]
     },
     "execution_count": 6,
     "metadata": {},
     "output_type": "execute_result"
    }
   ],
   "source": [
    "df.columns"
   ]
  },
  {
   "cell_type": "code",
   "execution_count": 20,
   "metadata": {},
   "outputs": [
    {
     "name": "stdout",
     "output_type": "stream",
     "text": [
      "0                                                                                                                                                                                                                                                                                                                                                                                                                                                                                                                                                                                                                                                                                                                                                                                                                                                                                                                                                                                                                                                                                                                                                                                                                                                                                                                                                                                                                                                                                                                                                                                                                                                                                                                                                                                                                                                                                                                                                                                                                                                                                                                                                                                                                                                                                                                                                                                                                                                                                                                                                                                                                                                                                                                                                                                                                                                                                                                                                                                                                                                                                                                                                                                                                                                                                                                                                                                                                                                                                                                                                                                                                                                                                                                                                                                                                                                                                                                                                                                                                                                                                                                                                                                                                                                                                                                                                                                                                                                                                                                                                                                                                                                                                                                                                                                                                                                                                                                                                                                                                                                                                                                                                                                                                                                                                                                                                                                                                                                                                                                                                                                                                                                                                                                                                                                                                                                                                                                                                                                                                                                                                                                                                                                                                                                                                                                                                                                                                                                                                                                                                                                                                                                                                                                                                                                                                                                                                                                                                                                                                                                                                                                                                                                                                                                                                                                                                                                                                                                                                                                                                                                                                                                                                                                                                                                                                                                                                                                                                                                                                                                                                                                                                                                                                                                                                                                                                                                                                                                                                                                                                                                                                                                                                                                                                                                                                                                                                                                                                                                                                                                                                                                                                                                                                                                                                                                                                                                                                                                                                                                                                                                                                        NaN\n",
      "1    {'__typename': 'HospitalBase', 'id': '1934828030', 'name': '청구경희한의원 아현점', 'reviewSettings': {'__typename': 'ReviewSettings', 'keyword': '(청구경희한의원 아현점) & (마포구 | 아현동 | 한의원-일반) & \"청구경희한의원 아현점\"', 'blog': 1, 'cafe': 1, 'showVisitorReviewScore': True}, 'description': '안녕하세요. 청구경희한의원 아현점 입니다.\n",
      "\n",
      "추나요법 네트워크 청구경희한의원의 탄탄한 23년 추나요법 임상 노하우를 바탕으로 환자분들의 통증 및 체형 불균형, 교통사고후유증까지!\n",
      "\n",
      "목, 어깨, 허리, 골반, 턱관절 곳곳에서 발생되는 불편함을 치료해드립니다!\n",
      "\n",
      "추나요법 건강보험 적용 이전부터 20여년 추나요법 네트워크의 임상을 바탕으로 통증 및 교정을 아우르는 특화된 치료를 해오고 있습니다.\n",
      "\n",
      "추나요법은 2019년 부터 건강보험 적용을 통해 통증, 척추 질환을 부담없이 진료를 받으실 수 있게 되었습니다.\n",
      "\n",
      "대한한의사협회의 추나요법 교육을 이수하였으며, 오랜 진료 경험으로 서울시 마포구 아현동 , 공덕동 지역 주민 여러분의 건강지킴이가 되겠습니다.\n",
      "\n",
      "23년 전통, 평일밤 9시 야간진료 및 365일 연중무휴 진료 청구경희한의원 아현점의 이유 있는 자신감!\n",
      "\n",
      "비수술 추나요법, 척추, 골반, 체형교정. 일자목, 디스크, 턱관절질환, 골반교정, 통증클리닉, 교통사고후유증, 비만까지\n",
      "\n",
      "바른 체형이 만드는 통증없는 멋진 몸매, 청구경희한의원 아현점이 만들어 가겠습니다.\n",
      "\n",
      "청구경희한의원 아현점의 특화된 진료서비스를 만나보세요.\n",
      "\n",
      "통증과 함께 마음까지 치료하겠습니다.\n",
      "\n",
      "감사합니다.', 'road': '지하철 이용 시\n",
      "\n",
      "2호선 아현역 3번 출구 도보 2분\n",
      "5호선 애오개역 2번 출구 도보 5분\n",
      "\n",
      "자가용 이용 시\n",
      "\n",
      "한의원 앞 2대 주차 가능', 'bookingBusinessId': None, 'bookingDisplayName': '방문', 'category': '한의원', 'categoryCode': '223265', 'categoryCodeList': ['223175', '223176', '223187', '223260', '223265', '1004760', '1004380', '1002043'], 'defaultCategoryCodeList': ['223175', '223176', '223187', '223260', '223265'], 'categoryCount': 2, 'rcode': '09440101', 'streetPanorama': {'__ref': 'Panorama:bydPStvfMsdID2iv8PxqvA=='}, 'routeUrl': 'https://m.search.naver.com/search.naver?where=m&query=%EB%B9%A0%EB%A5%B8%EA%B8%B8%EC%B0%BE%EA%B8%B0&nso_path=placeType%5Eplace%3Bname%5E%3Baddress%5E%3Blatitude%5E%3Blongitude%5E%3Bcode%5E%7Ctype%5Eplace%3Bname%5E%EC%B2%AD%EA%B5%AC%EA%B2%BD%ED%9D%AC%ED%95%9C%EC%9D%98%EC%9B%90%20%EC%95%84%ED%98%84%EC%A0%90%3Baddress%5E%3Bcode%5E1934828030%3Blongitude%5E126.9554094869228%3Blatitude%5E37.55614258960924%7Cobjtype%5Epath%3Bby%5Epubtrans', 'virtualPhone': '', 'phone': '02-364-1080', 'naverBookingUrl': None, 'naverBookingHubUrl': None, 'bookingHubButtonName': None, 'conveniences': ['주차', '예약', '무선 인터넷', '남/녀 화장실 구분'], 'microReviews': None, 'themes': None, 'menuImages': None, 'menus': None, 'images': [{'__typename': 'Image', 'origin': 'https://ldb-phinf.pstatic.net/20231004_251/1696393065325f9ixp_JPEG/%BE%C6%C7%F6.jpg', 'number': None, 'infoTitle': '청구경희한의원 아현점 업체등록사진', 'url': None, 'desc': None, 'width': 600, 'height': 600, 'source': None}, {'__typename': 'Image', 'origin': 'https://ldb-phinf.pstatic.net/20211217_170/1639717280885fMh4y_JPEG/%BE%C6%C7%F6%C1%A1_%281%29.jpg', 'number': None, 'infoTitle': '청구경희한의원 아현점 업체등록사진', 'url': None, 'desc': None, 'width': 1080, 'height': 1440, 'source': None}, {'__typename': 'Image', 'origin': 'https://ldb-phinf.pstatic.net/20220727_203/1658929501171Tvf5W_JPEG/20220727_192510.jpg', 'number': None, 'infoTitle': '청구경희한의원 아현점 업체등록사진', 'url': None, 'desc': None, 'width': 3000, 'height': 4000, 'source': None}, {'__typename': 'Image', 'origin': 'https://ldb-phinf.pstatic.net/20211217_226/163971731621402N2S_JPEG/KakaoTalk_20211217_134846788_03.jpg', 'number': None, 'infoTitle': '청구경희한의원 아현점 업체등록사진', 'url': None, 'desc': None, 'width': 1440, 'height': 1440, 'source': None}, {'__typename': 'Image', 'origin': 'https://ldb-phinf.pstatic.net/20211217_268/1639717302379x7eF8_JPEG/KakaoTalk_20211217_134846788_02.jpg', 'number': None, 'infoTitle': '청구경희한의원 아현점 업체등록사진', 'url': None, 'desc': None, 'width': 4032, 'height': 3024, 'source': None}, {'__typename': 'Image', 'origin': 'https://ldb-phinf.pstatic.net/20211217_251/163971729514981Ar3_JPEG/KakaoTalk_20211217_134846788_01.jpg', 'number': None, 'infoTitle': '청구경희한의원 아현점 업체등록사진', 'url': None, 'desc': None, 'width': 2016, 'height': 1512, 'source': None}, {'__typename': 'Image', 'origin': 'https://ldb-phinf.pstatic.net/20220119_66/1642572346753o6B0f_JPEG/P20211215_114354497_BCB20F4B-3F09-4A50-A705-F0B43A6E3779.JPG', 'number': None, 'infoTitle': '청구경희한의원 아현점 업체등록사진', 'url': None, 'desc': None, 'width': 3672, 'height': 2066, 'source': None}, {'__typename': 'Image', 'origin': 'https://ldb-phinf.pstatic.net/20211217_258/1639717312481lMh23_JPEG/%BE%C6%C7%F6%C1%A1%284%29.jpg', 'number': None, 'infoTitle': '청구경희한의원 아현점 업체등록사진', 'url': None, 'desc': None, 'width': 1345, 'height': 1345, 'source': None}, {'__typename': 'Image', 'origin': 'https://ldb-phinf.pstatic.net/20230503_170/1683101498726DSScJ_JPEG/%BA%EA%B7%A3%B5%F9%B9%E8%B3%CA_%BA%ED%B7%E7.jpg', 'number': None, 'infoTitle': '청구경희한의원 아현점 업체등록사진', 'url': None, 'desc': None, 'width': 1080, 'height': 1080, 'source': None}, {'__typename': 'Image', 'origin': 'https://ldb-phinf.pstatic.net/20231004_132/1696393089851gKTGW_JPEG/%BA%EA%B7%A3%B5%F9%B9%E8%B3%CA_%C8%AD%C0%CC%C6%AE.jpg', 'number': None, 'infoTitle': '청구경희한의원 아현점 업체등록사진', 'url': None, 'desc': None, 'width': 1080, 'height': 1080, 'source': None}, {'__typename': 'Image', 'origin': 'https://ldb-phinf.pstatic.net/20220119_208/1642572778616SmR61_JPEG/P20211215_125125121_2A77D0F2-AAE8-478D-AD3B-18D2FA892477.JPG', 'number': None, 'infoTitle': '청구경희한의원 아현점 업체등록사진', 'url': None, 'desc': None, 'width': 3672, 'height': 2066, 'source': None}, {'__typename': 'Image', 'origin': 'https://ldb-phinf.pstatic.net/20220119_193/1642572764897P28x3_JPEG/P20211215_125049717_340BAE66-11E5-4C43-BECD-5E070AA1E5E6.JPG', 'number': None, 'infoTitle': '청구경희한의원 아현점 업체등록사진', 'url': None, 'desc': None, 'width': 3672, 'height': 2066, 'source': None}, {'__typename': 'Image', 'origin': 'https://ldb-phinf.pstatic.net/20220119_223/1642572772745q4PlO_JPEG/P20211215_125332483_6D03137A-6514-41BF-8C89-DD317322ED1A.JPG', 'number': None, 'infoTitle': '청구경희한의원 아현점 업체등록사진', 'url': None, 'desc': None, 'width': 3672, 'height': 2066, 'source': None}, {'__typename': 'Image', 'origin': 'https://ldb-phinf.pstatic.net/20220119_41/1642572822855WBSv1_JPEG/P20211215_125754337_DA8FD56C-8269-430B-8C32-1899A6CE96F7.JPG', 'number': None, 'infoTitle': '청구경희한의원 아현점 업체등록사진', 'url': None, 'desc': None, 'width': 3672, 'height': 2066, 'source': None}, {'__typename': 'Image', 'origin': 'https://ldb-phinf.pstatic.net/20220119_230/1642572751913ipBCW_JPEG/P20211215_125651165_24ACE6C6-EEF6-4942-A13D-38767D07A6FB.JPG', 'number': None, 'infoTitle': '청구경희한의원 아현점 업체등록사진', 'url': None, 'desc': None, 'width': 3672, 'height': 2066, 'source': None}, {'__typename': 'Image', 'origin': 'https://ldb-phinf.pstatic.net/20220119_1/1642572804310raY99_JPEG/P20211215_125632130_079D450F-07AF-4DC5-85A5-A6CC0A34247F.JPG', 'number': None, 'infoTitle': '청구경희한의원 아현점 업체등록사진', 'url': None, 'desc': None, 'width': 3672, 'height': 2066, 'source': None}], 'broadcastInfos': None, 'detailPath': '/hospitals/detail?id=1934828030&query=%EC%B2%AD%EA%B5%AC%EA%B2%BD%ED%9D%AC%ED%95%9C%EC%9D%98%EC%9B%90%20%EC%95%84%ED%98%84%EC%A0%90', 'isKtis': None, 'hasOfficialImages': True, 'imagesLastModified': '2023-10-04 13:19:00', 'imagesLastModifiedDate': '2023.10.04.', 'talktalkUrl': None, 'chatBotUrl': None, 'promotionTitle': None, 'naverBookingPromotion': None, 'zoomLevel': None, 'mapUrl': '/hospitals/detailMap?id=1934828030', 'giftCards': None, 'staticMapUrl': 'https://simg.pstatic.net/static.map/v2/map/staticmap.bin?center=126.9554094869228%2C37.55614258960924&level=16&dataversion=169.76&caller=naver_mstore&markers=pos%3A126.9554094869228%2037.55614258960924%7Ccolor%3Ablue', 'roadAddress': '서울 마포구 굴레방로 23-1 B1~지상2층 청구경희한의원 아현점', 'address': '아현동 291-2', 'cescoCheck': None, 'cescoLink': None, 'cescofsCheck': None, 'cescofsLink': None, 'moreBookingReviewsPath': None, 'moreUGCReviewsPath': '/hospitals/fsasReviews?id=1934828030&name=%EC%B2%AD%EA%B5%AC%EA%B2%BD%ED%9D%AC%ED%95%9C%EC%9D%98%EC%9B%90%20%EC%95%84%ED%98%84%EC%A0%90', 'moreFsasReviewsPath': None, 'morePhotosPath': '/hospitals/photos?id=1934828030', 'keywords': ['아현역한의원', '추나요법', '교통사고후유증', '골반교정', '턱관절'], 'reportWrongInfoType': 'type1', 'paymentInfo': ['지역화폐(카드,모바일)', '제로페이'], 'businessHours': None, 'coordinate': {'__typename': 'Coordinate', 'x': 126.9554094869228, 'y': 37.55614258960924, 'mapZoomLevel': 12}, 'naverBlog': {'__ref': 'BaseNaverBlog:kundaeclinic'}, 'homepages': {'__typename': 'Homepage', 'etc': [{'__typename': 'HomepageRepr', 'url': 'https://blog.naver.com/kundaeclinic', 'landingUrl': 'https://blog.naver.com/kundaeclinic', 'type': '블로그', 'order': 1, 'isDeadUrl': False, 'isRep': None}, {'__typename': 'HomepageRepr', 'url': 'https://www.instagram.com/bluehillclinic_official', 'landingUrl': 'https://www.instagram.com/bluehillclinic_official', 'type': '인스타그램', 'order': 2, 'isDeadUrl': False, 'isRep': None}], 'repr': {'__typename': 'HomepageRepr', 'url': 'http://ahyeon.bluehillclinic.com', 'landingUrl': 'http://ahyeon.bluehillclinic.com', 'isDeadUrl': False, 'type': '웹사이트', 'order': 0, 'isRep': None}}, 'poiInfo': {'__typename': 'PoiInfo', 'polyline': None, 'polygon': None}, 'visitorReviewsTotal': 121, 'visitorReviewsScore': 0, 'visitorReviewsTextReviewTotal': 121, 'is100YearCertified': None, 'siteId': 'sp_73b4ae332461ec', 'gifticonId': None, 'gifticonMoreUrl': None, 'missingInfo': {'__typename': 'MissingInfo', 'isBizHourMissing': True, 'isMenuImageMissing': False, 'isAccessorMissing': False, 'isBoss': False, 'isDescriptionMissing': False, 'isConveniencesMissing': False, 'needLargeSuggestionBanner': True}, 'bookingButtonName': '예약', 'coronaTreatmentTelNo': None, 'hasCoronaMedicalCenter': False, 'generalHospital': None}\n",
      "Name: HospitalBase:1934828030, dtype: object\n"
     ]
    }
   ],
   "source": [
    "temp = df['HospitalBase:1934828030']\n",
    "print(temp)"
   ]
  },
  {
   "cell_type": "code",
   "execution_count": 28,
   "metadata": {},
   "outputs": [
    {
     "name": "stdout",
     "output_type": "stream",
     "text": [
      "0                                                                                                                                                                                                                                                                                                                                                                                                                                                                                                                                                                                                                                                                                                                                                                                                                                                                                                                                                                                                                                                                                                                                                                                                                                                                                                                                                                                                                                                                                                                                                                                                                                                                                                                                   None\n",
      "1    (1934828030, 청구경희한의원 아현점, 지하철 이용 시\\n\\n2호선 아현역 3번 출구 도보 2분\\n5호선 애오개역 2번 출구 도보 5분\\n\\n자가용 이용 시\\n\\n한의원 앞 2대 주차 가능, {'__typename': 'ReviewSettings', 'keyword': '(청구경희한의원 아현점) & (마포구 | 아현동 | 한의원-일반) & \"청구경희한의원 아현점\"', 'blog': 1, 'cafe': 1, 'showVisitorReviewScore': True}, [주차, 예약, 무선 인터넷, 남/녀 화장실 구분], [아현역한의원, 추나요법, 교통사고후유증, 골반교정, 턱관절], 02-364-1080, , None, None, [지역화폐(카드,모바일), 제로페이], {'__typename': 'Homepage', 'etc': [{'__typename': 'HomepageRepr', 'url': 'https://blog.naver.com/kundaeclinic', 'landingUrl': 'https://blog.naver.com/kundaeclinic', 'type': '블로그', 'order': 1, 'isDeadUrl': False, 'isRep': None}, {'__typename': 'HomepageRepr', 'url': 'https://www.instagram.com/bluehillclinic_official', 'landingUrl': 'https://www.instagram.com/bluehillclinic_official', 'type': '인스타그램', 'order': 2, 'isDeadUrl': False, 'isRep': None}], 'repr': {'__typename': 'HomepageRepr', 'url': 'http://ahyeon.bluehillclinic.com', 'landingUrl': 'http://ahyeon.bluehillclinic.com', 'isDeadUrl': False, 'type': '웹사이트', 'order': 0, 'isRep': None}}, 121, 안녕하세요. 청구경희한의원 아현점 입니다.\\n\\n추나요법 네트워크 청구경희한의원의 탄탄한 23년 추나요법 임상 노하우를 바탕으로 환자분들의 통증 및 체형 불균형, 교통사고후유증까지!\\n\\n목, 어깨, 허리, 골반, 턱관절 곳곳에서 발생되는 불편함을 치료해드립니다!\\n\\n추나요법 건강보험 적용 이전부터 20여년 추나요법 네트워크의 임상을 바탕으로 통증 및 교정을 아우르는 특화된 치료를 해오고 있습니다.\\n\\n추나요법은 2019년 부터 건강보험 적용을 통해 통증, 척추 질환을 부담없이 진료를 받으실 수 있게 되었습니다.\\n\\n대한한의사협회의 추나요법 교육을 이수하였으며, 오랜 진료 경험으로 서울시 마포구 아현동 , 공덕동 지역 주민 여러분의 건강지킴이가 되겠습니다.\\n\\n23년 전통, 평일밤 9시 야간진료 및 365일 연중무휴 진료 청구경희한의원 아현점의 이유 있는 자신감!\\n\\n비수술 추나요법, 척추, 골반, 체형교정. 일자목, 디스크, 턱관절질환, 골반교정, 통증클리닉, 교통사고후유증, 비만까지\\n\\n바른 체형이 만드는 통증없는 멋진 몸매, 청구경희한의원 아현점이 만들어 가겠습니다.\\n\\n청구경희한의원 아현점의 특화된 진료서비스를 만나보세요.\\n\\n통증과 함께 마음까지 치료하겠습니다.\\n\\n감사합니다., None)\n",
      "Name: HospitalBase:1934828030, dtype: object\n"
     ]
    }
   ],
   "source": [
    "def extract_values(row):\n",
    "    if isinstance(row, dict):\n",
    "        values = row.get('id'), \\\n",
    "                 row.get('name'), \\\n",
    "                 row.get('road'), \\\n",
    "                 row.get('reviewSettings'), \\\n",
    "                 row.get('conveniences'), \\\n",
    "                 row.get('keywords'), \\\n",
    "                 row.get('phone'), \\\n",
    "                 row.get('virtualPhone'), \\\n",
    "                 row.get('naverBookingUrl'), \\\n",
    "                 row.get('talktalkUrl'), \\\n",
    "                 row.get('paymentInfo'), \\\n",
    "                 row.get('homepages'), \\\n",
    "                 row.get('visitorReviewsTotal'), \\\n",
    "                 row.get('description'), \\\n",
    "                 row.get('Images'), \n",
    "        return values\n",
    "\n",
    "\n",
    "extracted_values = df['HospitalBase:1934828030'].apply(lambda x: extract_values(x))\n",
    "print(extracted_values)\n"
   ]
  },
  {
   "cell_type": "code",
   "execution_count": 29,
   "metadata": {},
   "outputs": [
    {
     "ename": "ValueError",
     "evalue": "Shape of passed values is (2, 1), indices imply (2, 15)",
     "output_type": "error",
     "traceback": [
      "\u001b[0;31m---------------------------------------------------------------------------\u001b[0m",
      "\u001b[0;31mValueError\u001b[0m                                Traceback (most recent call last)",
      "\u001b[1;32m/Users/b06/Desktop/yeardream/medi-05/pyspark-local-test/pandas-json-test.ipynb Cell 5\u001b[0m line \u001b[0;36m4\n\u001b[1;32m      <a href='vscode-notebook-cell:/Users/b06/Desktop/yeardream/medi-05/pyspark-local-test/pandas-json-test.ipynb#X10sZmlsZQ%3D%3D?line=0'>1</a>\u001b[0m \u001b[39mimport\u001b[39;00m \u001b[39mpandas\u001b[39;00m \u001b[39mas\u001b[39;00m \u001b[39mpd\u001b[39;00m\n\u001b[1;32m      <a href='vscode-notebook-cell:/Users/b06/Desktop/yeardream/medi-05/pyspark-local-test/pandas-json-test.ipynb#X10sZmlsZQ%3D%3D?line=2'>3</a>\u001b[0m \u001b[39m# 데이터 프레임으로 변환\u001b[39;00m\n\u001b[0;32m----> <a href='vscode-notebook-cell:/Users/b06/Desktop/yeardream/medi-05/pyspark-local-test/pandas-json-test.ipynb#X10sZmlsZQ%3D%3D?line=3'>4</a>\u001b[0m extracted_df \u001b[39m=\u001b[39m pd\u001b[39m.\u001b[39;49mDataFrame(extracted_values\u001b[39m.\u001b[39;49mtolist(), columns\u001b[39m=\u001b[39;49m[\n\u001b[1;32m      <a href='vscode-notebook-cell:/Users/b06/Desktop/yeardream/medi-05/pyspark-local-test/pandas-json-test.ipynb#X10sZmlsZQ%3D%3D?line=4'>5</a>\u001b[0m     \u001b[39m'\u001b[39;49m\u001b[39mid\u001b[39;49m\u001b[39m'\u001b[39;49m, \u001b[39m'\u001b[39;49m\u001b[39mname\u001b[39;49m\u001b[39m'\u001b[39;49m, \u001b[39m'\u001b[39;49m\u001b[39mroad\u001b[39;49m\u001b[39m'\u001b[39;49m, \u001b[39m'\u001b[39;49m\u001b[39mreviewSettings\u001b[39;49m\u001b[39m'\u001b[39;49m, \u001b[39m'\u001b[39;49m\u001b[39mconveniences\u001b[39;49m\u001b[39m'\u001b[39;49m, \u001b[39m'\u001b[39;49m\u001b[39mkeywords\u001b[39;49m\u001b[39m'\u001b[39;49m, \u001b[39m'\u001b[39;49m\u001b[39mphone\u001b[39;49m\u001b[39m'\u001b[39;49m,\n\u001b[1;32m      <a href='vscode-notebook-cell:/Users/b06/Desktop/yeardream/medi-05/pyspark-local-test/pandas-json-test.ipynb#X10sZmlsZQ%3D%3D?line=5'>6</a>\u001b[0m     \u001b[39m'\u001b[39;49m\u001b[39mvirtualPhone\u001b[39;49m\u001b[39m'\u001b[39;49m, \u001b[39m'\u001b[39;49m\u001b[39mnaverBookingUrl\u001b[39;49m\u001b[39m'\u001b[39;49m, \u001b[39m'\u001b[39;49m\u001b[39mtalktalkUrl\u001b[39;49m\u001b[39m'\u001b[39;49m, \u001b[39m'\u001b[39;49m\u001b[39mpaymentInfo\u001b[39;49m\u001b[39m'\u001b[39;49m, \u001b[39m'\u001b[39;49m\u001b[39mhomepages\u001b[39;49m\u001b[39m'\u001b[39;49m, \n\u001b[1;32m      <a href='vscode-notebook-cell:/Users/b06/Desktop/yeardream/medi-05/pyspark-local-test/pandas-json-test.ipynb#X10sZmlsZQ%3D%3D?line=6'>7</a>\u001b[0m     \u001b[39m'\u001b[39;49m\u001b[39mvisitorReviewsTotal\u001b[39;49m\u001b[39m'\u001b[39;49m, \u001b[39m'\u001b[39;49m\u001b[39mdescription\u001b[39;49m\u001b[39m'\u001b[39;49m, \u001b[39m'\u001b[39;49m\u001b[39mImages\u001b[39;49m\u001b[39m'\u001b[39;49m\n\u001b[1;32m      <a href='vscode-notebook-cell:/Users/b06/Desktop/yeardream/medi-05/pyspark-local-test/pandas-json-test.ipynb#X10sZmlsZQ%3D%3D?line=7'>8</a>\u001b[0m ])\n\u001b[1;32m     <a href='vscode-notebook-cell:/Users/b06/Desktop/yeardream/medi-05/pyspark-local-test/pandas-json-test.ipynb#X10sZmlsZQ%3D%3D?line=9'>10</a>\u001b[0m \u001b[39m# 결과 데이터 프레임 확인\u001b[39;00m\n\u001b[1;32m     <a href='vscode-notebook-cell:/Users/b06/Desktop/yeardream/medi-05/pyspark-local-test/pandas-json-test.ipynb#X10sZmlsZQ%3D%3D?line=10'>11</a>\u001b[0m \u001b[39mprint\u001b[39m(extracted_df)\n",
      "File \u001b[0;32m/opt/homebrew/Caskroom/miniforge/base/envs/yeardream/lib/python3.10/site-packages/pandas/core/frame.py:797\u001b[0m, in \u001b[0;36mDataFrame.__init__\u001b[0;34m(self, data, index, columns, dtype, copy)\u001b[0m\n\u001b[1;32m    789\u001b[0m         mgr \u001b[39m=\u001b[39m arrays_to_mgr(\n\u001b[1;32m    790\u001b[0m             arrays,\n\u001b[1;32m    791\u001b[0m             columns,\n\u001b[0;32m   (...)\u001b[0m\n\u001b[1;32m    794\u001b[0m             typ\u001b[39m=\u001b[39mmanager,\n\u001b[1;32m    795\u001b[0m         )\n\u001b[1;32m    796\u001b[0m     \u001b[39melse\u001b[39;00m:\n\u001b[0;32m--> 797\u001b[0m         mgr \u001b[39m=\u001b[39m ndarray_to_mgr(\n\u001b[1;32m    798\u001b[0m             data,\n\u001b[1;32m    799\u001b[0m             index,\n\u001b[1;32m    800\u001b[0m             columns,\n\u001b[1;32m    801\u001b[0m             dtype\u001b[39m=\u001b[39;49mdtype,\n\u001b[1;32m    802\u001b[0m             copy\u001b[39m=\u001b[39;49mcopy,\n\u001b[1;32m    803\u001b[0m             typ\u001b[39m=\u001b[39;49mmanager,\n\u001b[1;32m    804\u001b[0m         )\n\u001b[1;32m    805\u001b[0m \u001b[39melse\u001b[39;00m:\n\u001b[1;32m    806\u001b[0m     mgr \u001b[39m=\u001b[39m dict_to_mgr(\n\u001b[1;32m    807\u001b[0m         {},\n\u001b[1;32m    808\u001b[0m         index,\n\u001b[0;32m   (...)\u001b[0m\n\u001b[1;32m    811\u001b[0m         typ\u001b[39m=\u001b[39mmanager,\n\u001b[1;32m    812\u001b[0m     )\n",
      "File \u001b[0;32m/opt/homebrew/Caskroom/miniforge/base/envs/yeardream/lib/python3.10/site-packages/pandas/core/internals/construction.py:337\u001b[0m, in \u001b[0;36mndarray_to_mgr\u001b[0;34m(values, index, columns, dtype, copy, typ)\u001b[0m\n\u001b[1;32m    332\u001b[0m \u001b[39m# _prep_ndarraylike ensures that values.ndim == 2 at this point\u001b[39;00m\n\u001b[1;32m    333\u001b[0m index, columns \u001b[39m=\u001b[39m _get_axes(\n\u001b[1;32m    334\u001b[0m     values\u001b[39m.\u001b[39mshape[\u001b[39m0\u001b[39m], values\u001b[39m.\u001b[39mshape[\u001b[39m1\u001b[39m], index\u001b[39m=\u001b[39mindex, columns\u001b[39m=\u001b[39mcolumns\n\u001b[1;32m    335\u001b[0m )\n\u001b[0;32m--> 337\u001b[0m _check_values_indices_shape_match(values, index, columns)\n\u001b[1;32m    339\u001b[0m \u001b[39mif\u001b[39;00m typ \u001b[39m==\u001b[39m \u001b[39m\"\u001b[39m\u001b[39marray\u001b[39m\u001b[39m\"\u001b[39m:\n\u001b[1;32m    340\u001b[0m     \u001b[39mif\u001b[39;00m \u001b[39missubclass\u001b[39m(values\u001b[39m.\u001b[39mdtype\u001b[39m.\u001b[39mtype, \u001b[39mstr\u001b[39m):\n",
      "File \u001b[0;32m/opt/homebrew/Caskroom/miniforge/base/envs/yeardream/lib/python3.10/site-packages/pandas/core/internals/construction.py:408\u001b[0m, in \u001b[0;36m_check_values_indices_shape_match\u001b[0;34m(values, index, columns)\u001b[0m\n\u001b[1;32m    406\u001b[0m passed \u001b[39m=\u001b[39m values\u001b[39m.\u001b[39mshape\n\u001b[1;32m    407\u001b[0m implied \u001b[39m=\u001b[39m (\u001b[39mlen\u001b[39m(index), \u001b[39mlen\u001b[39m(columns))\n\u001b[0;32m--> 408\u001b[0m \u001b[39mraise\u001b[39;00m \u001b[39mValueError\u001b[39;00m(\u001b[39mf\u001b[39m\u001b[39m\"\u001b[39m\u001b[39mShape of passed values is \u001b[39m\u001b[39m{\u001b[39;00mpassed\u001b[39m}\u001b[39;00m\u001b[39m, indices imply \u001b[39m\u001b[39m{\u001b[39;00mimplied\u001b[39m}\u001b[39;00m\u001b[39m\"\u001b[39m)\n",
      "\u001b[0;31mValueError\u001b[0m: Shape of passed values is (2, 1), indices imply (2, 15)"
     ]
    }
   ],
   "source": [
    "import pandas as pd\n",
    "\n",
    "# 데이터 프레임으로 변환\n",
    "extracted_df = pd.DataFrame(extracted_values.tolist(), columns=[\n",
    "    'id', 'name', 'road', 'reviewSettings', 'conveniences', 'keywords', 'phone',\n",
    "    'virtualPhone', 'naverBookingUrl', 'talktalkUrl', 'paymentInfo', 'homepages', \n",
    "    'visitorReviewsTotal', 'description', 'Images'\n",
    "])\n",
    "\n",
    "# 결과 데이터 프레임 확인\n",
    "print(extracted_df)"
   ]
  },
  {
   "cell_type": "code",
   "execution_count": null,
   "metadata": {},
   "outputs": [],
   "source": []
  }
 ],
 "metadata": {
  "kernelspec": {
   "display_name": "yeardream",
   "language": "python",
   "name": "python3"
  },
  "language_info": {
   "codemirror_mode": {
    "name": "ipython",
    "version": 3
   },
   "file_extension": ".py",
   "mimetype": "text/x-python",
   "name": "python",
   "nbconvert_exporter": "python",
   "pygments_lexer": "ipython3",
   "version": "3.10.9"
  }
 },
 "nbformat": 4,
 "nbformat_minor": 2
}
