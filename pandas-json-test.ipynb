{
 "cells": [
  {
   "cell_type": "code",
   "execution_count": 21,
   "metadata": {},
   "outputs": [],
   "source": [
    "import pandas as pd\n",
    "import re\n",
    "\n",
    "# 파일 경로\n",
    "file_path = '/Users/b06/Desktop/yeardream/medi-05/data/naverplace_meta_all.json'\n",
    "\n",
    "\n",
    "pd.set_option('display.max_colwidth', None)  # 컬럼 너비 제한 해제\n",
    "pd.set_option('display.max_rows', None)  # 행의 수 제한 해제\n",
    "\n",
    "\n",
    "# JSON 파일을 읽어 DataFrame으로 변환\n",
    "df = pd.read_json(file_path)"
   ]
  },
  {
   "cell_type": "code",
   "execution_count": null,
   "metadata": {},
   "outputs": [
    {
     "data": {
      "text/plain": [
       "Index(['ROOT_QUERY', 'Panorama:bydPStvfMsdID2iv8PxqvA==',\n",
       "       'BaseNaverBlog:kundaeclinic', 'HospitalBase:1934828030',\n",
       "       'FsasReview:blog_청구경희한의원 아현점_223227655592_공덕동교통사고후유증 더 이상 미루지 말고',\n",
       "       'FsasReview:blog_청구경희한의원 아현점_223218840741_공덕역일요일진료 사고가 생겼다면',\n",
       "       'FsasReview:blog_청구경희한의원 아현점_223222015488_아현공휴일한의원 추석 진료 안내',\n",
       "       'SubwayStationInfo:242', 'SubwayStationInfo:530',\n",
       "       'SubwayStationInfo:531', 'SubwayStationInfo:243',\n",
       "       'SubwayStationInfo:241', 'InnerRoute:1507', 'BusStation:93484',\n",
       "       'BusStation:194123', 'InnerRoute:907', 'InnerRoute:909',\n",
       "       'InnerRoute:988', 'InnerRoute:989', 'InnerRoute:941', 'InnerRoute:1073',\n",
       "       'InnerRoute:1166', 'InnerRoute:1168', 'InnerRoute:1259',\n",
       "       'InnerRoute:1275', 'InnerRoute:510', 'InnerRoute:11036981',\n",
       "       'InnerRoute:576', 'InnerRoute:11036997', 'InnerRoute:11036973',\n",
       "       'InnerRoute:1242', 'InnerRoute:1248', 'InnerRoute:13003',\n",
       "       'InnerRoute:21129', 'InnerRoute:21207', 'InnerRoute:21149',\n",
       "       'InnerRoute:21213', 'InnerRoute:21240', 'InnerRoute:21210',\n",
       "       'InnerRoute:11038300', 'BusStation:86157', 'InnerRoute:1564',\n",
       "       'BusStation:194124', 'InnerRoute:1278', 'BusStation:104231',\n",
       "       'InnerRoute:1370', 'BusStation:86158', 'VisitorReviewAuthor:3rYQ1',\n",
       "       'VisitorReview:651be62e95273ea3ae925d34', 'VisitorReviewAuthor:5nKO',\n",
       "       'VisitorReview:6514d72716e7b0976bab28d7',\n",
       "       'VisitorReview:651249771a24e0b7fae3cfb2',\n",
       "       'VisitorReviewStatsResult:1934828030'],\n",
       "      dtype='object')"
      ]
     },
     "execution_count": 19,
     "metadata": {},
     "output_type": "execute_result"
    }
   ],
   "source": [
    "df.columns"
   ]
  },
  {
   "cell_type": "code",
   "execution_count": 20,
   "metadata": {},
   "outputs": [
    {
     "data": {
      "text/plain": [
       "0                                                                                                                                                                                                                                                                                                                                                                                                                                                                                                                                                                                                                                                                                                                                                                                                                                                                                                                                                                                                                                                                                                                                                                                                                                                                                                                                                                                                                                                                                                                                                                                                                                                                                                                                                                                                                                                                                                                                                                                                                                                                                                                                                                                                                                                                                                                                                                                                                                                                                                                                                                                                                                                                                                                                                                                                                                                                                                                                                                                                                                                                                                                                                                                                                                                                                                                                                                                                                                                                                                                                                                                                                                                                                                                                                                                                                                                                                                                                                                                                                                                                                                                                                                                                                                                                                                                                                                                                                                                                                                                                                                                                                                                                                                                                                                                                                                                                                                                                                                                                                                                                                                                                                                                                                                                                                                                                                                                                                                                                                                                                                                                                                                                                                                                                                                                                                                                                                                                                                                                                                                                                                                                                                                                                                                                                                                                                                                                                                                                                                                                                                                                                                                                                                                                                                                                                                                                                                                                                                                                                                                                                                                                                                                                                                                                                                                                                                                                                                                                                                                                                                                                                                                                                                                                                                                                                                                                                                                                                                                                                                                                                                                                                                                                                                                                                                                                                                                                                                                                                                                                                                                                                                                                                                                                                                                                                                                                                                                                                                                                                                                                                                                                                                                                                                                                                                                                                                                                                                                                                                                                                                                                                                        NaN\n",
       "1    {'__typename': 'HospitalBase', 'id': '1934828030', 'name': '청구경희한의원 아현점', 'reviewSettings': {'__typename': 'ReviewSettings', 'keyword': '(청구경희한의원 아현점) & (마포구 | 아현동 | 한의원-일반) & \"청구경희한의원 아현점\"', 'blog': 1, 'cafe': 1, 'showVisitorReviewScore': True}, 'description': '안녕하세요. 청구경희한의원 아현점 입니다.\n",
       "\n",
       "추나요법 네트워크 청구경희한의원의 탄탄한 23년 추나요법 임상 노하우를 바탕으로 환자분들의 통증 및 체형 불균형, 교통사고후유증까지!\n",
       "\n",
       "목, 어깨, 허리, 골반, 턱관절 곳곳에서 발생되는 불편함을 치료해드립니다!\n",
       "\n",
       "추나요법 건강보험 적용 이전부터 20여년 추나요법 네트워크의 임상을 바탕으로 통증 및 교정을 아우르는 특화된 치료를 해오고 있습니다.\n",
       "\n",
       "추나요법은 2019년 부터 건강보험 적용을 통해 통증, 척추 질환을 부담없이 진료를 받으실 수 있게 되었습니다.\n",
       "\n",
       "대한한의사협회의 추나요법 교육을 이수하였으며, 오랜 진료 경험으로 서울시 마포구 아현동 , 공덕동 지역 주민 여러분의 건강지킴이가 되겠습니다.\n",
       "\n",
       "23년 전통, 평일밤 9시 야간진료 및 365일 연중무휴 진료 청구경희한의원 아현점의 이유 있는 자신감!\n",
       "\n",
       "비수술 추나요법, 척추, 골반, 체형교정. 일자목, 디스크, 턱관절질환, 골반교정, 통증클리닉, 교통사고후유증, 비만까지\n",
       "\n",
       "바른 체형이 만드는 통증없는 멋진 몸매, 청구경희한의원 아현점이 만들어 가겠습니다.\n",
       "\n",
       "청구경희한의원 아현점의 특화된 진료서비스를 만나보세요.\n",
       "\n",
       "통증과 함께 마음까지 치료하겠습니다.\n",
       "\n",
       "감사합니다.', 'road': '지하철 이용 시\n",
       "\n",
       "2호선 아현역 3번 출구 도보 2분\n",
       "5호선 애오개역 2번 출구 도보 5분\n",
       "\n",
       "자가용 이용 시\n",
       "\n",
       "한의원 앞 2대 주차 가능', 'bookingBusinessId': None, 'bookingDisplayName': '방문', 'category': '한의원', 'categoryCode': '223265', 'categoryCodeList': ['223175', '223176', '223187', '223260', '223265', '1004760', '1004380', '1002043'], 'defaultCategoryCodeList': ['223175', '223176', '223187', '223260', '223265'], 'categoryCount': 2, 'rcode': '09440101', 'streetPanorama': {'__ref': 'Panorama:bydPStvfMsdID2iv8PxqvA=='}, 'routeUrl': 'https://m.search.naver.com/search.naver?where=m&query=%EB%B9%A0%EB%A5%B8%EA%B8%B8%EC%B0%BE%EA%B8%B0&nso_path=placeType%5Eplace%3Bname%5E%3Baddress%5E%3Blatitude%5E%3Blongitude%5E%3Bcode%5E%7Ctype%5Eplace%3Bname%5E%EC%B2%AD%EA%B5%AC%EA%B2%BD%ED%9D%AC%ED%95%9C%EC%9D%98%EC%9B%90%20%EC%95%84%ED%98%84%EC%A0%90%3Baddress%5E%3Bcode%5E1934828030%3Blongitude%5E126.9554094869228%3Blatitude%5E37.55614258960924%7Cobjtype%5Epath%3Bby%5Epubtrans', 'virtualPhone': '', 'phone': '02-364-1080', 'naverBookingUrl': None, 'naverBookingHubUrl': None, 'bookingHubButtonName': None, 'conveniences': ['주차', '예약', '무선 인터넷', '남/녀 화장실 구분'], 'microReviews': None, 'themes': None, 'menuImages': None, 'menus': None, 'images': [{'__typename': 'Image', 'origin': 'https://ldb-phinf.pstatic.net/20231004_251/1696393065325f9ixp_JPEG/%BE%C6%C7%F6.jpg', 'number': None, 'infoTitle': '청구경희한의원 아현점 업체등록사진', 'url': None, 'desc': None, 'width': 600, 'height': 600, 'source': None}, {'__typename': 'Image', 'origin': 'https://ldb-phinf.pstatic.net/20211217_170/1639717280885fMh4y_JPEG/%BE%C6%C7%F6%C1%A1_%281%29.jpg', 'number': None, 'infoTitle': '청구경희한의원 아현점 업체등록사진', 'url': None, 'desc': None, 'width': 1080, 'height': 1440, 'source': None}, {'__typename': 'Image', 'origin': 'https://ldb-phinf.pstatic.net/20220727_203/1658929501171Tvf5W_JPEG/20220727_192510.jpg', 'number': None, 'infoTitle': '청구경희한의원 아현점 업체등록사진', 'url': None, 'desc': None, 'width': 3000, 'height': 4000, 'source': None}, {'__typename': 'Image', 'origin': 'https://ldb-phinf.pstatic.net/20211217_226/163971731621402N2S_JPEG/KakaoTalk_20211217_134846788_03.jpg', 'number': None, 'infoTitle': '청구경희한의원 아현점 업체등록사진', 'url': None, 'desc': None, 'width': 1440, 'height': 1440, 'source': None}, {'__typename': 'Image', 'origin': 'https://ldb-phinf.pstatic.net/20211217_268/1639717302379x7eF8_JPEG/KakaoTalk_20211217_134846788_02.jpg', 'number': None, 'infoTitle': '청구경희한의원 아현점 업체등록사진', 'url': None, 'desc': None, 'width': 4032, 'height': 3024, 'source': None}, {'__typename': 'Image', 'origin': 'https://ldb-phinf.pstatic.net/20211217_251/163971729514981Ar3_JPEG/KakaoTalk_20211217_134846788_01.jpg', 'number': None, 'infoTitle': '청구경희한의원 아현점 업체등록사진', 'url': None, 'desc': None, 'width': 2016, 'height': 1512, 'source': None}, {'__typename': 'Image', 'origin': 'https://ldb-phinf.pstatic.net/20220119_66/1642572346753o6B0f_JPEG/P20211215_114354497_BCB20F4B-3F09-4A50-A705-F0B43A6E3779.JPG', 'number': None, 'infoTitle': '청구경희한의원 아현점 업체등록사진', 'url': None, 'desc': None, 'width': 3672, 'height': 2066, 'source': None}, {'__typename': 'Image', 'origin': 'https://ldb-phinf.pstatic.net/20211217_258/1639717312481lMh23_JPEG/%BE%C6%C7%F6%C1%A1%284%29.jpg', 'number': None, 'infoTitle': '청구경희한의원 아현점 업체등록사진', 'url': None, 'desc': None, 'width': 1345, 'height': 1345, 'source': None}, {'__typename': 'Image', 'origin': 'https://ldb-phinf.pstatic.net/20230503_170/1683101498726DSScJ_JPEG/%BA%EA%B7%A3%B5%F9%B9%E8%B3%CA_%BA%ED%B7%E7.jpg', 'number': None, 'infoTitle': '청구경희한의원 아현점 업체등록사진', 'url': None, 'desc': None, 'width': 1080, 'height': 1080, 'source': None}, {'__typename': 'Image', 'origin': 'https://ldb-phinf.pstatic.net/20231004_132/1696393089851gKTGW_JPEG/%BA%EA%B7%A3%B5%F9%B9%E8%B3%CA_%C8%AD%C0%CC%C6%AE.jpg', 'number': None, 'infoTitle': '청구경희한의원 아현점 업체등록사진', 'url': None, 'desc': None, 'width': 1080, 'height': 1080, 'source': None}, {'__typename': 'Image', 'origin': 'https://ldb-phinf.pstatic.net/20220119_208/1642572778616SmR61_JPEG/P20211215_125125121_2A77D0F2-AAE8-478D-AD3B-18D2FA892477.JPG', 'number': None, 'infoTitle': '청구경희한의원 아현점 업체등록사진', 'url': None, 'desc': None, 'width': 3672, 'height': 2066, 'source': None}, {'__typename': 'Image', 'origin': 'https://ldb-phinf.pstatic.net/20220119_193/1642572764897P28x3_JPEG/P20211215_125049717_340BAE66-11E5-4C43-BECD-5E070AA1E5E6.JPG', 'number': None, 'infoTitle': '청구경희한의원 아현점 업체등록사진', 'url': None, 'desc': None, 'width': 3672, 'height': 2066, 'source': None}, {'__typename': 'Image', 'origin': 'https://ldb-phinf.pstatic.net/20220119_223/1642572772745q4PlO_JPEG/P20211215_125332483_6D03137A-6514-41BF-8C89-DD317322ED1A.JPG', 'number': None, 'infoTitle': '청구경희한의원 아현점 업체등록사진', 'url': None, 'desc': None, 'width': 3672, 'height': 2066, 'source': None}, {'__typename': 'Image', 'origin': 'https://ldb-phinf.pstatic.net/20220119_41/1642572822855WBSv1_JPEG/P20211215_125754337_DA8FD56C-8269-430B-8C32-1899A6CE96F7.JPG', 'number': None, 'infoTitle': '청구경희한의원 아현점 업체등록사진', 'url': None, 'desc': None, 'width': 3672, 'height': 2066, 'source': None}, {'__typename': 'Image', 'origin': 'https://ldb-phinf.pstatic.net/20220119_230/1642572751913ipBCW_JPEG/P20211215_125651165_24ACE6C6-EEF6-4942-A13D-38767D07A6FB.JPG', 'number': None, 'infoTitle': '청구경희한의원 아현점 업체등록사진', 'url': None, 'desc': None, 'width': 3672, 'height': 2066, 'source': None}, {'__typename': 'Image', 'origin': 'https://ldb-phinf.pstatic.net/20220119_1/1642572804310raY99_JPEG/P20211215_125632130_079D450F-07AF-4DC5-85A5-A6CC0A34247F.JPG', 'number': None, 'infoTitle': '청구경희한의원 아현점 업체등록사진', 'url': None, 'desc': None, 'width': 3672, 'height': 2066, 'source': None}], 'broadcastInfos': None, 'detailPath': '/hospitals/detail?id=1934828030&query=%EC%B2%AD%EA%B5%AC%EA%B2%BD%ED%9D%AC%ED%95%9C%EC%9D%98%EC%9B%90%20%EC%95%84%ED%98%84%EC%A0%90', 'isKtis': None, 'hasOfficialImages': True, 'imagesLastModified': '2023-10-04 13:19:00', 'imagesLastModifiedDate': '2023.10.04.', 'talktalkUrl': None, 'chatBotUrl': None, 'promotionTitle': None, 'naverBookingPromotion': None, 'zoomLevel': None, 'mapUrl': '/hospitals/detailMap?id=1934828030', 'giftCards': None, 'staticMapUrl': 'https://simg.pstatic.net/static.map/v2/map/staticmap.bin?center=126.9554094869228%2C37.55614258960924&level=16&dataversion=169.76&caller=naver_mstore&markers=pos%3A126.9554094869228%2037.55614258960924%7Ccolor%3Ablue', 'roadAddress': '서울 마포구 굴레방로 23-1 B1~지상2층 청구경희한의원 아현점', 'address': '아현동 291-2', 'cescoCheck': None, 'cescoLink': None, 'cescofsCheck': None, 'cescofsLink': None, 'moreBookingReviewsPath': None, 'moreUGCReviewsPath': '/hospitals/fsasReviews?id=1934828030&name=%EC%B2%AD%EA%B5%AC%EA%B2%BD%ED%9D%AC%ED%95%9C%EC%9D%98%EC%9B%90%20%EC%95%84%ED%98%84%EC%A0%90', 'moreFsasReviewsPath': None, 'morePhotosPath': '/hospitals/photos?id=1934828030', 'keywords': ['아현역한의원', '추나요법', '교통사고후유증', '골반교정', '턱관절'], 'reportWrongInfoType': 'type1', 'paymentInfo': ['지역화폐(카드,모바일)', '제로페이'], 'businessHours': None, 'coordinate': {'__typename': 'Coordinate', 'x': 126.9554094869228, 'y': 37.55614258960924, 'mapZoomLevel': 12}, 'naverBlog': {'__ref': 'BaseNaverBlog:kundaeclinic'}, 'homepages': {'__typename': 'Homepage', 'etc': [{'__typename': 'HomepageRepr', 'url': 'https://blog.naver.com/kundaeclinic', 'landingUrl': 'https://blog.naver.com/kundaeclinic', 'type': '블로그', 'order': 1, 'isDeadUrl': False, 'isRep': None}, {'__typename': 'HomepageRepr', 'url': 'https://www.instagram.com/bluehillclinic_official', 'landingUrl': 'https://www.instagram.com/bluehillclinic_official', 'type': '인스타그램', 'order': 2, 'isDeadUrl': False, 'isRep': None}], 'repr': {'__typename': 'HomepageRepr', 'url': 'http://ahyeon.bluehillclinic.com', 'landingUrl': 'http://ahyeon.bluehillclinic.com', 'isDeadUrl': False, 'type': '웹사이트', 'order': 0, 'isRep': None}}, 'poiInfo': {'__typename': 'PoiInfo', 'polyline': None, 'polygon': None}, 'visitorReviewsTotal': 121, 'visitorReviewsScore': 0, 'visitorReviewsTextReviewTotal': 121, 'is100YearCertified': None, 'siteId': 'sp_73b4ae332461ec', 'gifticonId': None, 'gifticonMoreUrl': None, 'missingInfo': {'__typename': 'MissingInfo', 'isBizHourMissing': True, 'isMenuImageMissing': False, 'isAccessorMissing': False, 'isBoss': False, 'isDescriptionMissing': False, 'isConveniencesMissing': False, 'needLargeSuggestionBanner': True}, 'bookingButtonName': '예약', 'coronaTreatmentTelNo': None, 'hasCoronaMedicalCenter': False, 'generalHospital': None}\n",
       "Name: HospitalBase:1934828030, dtype: object"
      ]
     },
     "execution_count": 20,
     "metadata": {},
     "output_type": "execute_result"
    }
   ],
   "source": [
    "temp = df['HospitalBase:1934828030']\n",
    "temp"
   ]
  },
  {
   "cell_type": "code",
   "execution_count": 3,
   "metadata": {},
   "outputs": [],
   "source": [
    "def extract_values(row):\n",
    "    if isinstance(row, dict):\n",
    "        values = row.get('id'), \\\n",
    "                 row.get('name'), \\\n",
    "                 row.get('road'), \\\n",
    "                 row.get('reviewSettings'), \\\n",
    "                 row.get('conveniences'), \\\n",
    "                 row.get('keywords'), \\\n",
    "                 row.get('phone'), \\\n",
    "                 row.get('virtualPhone'), \\\n",
    "                 row.get('naverBookingUrl'), \\\n",
    "                 row.get('talktalkUrl'), \\\n",
    "                 row.get('paymentInfo'), \\\n",
    "                 row.get('homepages'), \\\n",
    "                 row.get('visitorReviewsTotal'), \\\n",
    "                 row.get('description'), \\\n",
    "                 row.get('Images')\n",
    "        return values\n",
    "    return [None]*15"
   ]
  },
  {
   "cell_type": "code",
   "execution_count": 4,
   "metadata": {},
   "outputs": [
    {
     "data": {
      "text/html": [
       "<div>\n",
       "<style scoped>\n",
       "    .dataframe tbody tr th:only-of-type {\n",
       "        vertical-align: middle;\n",
       "    }\n",
       "\n",
       "    .dataframe tbody tr th {\n",
       "        vertical-align: top;\n",
       "    }\n",
       "\n",
       "    .dataframe thead th {\n",
       "        text-align: right;\n",
       "    }\n",
       "</style>\n",
       "<table border=\"1\" class=\"dataframe\">\n",
       "  <thead>\n",
       "    <tr style=\"text-align: right;\">\n",
       "      <th></th>\n",
       "      <th>id</th>\n",
       "      <th>name</th>\n",
       "      <th>road</th>\n",
       "      <th>reviewSettings</th>\n",
       "      <th>conveniences</th>\n",
       "      <th>keywords</th>\n",
       "      <th>phone</th>\n",
       "      <th>virtualPhone</th>\n",
       "      <th>naverBookingUrl</th>\n",
       "      <th>talktalkUrl</th>\n",
       "      <th>paymentInfo</th>\n",
       "      <th>homepages</th>\n",
       "      <th>visitorReviewsTotal</th>\n",
       "      <th>description</th>\n",
       "      <th>Images</th>\n",
       "    </tr>\n",
       "  </thead>\n",
       "  <tbody>\n",
       "    <tr>\n",
       "      <th>0</th>\n",
       "      <td>1934828030</td>\n",
       "      <td>청구경희한의원 아현점</td>\n",
       "      <td>지하철 이용 시\\n\\n2호선 아현역 3번 출구 도보 2분\\n5호선 애오개역 2번 출구 도보 5분\\n\\n자가용 이용 시\\n\\n한의원 앞 2대 주차 가능</td>\n",
       "      <td>{'__typename': 'ReviewSettings', 'keyword': '(청구경희한의원 아현점) &amp; (마포구 | 아현동 | 한의원-일반) &amp; \"청구경희한의원 아현점\"', 'blog': 1, 'cafe': 1, 'showVisitorReviewScore': True}</td>\n",
       "      <td>[주차, 예약, 무선 인터넷, 남/녀 화장실 구분]</td>\n",
       "      <td>[아현역한의원, 추나요법, 교통사고후유증, 골반교정, 턱관절]</td>\n",
       "      <td>02-364-1080</td>\n",
       "      <td></td>\n",
       "      <td>None</td>\n",
       "      <td>None</td>\n",
       "      <td>[지역화폐(카드,모바일), 제로페이]</td>\n",
       "      <td>{'__typename': 'Homepage', 'etc': [{'__typename': 'HomepageRepr', 'url': 'https://blog.naver.com/kundaeclinic', 'landingUrl': 'https://blog.naver.com/kundaeclinic', 'type': '블로그', 'order': 1, 'isDeadUrl': False, 'isRep': None}, {'__typename': 'HomepageRepr', 'url': 'https://www.instagram.com/bluehillclinic_official', 'landingUrl': 'https://www.instagram.com/bluehillclinic_official', 'type': '인스타그램', 'order': 2, 'isDeadUrl': False, 'isRep': None}], 'repr': {'__typename': 'HomepageRepr', 'url': 'http://ahyeon.bluehillclinic.com', 'landingUrl': 'http://ahyeon.bluehillclinic.com', 'isDeadUrl': False, 'type': '웹사이트', 'order': 0, 'isRep': None}}</td>\n",
       "      <td>121.0</td>\n",
       "      <td>안녕하세요. 청구경희한의원 아현점 입니다.\\n\\n추나요법 네트워크 청구경희한의원의 탄탄한 23년 추나요법 임상 노하우를 바탕으로 환자분들의 통증 및 체형 불균형, 교통사고후유증까지!\\n\\n목, 어깨, 허리, 골반, 턱관절 곳곳에서 발생되는 불편함을 치료해드립니다!\\n\\n추나요법 건강보험 적용 이전부터 20여년 추나요법 네트워크의 임상을 바탕으로 통증 및 교정을 아우르는 특화된 치료를 해오고 있습니다.\\n\\n추나요법은 2019년 부터 건강보험 적용을 통해 통증, 척추 질환을 부담없이 진료를 받으실 수 있게 되었습니다.\\n\\n대한한의사협회의 추나요법 교육을 이수하였으며, 오랜 진료 경험으로 서울시 마포구 아현동 , 공덕동 지역 주민 여러분의 건강지킴이가 되겠습니다.\\n\\n23년 전통, 평일밤 9시 야간진료 및 365일 연중무휴 진료 청구경희한의원 아현점의 이유 있는 자신감!\\n\\n비수술 추나요법, 척추, 골반, 체형교정. 일자목, 디스크, 턱관절질환, 골반교정, 통증클리닉, 교통사고후유증, 비만까지\\n\\n바른 체형이 만드는 통증없는 멋진 몸매, 청구경희한의원 아현점이 만들어 가겠습니다.\\n\\n청구경희한의원 아현점의 특화된 진료서비스를 만나보세요.\\n\\n통증과 함께 마음까지 치료하겠습니다.\\n\\n감사합니다.</td>\n",
       "      <td>None</td>\n",
       "    </tr>\n",
       "  </tbody>\n",
       "</table>\n",
       "</div>"
      ],
      "text/plain": [
       "           id         name   \n",
       "0  1934828030  청구경희한의원 아현점  \\\n",
       "\n",
       "                                                                                  road   \n",
       "0  지하철 이용 시\\n\\n2호선 아현역 3번 출구 도보 2분\\n5호선 애오개역 2번 출구 도보 5분\\n\\n자가용 이용 시\\n\\n한의원 앞 2대 주차 가능  \\\n",
       "\n",
       "                                                                                                                                              reviewSettings   \n",
       "0  {'__typename': 'ReviewSettings', 'keyword': '(청구경희한의원 아현점) & (마포구 | 아현동 | 한의원-일반) & \"청구경희한의원 아현점\"', 'blog': 1, 'cafe': 1, 'showVisitorReviewScore': True}  \\\n",
       "\n",
       "                   conveniences                            keywords   \n",
       "0  [주차, 예약, 무선 인터넷, 남/녀 화장실 구분]  [아현역한의원, 추나요법, 교통사고후유증, 골반교정, 턱관절]  \\\n",
       "\n",
       "         phone virtualPhone naverBookingUrl talktalkUrl           paymentInfo   \n",
       "0  02-364-1080                         None        None  [지역화폐(카드,모바일), 제로페이]  \\\n",
       "\n",
       "                                                                                                                                                                                                                                                                                                                                                                                                                                                                                                                                                                                                                                                                 homepages   \n",
       "0  {'__typename': 'Homepage', 'etc': [{'__typename': 'HomepageRepr', 'url': 'https://blog.naver.com/kundaeclinic', 'landingUrl': 'https://blog.naver.com/kundaeclinic', 'type': '블로그', 'order': 1, 'isDeadUrl': False, 'isRep': None}, {'__typename': 'HomepageRepr', 'url': 'https://www.instagram.com/bluehillclinic_official', 'landingUrl': 'https://www.instagram.com/bluehillclinic_official', 'type': '인스타그램', 'order': 2, 'isDeadUrl': False, 'isRep': None}], 'repr': {'__typename': 'HomepageRepr', 'url': 'http://ahyeon.bluehillclinic.com', 'landingUrl': 'http://ahyeon.bluehillclinic.com', 'isDeadUrl': False, 'type': '웹사이트', 'order': 0, 'isRep': None}}  \\\n",
       "\n",
       "   visitorReviewsTotal   \n",
       "0                121.0  \\\n",
       "\n",
       "                                                                                                                                                                                                                                                                                                                                                                                                                                                                                                                                                                                                                                         description   \n",
       "0  안녕하세요. 청구경희한의원 아현점 입니다.\\n\\n추나요법 네트워크 청구경희한의원의 탄탄한 23년 추나요법 임상 노하우를 바탕으로 환자분들의 통증 및 체형 불균형, 교통사고후유증까지!\\n\\n목, 어깨, 허리, 골반, 턱관절 곳곳에서 발생되는 불편함을 치료해드립니다!\\n\\n추나요법 건강보험 적용 이전부터 20여년 추나요법 네트워크의 임상을 바탕으로 통증 및 교정을 아우르는 특화된 치료를 해오고 있습니다.\\n\\n추나요법은 2019년 부터 건강보험 적용을 통해 통증, 척추 질환을 부담없이 진료를 받으실 수 있게 되었습니다.\\n\\n대한한의사협회의 추나요법 교육을 이수하였으며, 오랜 진료 경험으로 서울시 마포구 아현동 , 공덕동 지역 주민 여러분의 건강지킴이가 되겠습니다.\\n\\n23년 전통, 평일밤 9시 야간진료 및 365일 연중무휴 진료 청구경희한의원 아현점의 이유 있는 자신감!\\n\\n비수술 추나요법, 척추, 골반, 체형교정. 일자목, 디스크, 턱관절질환, 골반교정, 통증클리닉, 교통사고후유증, 비만까지\\n\\n바른 체형이 만드는 통증없는 멋진 몸매, 청구경희한의원 아현점이 만들어 가겠습니다.\\n\\n청구경희한의원 아현점의 특화된 진료서비스를 만나보세요.\\n\\n통증과 함께 마음까지 치료하겠습니다.\\n\\n감사합니다.  \\\n",
       "\n",
       "  Images  \n",
       "0   None  "
      ]
     },
     "execution_count": 4,
     "metadata": {},
     "output_type": "execute_result"
    }
   ],
   "source": [
    "extracted_values = df['HospitalBase:1934828030'].apply(lambda x: extract_values(x))\n",
    "extracted_df = pd.DataFrame(extracted_values.tolist(), columns=[\n",
    "    'id', \n",
    "    'name', \n",
    "    'road', \n",
    "    'reviewSettings', \n",
    "    'conveniences', \n",
    "    'keywords', \n",
    "    'phone',\n",
    "    'virtualPhone', \n",
    "    'naverBookingUrl', \n",
    "    'talktalkUrl', \n",
    "    'paymentInfo', \n",
    "    'homepages', \n",
    "    'visitorReviewsTotal', \n",
    "    'description', \n",
    "    'Images'\n",
    "])\n",
    "data = extracted_df.dropna(how='all').reset_index(drop=True)\n",
    "data"
   ]
  },
  {
   "cell_type": "code",
   "execution_count": 5,
   "metadata": {},
   "outputs": [
    {
     "name": "stdout",
     "output_type": "stream",
     "text": [
      "0    지하철 이용 시2호선 아현역 3번 출구 도보 2분5호선 애오개역 2번 출구 도보 5분자가용 이용 시한의원 앞 2대 주차 가능\n",
      "Name: road, dtype: object\n"
     ]
    }
   ],
   "source": [
    "# 'road' 열에서 개행 문자 제거\n",
    "data['road'] = data['road'].str.replace('\\n', '', regex=False)\n",
    "\n",
    "# 결과 확인\n",
    "print(data['road'])"
   ]
  },
  {
   "cell_type": "code",
   "execution_count": 6,
   "metadata": {},
   "outputs": [
    {
     "name": "stdout",
     "output_type": "stream",
     "text": [
      "0    (청구경희한의원 아현점) & (마포구 | 아현동 | 한의원-일반) & \"청구경희한의원 아현점\"\n",
      "Name: reviewSettings_keyword, dtype: object\n"
     ]
    }
   ],
   "source": [
    "def extract_keyword(reviewSettings):\n",
    "    if isinstance(reviewSettings, dict):\n",
    "        return reviewSettings.get('keyword')\n",
    "    return None\n",
    "\n",
    "\n",
    "# 'reviewSettings' 열에서 'keyword' 추출\n",
    "data['reviewSettings_keyword'] = data['reviewSettings'].apply(extract_keyword)\n",
    "\n",
    "# 결과 확인\n",
    "print(data['reviewSettings_keyword'])"
   ]
  },
  {
   "cell_type": "code",
   "execution_count": 7,
   "metadata": {},
   "outputs": [
    {
     "name": "stdout",
     "output_type": "stream",
     "text": [
      "0    청구경희한의원 아현점, 마포구 | 아현동 | 한의원-일반, 청구경희한의원 아현점\n",
      "Name: reviewSettings_keyword, dtype: object\n"
     ]
    }
   ],
   "source": [
    "def format_keyword(keyword):\n",
    "    if isinstance(keyword, str):\n",
    "        # 괄호와 따옴표 제거\n",
    "        keyword = re.sub(r\"[()\\\"\\']\", \"\", keyword)\n",
    "        # &를 ,로 바꾸기\n",
    "        keyword = keyword.replace(\" &\", \",\")\n",
    "        return keyword\n",
    "    return keyword\n",
    "\n",
    "\n",
    "# 'reviewSettings_keyword' 열의 데이터 포맷 변경\n",
    "data['reviewSettings_keyword'] = data['reviewSettings_keyword'].apply(format_keyword)\n",
    "\n",
    "\n",
    "# 결과 확인\n",
    "print(data['reviewSettings_keyword'])"
   ]
  },
  {
   "cell_type": "code",
   "execution_count": 8,
   "metadata": {},
   "outputs": [
    {
     "name": "stdout",
     "output_type": "stream",
     "text": [
      "0    '주차', '예약', '무선 인터넷', '남/녀 화장실 구분'\n",
      "Name: conveniences, dtype: object\n"
     ]
    }
   ],
   "source": [
    "def remove_brackets(text):\n",
    "    if isinstance(text, list):\n",
    "        # 리스트를 문자열로 변환하고, 대괄호 제거\n",
    "        return str(text)[1:-1]\n",
    "    return text\n",
    "\n",
    "\n",
    "# 'conveniences' 열의 데이터에서 대괄호 제거\n",
    "data['conveniences'] = data['conveniences'].apply(remove_brackets)\n",
    "\n",
    "\n",
    "# 결과 확인\n",
    "print(data['conveniences'])"
   ]
  },
  {
   "cell_type": "code",
   "execution_count": 9,
   "metadata": {},
   "outputs": [
    {
     "name": "stdout",
     "output_type": "stream",
     "text": [
      "0    '아현역한의원', '추나요법', '교통사고후유증', '골반교정', '턱관절'\n",
      "Name: keywords, dtype: object\n"
     ]
    }
   ],
   "source": [
    "# 'keywords' 열의 데이터에서 대괄호 제거\n",
    "data['keywords'] = data['keywords'].apply(remove_brackets)\n",
    "\n",
    "\n",
    "# 결과 확인\n",
    "print(data['keywords'])"
   ]
  },
  {
   "cell_type": "code",
   "execution_count": 10,
   "metadata": {},
   "outputs": [
    {
     "name": "stdout",
     "output_type": "stream",
     "text": [
      "0    '지역화폐(카드,모바일)', '제로페이'\n",
      "Name: paymentInfo, dtype: object\n"
     ]
    }
   ],
   "source": [
    "# 'paymentInfo' 열의 데이터에서 대괄호 제거\n",
    "data['paymentInfo'] = data['paymentInfo'].apply(remove_brackets)\n",
    "\n",
    "\n",
    "# 결과 확인\n",
    "print(data['paymentInfo'])"
   ]
  },
  {
   "cell_type": "code",
   "execution_count": 11,
   "metadata": {},
   "outputs": [],
   "source": [
    "def extract_order_zero(homepage):\n",
    "    if isinstance(homepage, dict) and 'repr' in homepage:\n",
    "        if homepage['repr'].get('order') == 0:\n",
    "            return homepage['repr']\n",
    "    return None\n",
    "\n",
    "\n",
    "def extract_isDeadUrl(mainpage):\n",
    "    if isinstance(mainpage, dict):\n",
    "        return mainpage.get('isDeadUrl')\n",
    "    return None\n",
    "\n",
    "\n",
    "def extract_type(mainpage):\n",
    "    if isinstance(mainpage, dict):\n",
    "        return mainpage.get('type')\n",
    "    return None\n",
    "\n",
    "\n",
    "def extract_url(mainpage):\n",
    "    if isinstance(mainpage, dict):\n",
    "        return mainpage.get('url')\n",
    "    return None\n",
    "\n",
    "\n",
    "# 'homepages' 열에서 order가 0인 값을 추출\n",
    "data['mainpage'] = data['homepages'].apply(extract_order_zero)\n",
    "\n",
    "\n",
    "# 'mainpage' 열에서 'isDeadUrl'과 'type', 'url' 추출\n",
    "data['isDeadUrl'] = data['mainpage'].apply(extract_isDeadUrl)\n",
    "data['type'] = data['mainpage'].apply(extract_type)\n",
    "data['url'] = data['mainpage'].apply(extract_url)"
   ]
  },
  {
   "cell_type": "code",
   "execution_count": 12,
   "metadata": {},
   "outputs": [
    {
     "name": "stdout",
     "output_type": "stream",
     "text": [
      "0    안녕하세요. 청구경희한의원 아현점 입니다.추나요법 네트워크 청구경희한의원의 탄탄한 23년 추나요법 임상 노하우를 바탕으로 환자분들의 통증 및 체형 불균형, 교통사고후유증까지!목, 어깨, 허리, 골반, 턱관절 곳곳에서 발생되는 불편함을 치료해드립니다!추나요법 건강보험 적용 이전부터 20여년 추나요법 네트워크의 임상을 바탕으로 통증 및 교정을 아우르는 특화된 치료를 해오고 있습니다.추나요법은 2019년 부터 건강보험 적용을 통해 통증, 척추 질환을 부담없이 진료를 받으실 수 있게 되었습니다.대한한의사협회의 추나요법 교육을 이수하였으며, 오랜 진료 경험으로 서울시 마포구 아현동 , 공덕동 지역 주민 여러분의 건강지킴이가 되겠습니다.23년 전통, 평일밤 9시 야간진료 및 365일 연중무휴 진료 청구경희한의원 아현점의 이유 있는 자신감!비수술 추나요법, 척추, 골반, 체형교정. 일자목, 디스크, 턱관절질환, 골반교정, 통증클리닉, 교통사고후유증, 비만까지바른 체형이 만드는 통증없는 멋진 몸매, 청구경희한의원 아현점이 만들어 가겠습니다.청구경희한의원 아현점의 특화된 진료서비스를 만나보세요.통증과 함께 마음까지 치료하겠습니다.감사합니다.\n",
      "Name: description, dtype: object\n"
     ]
    }
   ],
   "source": [
    "# 'road' 열에서 개행 문자 제거\n",
    "data['description'] = data['description'].str.replace('\\n', '', regex=False)\n",
    "\n",
    "# 결과 확인\n",
    "print(data['description'])"
   ]
  },
  {
   "cell_type": "code",
   "execution_count": 15,
   "metadata": {},
   "outputs": [],
   "source": [
    "# Table 1: id, name, phone, virtualPhone, naverBookingUrl, talktalkUrl, url, type, isDeadUrl, visitorReviewsTotal, Images\n",
    "table1 = data[['id', 'name', 'phone', 'virtualPhone', 'naverBookingUrl', 'talktalkUrl', 'url', 'type', 'isDeadUrl', 'visitorReviewsTotal', 'Images']]\n",
    "\n",
    "\n",
    "# Table 2: id, road\n",
    "table2 = data[['id', 'road']]\n",
    "\n",
    "\n",
    "# Table 3: id, reviewSettings_keyword\n",
    "table3 = data[['id', 'reviewSettings_keyword']]\n",
    "\n",
    "\n",
    "# Table 4: id, conveniences\n",
    "table4 = data[['id', 'conveniences']]\n",
    "\n",
    "\n",
    "# Table 5: id, keywords\n",
    "table5 = data[['id', 'keywords']]\n",
    "\n",
    "\n",
    "# Table 6: id, paymentInfo\n",
    "table6 = data[['id', 'paymentInfo']]\n",
    "\n",
    "\n",
    "# Table 7: id, description\n",
    "table7 = data[['id', 'description']]"
   ]
  },
  {
   "cell_type": "code",
   "execution_count": 16,
   "metadata": {},
   "outputs": [
    {
     "name": "stdout",
     "output_type": "stream",
     "text": [
      "           id reviewSettings_keyword\n",
      "0  1934828030            청구경희한의원 아현점\n",
      "0  1934828030     마포구 | 아현동 | 한의원-일반\n",
      "0  1934828030            청구경희한의원 아현점\n",
      "           id   conveniences\n",
      "0  1934828030           '주차'\n",
      "0  1934828030           '예약'\n",
      "0  1934828030       '무선 인터넷'\n",
      "0  1934828030   '남/녀 화장실 구분'\n",
      "           id    keywords\n",
      "0  1934828030    '아현역한의원'\n",
      "0  1934828030      '추나요법'\n",
      "0  1934828030   '교통사고후유증'\n",
      "0  1934828030      '골반교정'\n",
      "0  1934828030       '턱관절'\n",
      "           id paymentInfo\n",
      "0  1934828030    '지역화폐(카드\n",
      "0  1934828030       모바일)'\n",
      "0  1934828030      '제로페이'\n"
     ]
    },
    {
     "name": "stderr",
     "output_type": "stream",
     "text": [
      "/var/folders/cj/gc1ypmy136x0w5k4g3z15qy40000gn/T/ipykernel_75858/3881931219.py:2: SettingWithCopyWarning: \n",
      "A value is trying to be set on a copy of a slice from a DataFrame.\n",
      "Try using .loc[row_indexer,col_indexer] = value instead\n",
      "\n",
      "See the caveats in the documentation: https://pandas.pydata.org/pandas-docs/stable/user_guide/indexing.html#returning-a-view-versus-a-copy\n",
      "  table3['reviewSettings_keyword'] = table3['reviewSettings_keyword'].str.split(',')\n",
      "/var/folders/cj/gc1ypmy136x0w5k4g3z15qy40000gn/T/ipykernel_75858/3881931219.py:3: SettingWithCopyWarning: \n",
      "A value is trying to be set on a copy of a slice from a DataFrame.\n",
      "Try using .loc[row_indexer,col_indexer] = value instead\n",
      "\n",
      "See the caveats in the documentation: https://pandas.pydata.org/pandas-docs/stable/user_guide/indexing.html#returning-a-view-versus-a-copy\n",
      "  table4['conveniences'] = table4['conveniences'].str.split(',')\n",
      "/var/folders/cj/gc1ypmy136x0w5k4g3z15qy40000gn/T/ipykernel_75858/3881931219.py:4: SettingWithCopyWarning: \n",
      "A value is trying to be set on a copy of a slice from a DataFrame.\n",
      "Try using .loc[row_indexer,col_indexer] = value instead\n",
      "\n",
      "See the caveats in the documentation: https://pandas.pydata.org/pandas-docs/stable/user_guide/indexing.html#returning-a-view-versus-a-copy\n",
      "  table5['keywords'] = table5['keywords'].str.split(',')\n",
      "/var/folders/cj/gc1ypmy136x0w5k4g3z15qy40000gn/T/ipykernel_75858/3881931219.py:5: SettingWithCopyWarning: \n",
      "A value is trying to be set on a copy of a slice from a DataFrame.\n",
      "Try using .loc[row_indexer,col_indexer] = value instead\n",
      "\n",
      "See the caveats in the documentation: https://pandas.pydata.org/pandas-docs/stable/user_guide/indexing.html#returning-a-view-versus-a-copy\n",
      "  table6['paymentInfo'] = table6['paymentInfo'].str.split(',')\n"
     ]
    }
   ],
   "source": [
    "# 쉼표를 기준으로 리스트로 변환\n",
    "table3['reviewSettings_keyword'] = table3['reviewSettings_keyword'].str.split(',')\n",
    "table4['conveniences'] = table4['conveniences'].str.split(',')\n",
    "table5['keywords'] = table5['keywords'].str.split(',')\n",
    "table6['paymentInfo'] = table6['paymentInfo'].str.split(',')\n",
    "\n",
    "\n",
    "# 각 테이블에 대해 explode 적용\n",
    "table3 = table3.explode('reviewSettings_keyword')\n",
    "table4 = table4.explode('conveniences')\n",
    "table5 = table5.explode('keywords')\n",
    "table6 = table6.explode('paymentInfo')"
   ]
  },
  {
   "cell_type": "code",
   "execution_count": null,
   "metadata": {},
   "outputs": [],
   "source": []
  }
 ],
 "metadata": {
  "kernelspec": {
   "display_name": "yeardream",
   "language": "python",
   "name": "python3"
  },
  "language_info": {
   "codemirror_mode": {
    "name": "ipython",
    "version": 3
   },
   "file_extension": ".py",
   "mimetype": "text/x-python",
   "name": "python",
   "nbconvert_exporter": "python",
   "pygments_lexer": "ipython3",
   "version": "3.10.9"
  }
 },
 "nbformat": 4,
 "nbformat_minor": 2
}
