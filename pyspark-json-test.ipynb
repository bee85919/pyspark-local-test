{
 "cells": [
  {
   "cell_type": "markdown",
   "id": "431a0dd7-24ef-4a50-bf28-e2588e3f4e41",
   "metadata": {},
   "source": [
    "### 1. 라이브러리 불러오기 및 세션 생성"
   ]
  },
  {
   "cell_type": "code",
   "execution_count": 1,
   "id": "8de6cd80-8976-4be6-9c85-12a31cf44f8a",
   "metadata": {},
   "outputs": [],
   "source": [
    "import json\n",
    "import pandas as pd\n",
    "from pyspark import SparkContext, SQLContext\n",
    "from pyspark.sql import SparkSession\n",
    "from pyspark.sql.types import StructType, StructField, StringType, BooleanType, IntegerType\n",
    "from pyspark.sql.functions import explode, map_keys, col, first, get_json_object, array, to_json, struct, regexp_replace, split, length"
   ]
  },
  {
   "cell_type": "code",
   "execution_count": 2,
   "id": "9e674a06-55ef-44dc-87f1-246b870570a0",
   "metadata": {},
   "outputs": [
    {
     "name": "stderr",
     "output_type": "stream",
     "text": [
      "23/11/20 16:49:28 WARN SparkSession: Using an existing Spark session; only runtime SQL configurations will take effect.\n"
     ]
    }
   ],
   "source": [
    "# Spark 세션 생성\n",
    "spark = SparkSession \\\n",
    "        .builder \\\n",
    "        .appName(\"processingJson\") \\\n",
    "        .getOrCreate()"
   ]
  },
  {
   "cell_type": "markdown",
   "id": "82aaee39-0dd3-47d1-ae3c-bde7e30d8860",
   "metadata": {},
   "source": [
    "### 2. 데이터 불러오기"
   ]
  },
  {
   "cell_type": "code",
   "execution_count": 3,
   "id": "4d2ecbd7-cea0-443c-820d-04fd59203b91",
   "metadata": {},
   "outputs": [],
   "source": [
    "# 분할된 JSON 파일 경로 선택하는 함수\n",
    "def nth_json_path(n):\n",
    "    return f'/Users/b06/Desktop/yeardream/medi-05/data/naverplace_meta/naverplace_meta_{n}.json'"
   ]
  },
  {
   "cell_type": "code",
   "execution_count": 4,
   "id": "4a67acde-dd84-4193-8f17-e7625c6e7922",
   "metadata": {},
   "outputs": [
    {
     "name": "stderr",
     "output_type": "stream",
     "text": [
      "23/11/20 16:49:30 WARN SparkStringUtils: Truncated the string representation of a plan since it was too large. This behavior can be adjusted by setting 'spark.sql.debug.maxToStringFields'.\n"
     ]
    }
   ],
   "source": [
    "# 첫번째 JSON 파일 데이터 불러오기\n",
    "n = 1\n",
    "data = spark.read.json(nth_json_path(n))"
   ]
  },
  {
   "cell_type": "markdown",
   "id": "0b4ce0f1-fbda-42cf-9e59-a438bcef602f",
   "metadata": {},
   "source": [
    "### 3. 변수"
   ]
  },
  {
   "cell_type": "code",
   "execution_count": 5,
   "id": "f145cdd4-2cf4-416a-8cfd-ff5cb6621620",
   "metadata": {},
   "outputs": [],
   "source": [
    "columns = data.columns"
   ]
  },
  {
   "cell_type": "code",
   "execution_count": 6,
   "id": "26fb56e5-f4c2-420e-aa20-5fadb84278e6",
   "metadata": {},
   "outputs": [],
   "source": [
    "hospital_bases = [c for c in columns if \"HospitalBase\" in c]"
   ]
  },
  {
   "cell_type": "code",
   "execution_count": 7,
   "id": "4f919c5a-18f8-4152-8716-d0ad99dc66ae",
   "metadata": {},
   "outputs": [],
   "source": [
    "target_columns = [\n",
    "    'id',\n",
    "    'name', \n",
    "    'road', \n",
    "    'reviewSettings', \n",
    "    'conveniences', \n",
    "    'keywords', \n",
    "    'phone', \n",
    "    'virtualPhone', \n",
    "    'naverBookingUrl', \n",
    "    'talktalkUrl', \n",
    "    'paymentInfo', \n",
    "    'homepages',\n",
    "    'visitorReviewsTotal',\n",
    "    'description',\n",
    "    'Images'\n",
    "]"
   ]
  },
  {
   "cell_type": "code",
   "execution_count": 8,
   "id": "b369a806-5d68-4f13-ab1a-1479e2d57160",
   "metadata": {},
   "outputs": [],
   "source": [
    "string_columns = [\n",
    "    'id',\n",
    "    'name', \n",
    "    'road',\n",
    "    'phone',\n",
    "    'virtualPhone',\n",
    "    'naverBookingUrl',\n",
    "    'talktalkUrl',\n",
    "    'visitorReviewsTotal'\n",
    "]"
   ]
  },
  {
   "cell_type": "code",
   "execution_count": 9,
   "id": "ba0946c5-22d7-4505-831d-ae2418cdf4b6",
   "metadata": {},
   "outputs": [],
   "source": [
    "description_columns = [\n",
    "    'id',\n",
    "    'description'\n",
    "]"
   ]
  },
  {
   "cell_type": "code",
   "execution_count": 10,
   "id": "b3972f86-9f45-437b-9815-585462dfa6a8",
   "metadata": {},
   "outputs": [],
   "source": [
    "struct_columns = [\n",
    "    'id',\n",
    "    'reviewSettings',\n",
    "    'homepages'\n",
    "]"
   ]
  },
  {
   "cell_type": "code",
   "execution_count": 11,
   "id": "466ac064-05b2-4716-bfbe-3215d533167c",
   "metadata": {},
   "outputs": [],
   "source": [
    "review_keyword_columns = [\n",
    "    'id',\n",
    "    'reviewSettings.keyword'\n",
    "]"
   ]
  },
  {
   "cell_type": "code",
   "execution_count": 12,
   "id": "890dff25-0801-4eb6-a87e-040a314a8df5",
   "metadata": {},
   "outputs": [],
   "source": [
    "homepages_columns = [\n",
    "    'id',\n",
    "    'homepages.repr.url',\n",
    "    'homepages.repr.type',\n",
    "    'homepages.repr.isDeadUrl',\n",
    "    'homepages.repr.landingUrl'\n",
    "]"
   ]
  },
  {
   "cell_type": "code",
   "execution_count": 13,
   "id": "a99418a8-c1ec-44cc-ad05-c7266fa53fc7",
   "metadata": {},
   "outputs": [],
   "source": [
    "conveniences_columns = [\n",
    "    'id',\n",
    "    'conveniences'\n",
    "]"
   ]
  },
  {
   "cell_type": "code",
   "execution_count": 14,
   "id": "3f550cb7-3dab-476d-a86e-dd6a204932b8",
   "metadata": {},
   "outputs": [],
   "source": [
    "keywords_columns = [\n",
    "    'id',\n",
    "    'keywords'\n",
    "]"
   ]
  },
  {
   "cell_type": "code",
   "execution_count": 15,
   "id": "ebcdaf72-715d-4d05-9ced-4e2af2999070",
   "metadata": {},
   "outputs": [],
   "source": [
    "payments_columns = [\n",
    "    'id',\n",
    "    'paymentInfo'\n",
    "]"
   ]
  },
  {
   "cell_type": "code",
   "execution_count": 16,
   "id": "b6c700a6-0b17-44a7-a459-1f675ce08cb6",
   "metadata": {},
   "outputs": [],
   "source": [
    "string_columns_schema = StructType([\n",
    "    StructField(\"id\", StringType(), True),\n",
    "    StructField(\"name\", StringType(), True),\n",
    "    StructField(\"road\", StringType(), True),\n",
    "    StructField(\"phone\", StringType(), True),\n",
    "    StructField(\"virtualPhone\", StringType(), True),\n",
    "    StructField(\"naverBookingUrl\", StringType(), True),\n",
    "    StructField(\"talktalkUrl\", StringType(), True),\n",
    "    StructField(\"visitorReviewsTotal\", IntegerType(), True)\n",
    "])"
   ]
  },
  {
   "cell_type": "code",
   "execution_count": 17,
   "id": "42355bca-fbf6-4c6e-87b4-753a3d584854",
   "metadata": {},
   "outputs": [],
   "source": [
    "description_columns_schema = StructType([\n",
    "    StructField(\"id\", StringType(), True),\n",
    "    StructField(\"description\", StringType(), True),\n",
    "    StructField(\"description_length\", IntegerType(), True)\n",
    "])"
   ]
  },
  {
   "cell_type": "code",
   "execution_count": 18,
   "id": "cd171d17-49e8-4d49-822b-9910bf4f3c04",
   "metadata": {},
   "outputs": [],
   "source": [
    "review_keyword_columns_schema = StructType([\n",
    "    StructField(\"id\", StringType(), True),\n",
    "    StructField(\"review_keyword\", StringType(), True)\n",
    "])"
   ]
  },
  {
   "cell_type": "code",
   "execution_count": 19,
   "id": "6e5f82f2-6fa4-403f-b77b-05ee3466c8b0",
   "metadata": {},
   "outputs": [],
   "source": [
    "homepages_columns_schema = StructType([\n",
    "    StructField(\"id\", StringType(), True),\n",
    "    StructField(\"url\", StringType(), True),\n",
    "    StructField(\"type\", StringType(), True),\n",
    "    StructField(\"isDeadUrl\", BooleanType(), True),\n",
    "    StructField(\"landingUrl\", StringType(), True)\n",
    "])"
   ]
  },
  {
   "cell_type": "code",
   "execution_count": 20,
   "id": "52789a1b-688e-4764-8132-5fc89a1a906b",
   "metadata": {},
   "outputs": [],
   "source": [
    "conveniences_columns_schema = StructType([\n",
    "    StructField(\"id\", StringType(), True),\n",
    "    StructField(\"conveniences\", StringType(), True),\n",
    "])"
   ]
  },
  {
   "cell_type": "code",
   "execution_count": 21,
   "id": "45d96389-3a0c-4ece-9822-ca982df62c4d",
   "metadata": {},
   "outputs": [],
   "source": [
    "keywords_columns_schema = StructType([\n",
    "    StructField(\"id\", StringType(), True),\n",
    "    StructField(\"keywords\", StringType(), True),\n",
    "])"
   ]
  },
  {
   "cell_type": "code",
   "execution_count": 22,
   "id": "160a5adb-f23c-497a-8d72-78ea9914a555",
   "metadata": {},
   "outputs": [],
   "source": [
    "payments_columns_schema = StructType([\n",
    "    StructField(\"id\", StringType(), True),\n",
    "    StructField(\"payments\", StringType(), True),\n",
    "])"
   ]
  },
  {
   "cell_type": "code",
   "execution_count": 23,
   "id": "7a53b5cb-0999-4a92-b8b4-ca7a83fd45a8",
   "metadata": {},
   "outputs": [],
   "source": [
    "string_table = spark.createDataFrame([], string_columns_schema)"
   ]
  },
  {
   "cell_type": "code",
   "execution_count": 24,
   "id": "90f67fc3-1154-4fbd-b0d5-916c9d197811",
   "metadata": {},
   "outputs": [],
   "source": [
    "description_table = spark.createDataFrame([], description_columns_schema)"
   ]
  },
  {
   "cell_type": "code",
   "execution_count": 25,
   "id": "8188d5ca-4cdd-4fc6-ad58-be3b032d6d00",
   "metadata": {},
   "outputs": [],
   "source": [
    "review_keyword_table = spark.createDataFrame([], review_keyword_columns_schema)"
   ]
  },
  {
   "cell_type": "code",
   "execution_count": 26,
   "id": "e4b67095-a1a0-4ac6-8f47-675591fc8391",
   "metadata": {},
   "outputs": [],
   "source": [
    "homepages_table = spark.createDataFrame([], homepages_columns_schema)"
   ]
  },
  {
   "cell_type": "code",
   "execution_count": 27,
   "id": "0d0a8f6e-22ee-4f92-9e62-752787c74181",
   "metadata": {},
   "outputs": [],
   "source": [
    "conveniences_table = spark.createDataFrame([], conveniences_columns_schema)"
   ]
  },
  {
   "cell_type": "code",
   "execution_count": 28,
   "id": "d5f131a2-055d-438e-a69d-f9e108d61b7d",
   "metadata": {},
   "outputs": [],
   "source": [
    "keywords_table = spark.createDataFrame([], keywords_columns_schema)"
   ]
  },
  {
   "cell_type": "code",
   "execution_count": 29,
   "id": "8eb8035e-ccb2-4b90-ab54-397bcf316a10",
   "metadata": {},
   "outputs": [],
   "source": [
    "payments_table = spark.createDataFrame([], payments_columns_schema)"
   ]
  },
  {
   "cell_type": "markdown",
   "id": "61d92299-b0ec-4c30-a884-e65de87957aa",
   "metadata": {},
   "source": [
    "### 4. 함수"
   ]
  },
  {
   "cell_type": "code",
   "execution_count": 30,
   "id": "1e9cf7fb-b0fd-4931-bb66-b5f87136d66f",
   "metadata": {},
   "outputs": [],
   "source": [
    "def get_table(df, columns, table):\n",
    "    get_columns = df.select(columns)\n",
    "    row = remove_null(get_columns)\n",
    "    return table.union(row)"
   ]
  },
  {
   "cell_type": "code",
   "execution_count": 31,
   "id": "902c7b78-806e-43a7-8b8e-7ce3d64c1ceb",
   "metadata": {},
   "outputs": [],
   "source": [
    "def remove_null(df):\n",
    "    return df.filter(~col('name').isNull())"
   ]
  },
  {
   "cell_type": "code",
   "execution_count": 32,
   "id": "8f4e1f99-c60a-4ba5-a874-9339b9a8e251",
   "metadata": {},
   "outputs": [],
   "source": [
    "def get_description_table(df, columns, table):\n",
    "    cols = df.select(columns)\n",
    "    rows = remove_null(cols)\n",
    "    rows = rows.withColumn('description', regexp_replace('description', '\\n', ' '))\n",
    "    rows = rows.withColumn('description_length', length('description'))\n",
    "    return table.union(rows)"
   ]
  },
  {
   "cell_type": "code",
   "execution_count": 33,
   "id": "32683018-f174-434f-a6b6-3cff44e3deba",
   "metadata": {},
   "outputs": [],
   "source": [
    "def preprocessing_review_keyword(review_keyword_row):\n",
    "    review_keyword_row = review_keyword_row.withColumnRenamed(\"keyword\", \"review_keyword\")\n",
    "    review_keyword_row = review_keyword_row.withColumn(\"review_keyword\", regexp_replace(\"review_keyword\", \" & \", \", \"))\n",
    "    review_keyword_row = review_keyword_row.withColumn(\"review_keyword\", regexp_replace(\"review_keyword\", \"[()]\", \"\"))\n",
    "    review_keyword_row = review_keyword_row.withColumn(\"review_keyword\", explode(split(col(\"review_keyword\"), \", \")))\n",
    "    return review_keyword_row"
   ]
  },
  {
   "cell_type": "code",
   "execution_count": 34,
   "id": "3a0e02f3-ea8c-4a2a-abaf-d35812041272",
   "metadata": {},
   "outputs": [],
   "source": [
    "def get_review_keyword_table(struct_df, review_keyword_columns, review_keyword_df):\n",
    "    get_review_keyword_columns = struct_df.select(review_keyword_columns)\n",
    "    review_keyword_row = remove_null(get_review_keyword_columns)\n",
    "    review_keyword_row = preprocessing_review_keyword(review_keyword_row)\n",
    "    return review_keyword_df.union(review_keyword_row)"
   ]
  },
  {
   "cell_type": "code",
   "execution_count": 35,
   "id": "a9752de6-2c6c-4136-b615-4efd49ec1187",
   "metadata": {},
   "outputs": [],
   "source": [
    "def check_null(df, column):\n",
    "    cnt = df.filter(col(column).isNull()).count()\n",
    "    return True if cnt == 10 else False"
   ]
  },
  {
   "cell_type": "code",
   "execution_count": 36,
   "id": "236cfc87-1b3d-4cb0-9538-1f95bada11e1",
   "metadata": {},
   "outputs": [],
   "source": [
    "def get_homepages_table(struct_df, homepages_columns, homepages_table):\n",
    "    if check_null(struct_df, 'homepages.repr'):\n",
    "        return homepages_table\n",
    "    else:\n",
    "        return get_table(struct_df, homepages_columns, homepages_table)"
   ]
  },
  {
   "cell_type": "code",
   "execution_count": 37,
   "id": "acd83e41-a051-4740-bdab-6942d638f941",
   "metadata": {},
   "outputs": [],
   "source": [
    "def get_table_and_explode(df, columns, table, column):\n",
    "    if check_null(df, column):\n",
    "        return table\n",
    "    else:\n",
    "        get_columns = df.select(columns)\n",
    "        row = remove_null(get_columns)\n",
    "        rows = row.withColumn(column, explode(row[column]))\n",
    "        return table.union(rows)"
   ]
  },
  {
   "cell_type": "markdown",
   "id": "36057ac0-994e-49f2-bcfe-6352496e15a2",
   "metadata": {},
   "source": [
    "### 5. 데이터 전처리"
   ]
  },
  {
   "cell_type": "code",
   "execution_count": 38,
   "id": "a4a25c91-8995-4709-9f48-16f9fbf3cb99",
   "metadata": {},
   "outputs": [],
   "source": [
    "for hospital_base in hospital_bases:    \n",
    "    hospital_base_data = data.select(hospital_base)\n",
    "\n",
    "    get_columns = [col(hospital_base + \".\" + t).alias(t) for t in target_columns]\n",
    "    df = hospital_base_data.select(get_columns)\n",
    "    \n",
    "    string_table = get_table(df, string_columns, string_table)\n",
    "    description_table = get_description_table(df, description_columns, description_table)\n",
    "    struct_df = df.select(struct_columns)\n",
    "    review_keyword_table = get_review_keyword_table(struct_df, review_keyword_columns, review_keyword_table)\n",
    "    homepages_table = get_homepages_table(struct_df, homepages_columns, homepages_table)\n",
    "    conveniences_table = get_table_and_explode(df, conveniences_columns, conveniences_table, 'conveniences')\n",
    "    keywords_table = get_table_and_explode(df, keywords_columns, keywords_table, 'keywords')\n",
    "    payments_table = get_table_and_explode(df, payments_columns, payments_table, 'paymentInfo')"
   ]
  },
  {
   "cell_type": "code",
   "execution_count": 45,
   "id": "6de384bb-f29a-4fb5-b6ea-7caf392a91b1",
   "metadata": {},
   "outputs": [
    {
     "name": "stdout",
     "output_type": "stream",
     "text": [
      "+----------+--------------------------+\n",
      "|        id|                  payments|\n",
      "+----------+--------------------------+\n",
      "|  11779766|                  제로페이|\n",
      "|1233961055|지역화폐(지류,카드,모바일)|\n",
      "|1233961055|                  제로페이|\n",
      "|  12857046|                  제로페이|\n",
      "|1344046290|            지역화폐(카드)|\n",
      "|1344046290|                  제로페이|\n",
      "|1413208872|지역화폐(지류,카드,모바일)|\n",
      "|1413208872|                  제로페이|\n",
      "|1934828030|     지역화폐(카드,모바일)|\n",
      "|1934828030|                  제로페이|\n",
      "|  19518318|     지역화폐(카드,모바일)|\n",
      "|  19518318|                  제로페이|\n",
      "|  19530874|                  제로페이|\n",
      "| 265615453|                  제로페이|\n",
      "|  33237939|                  제로페이|\n",
      "+----------+--------------------------+\n",
      "\n",
      "+----------+----------------------------------+------------------+\n",
      "|        id|                       description|description_length|\n",
      "+----------+----------------------------------+------------------+\n",
      "|  11779766| 숙대 앞 청파로에 위치한 한방재...|               253|\n",
      "|1233961055|편안하고 아늑한 분위기에서 최선...|               246|\n",
      "|  12857046|                                  |                 0|\n",
      "|1344046290|바른 철학으로 치료하는 수풀림한...|               560|\n",
      "|1413208872| 아이랑 한의원은 소개율이 높은 ...|               814|\n",
      "|1934828030|안녕하세요. 청구경희한의원 아현...|               603|\n",
      "|  19518318|           환자의 입장에서 봅니다.|                13|\n",
      "|  19530874|                                  |                 0|\n",
      "| 265615453|본디올신촌경희한의원은 지하철 2...|               104|\n",
      "|  33237939| 마포 공덕역 주변에 위치한 소망...|               662|\n",
      "+----------+----------------------------------+------------------+\n",
      "\n"
     ]
    }
   ],
   "source": [
    "string_table.show(50)\n",
    "review_keyword_table.show(50)\n",
    "homepages_table.show(50)\n",
    "conveniences_table.show(50)\n",
    "keywords_table.show(50)\n",
    "payments_table.show(50)\n",
    "description_table.show(50)"
   ]
  },
  {
   "cell_type": "markdown",
   "id": "fe880c16-b61e-4b0f-8dca-74b43de3c71f",
   "metadata": {},
   "source": [
    "### Test codes\n",
    "---"
   ]
  },
  {
   "cell_type": "code",
   "execution_count": 40,
   "id": "506b8ec7-61f0-4add-a915-338411b454aa",
   "metadata": {},
   "outputs": [],
   "source": [
    "# rows = rows.collect()\n",
    "# for row in rows:\n",
    "#     print(row)"
   ]
  },
  {
   "cell_type": "code",
   "execution_count": 41,
   "id": "4405c114-6c4e-4919-8c7b-3f593822d704",
   "metadata": {},
   "outputs": [],
   "source": [
    "hb = hospital_bases[3]\n",
    "hb_data = data.select(hb)\n",
    "get_columns = [col(hb + \".\" + t).alias(t) for t in target_columns]\n",
    "df = hb_data.select(get_columns)"
   ]
  },
  {
   "cell_type": "code",
   "execution_count": 42,
   "id": "03e770f6-c3a7-4241-87c2-5252e23822f4",
   "metadata": {},
   "outputs": [
    {
     "name": "stdout",
     "output_type": "stream",
     "text": [
      "HospitalBase:1233961055\n"
     ]
    }
   ],
   "source": [
    "print(hospital_bases[1])"
   ]
  },
  {
   "cell_type": "code",
   "execution_count": 43,
   "id": "3ecb2ff7-23b9-429f-a56e-86d65a515814",
   "metadata": {},
   "outputs": [
    {
     "name": "stdout",
     "output_type": "stream",
     "text": [
      "+----------------------------------+------------------+\n",
      "|                       description|description_length|\n",
      "+----------------------------------+------------------+\n",
      "|바른 철학으로 치료하는 수풀림한...|               560|\n",
      "+----------------------------------+------------------+\n",
      "\n"
     ]
    }
   ],
   "source": [
    "cols = df.select('description')\n",
    "rows = remove_null(cols)\n",
    "rows = rows.withColumn('description', regexp_replace('description', '\\n', ' '))\n",
    "rows = rows.withColumn('description_length', length('description'))\n",
    "rows.show()"
   ]
  },
  {
   "cell_type": "code",
   "execution_count": null,
   "id": "ec28473b-177c-452c-a17b-85e52073189c",
   "metadata": {},
   "outputs": [],
   "source": []
  },
  {
   "cell_type": "code",
   "execution_count": null,
   "id": "1bc5ca34-7b90-4278-9be5-69748096c569",
   "metadata": {},
   "outputs": [],
   "source": []
  }
 ],
 "metadata": {
  "kernelspec": {
   "display_name": "Python 3 (ipykernel)",
   "language": "python",
   "name": "python3"
  },
  "language_info": {
   "codemirror_mode": {
    "name": "ipython",
    "version": 3
   },
   "file_extension": ".py",
   "mimetype": "text/x-python",
   "name": "python",
   "nbconvert_exporter": "python",
   "pygments_lexer": "ipython3",
   "version": "3.11.6"
  }
 },
 "nbformat": 4,
 "nbformat_minor": 5
}
