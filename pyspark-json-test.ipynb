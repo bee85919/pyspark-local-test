{
 "cells": [
  {
   "cell_type": "code",
   "execution_count": 23,
   "id": "26295c02-41ce-4e73-a5bf-e765bc75d619",
   "metadata": {},
   "outputs": [
    {
     "name": "stdout",
     "output_type": "stream",
     "text": [
      "Requirement already satisfied: pandas in /opt/homebrew/Cellar/jupyterlab/4.0.8/libexec/lib/python3.11/site-packages (2.1.3)\n",
      "Requirement already satisfied: numpy<2,>=1.23.2 in /opt/homebrew/Cellar/jupyterlab/4.0.8/libexec/lib/python3.11/site-packages (from pandas) (1.26.2)\n",
      "Requirement already satisfied: python-dateutil>=2.8.2 in /opt/homebrew/Cellar/jupyterlab/4.0.8/libexec/lib/python3.11/site-packages (from pandas) (2.8.2)\n",
      "Requirement already satisfied: pytz>=2020.1 in /opt/homebrew/Cellar/jupyterlab/4.0.8/libexec/lib/python3.11/site-packages (from pandas) (2023.3.post1)\n",
      "Requirement already satisfied: tzdata>=2022.1 in /opt/homebrew/Cellar/jupyterlab/4.0.8/libexec/lib/python3.11/site-packages (from pandas) (2023.3)\n",
      "Requirement already satisfied: six>=1.5 in /opt/homebrew/opt/six/lib/python3.11/site-packages (from python-dateutil>=2.8.2->pandas) (1.16.0)\n",
      "Note: you may need to restart the kernel to use updated packages.\n"
     ]
    }
   ],
   "source": [
    "pip install pandas"
   ]
  },
  {
   "cell_type": "code",
   "execution_count": 24,
   "id": "9e674a06-55ef-44dc-87f1-246b870570a0",
   "metadata": {},
   "outputs": [],
   "source": [
    "import json\n",
    "import pandas as pd\n",
    "from pyspark import SparkContext, SQLContext\n",
    "from pyspark.sql import SparkSession\n",
    "from pyspark.sql.types import StructType, StructField, StringType\n",
    "from pyspark.sql.functions import explode, map_keys, col, first, get_json_object, array, to_json, struct"
   ]
  },
  {
   "cell_type": "code",
   "execution_count": 25,
   "id": "3fe7819e-489e-49be-a706-449fce71d9d1",
   "metadata": {},
   "outputs": [],
   "source": [
    "# Spark 세션 생성\n",
    "spark = SparkSession \\\n",
    "        .builder \\\n",
    "        .appName(\"processingJson\") \\\n",
    "        .getOrCreate()"
   ]
  },
  {
   "cell_type": "code",
   "execution_count": 26,
   "id": "dadf2b9a-391b-473c-99d7-ea26fdda56c1",
   "metadata": {},
   "outputs": [],
   "source": [
    "# 분할된 JSON 파일 경로 선택하는 함수\n",
    "def nth_json_path(n):\n",
    "    return f'/Users/b06/Desktop/yeardream/medi-05/data/naverplace_meta/naverplace_meta_{n}.json'"
   ]
  },
  {
   "cell_type": "code",
   "execution_count": 27,
   "id": "781a5ea3-b3cb-4454-9cca-b29c688e276a",
   "metadata": {},
   "outputs": [
    {
     "data": {
      "text/plain": [
       "'/Users/b06/Desktop/yeardream/medi-05/data/naverplace_meta/naverplace_meta_1.json'"
      ]
     },
     "execution_count": 27,
     "metadata": {},
     "output_type": "execute_result"
    }
   ],
   "source": [
    "# 첫번째 JSON 파일 경로\n",
    "n = 1\n",
    "json_path_1 = nth_json_path(n)\n",
    "json_path_1"
   ]
  },
  {
   "cell_type": "code",
   "execution_count": 28,
   "id": "e832b16a-1f3a-4d1a-969f-fb69ab02e104",
   "metadata": {},
   "outputs": [],
   "source": [
    "data = spark.read.json(json_path_1)"
   ]
  },
  {
   "cell_type": "code",
   "execution_count": 29,
   "id": "b369a806-5d68-4f13-ab1a-1479e2d57160",
   "metadata": {},
   "outputs": [],
   "source": [
    "## EDA\n",
    "#df.show(1)\n",
    "#df.printSchema(1)\n",
    "#df.dtypes\n",
    "columns = data.columns"
   ]
  },
  {
   "cell_type": "code",
   "execution_count": 30,
   "id": "a4a25c91-8995-4709-9f48-16f9fbf3cb99",
   "metadata": {},
   "outputs": [
    {
     "data": {
      "text/plain": [
       "['HospitalBase:11779766',\n",
       " 'HospitalBase:1233961055',\n",
       " 'HospitalBase:12857046',\n",
       " 'HospitalBase:1344046290',\n",
       " 'HospitalBase:1413208872',\n",
       " 'HospitalBase:1934828030',\n",
       " 'HospitalBase:19518318',\n",
       " 'HospitalBase:19530874',\n",
       " 'HospitalBase:265615453',\n",
       " 'HospitalBase:33237939']"
      ]
     },
     "execution_count": 30,
     "metadata": {},
     "output_type": "execute_result"
    }
   ],
   "source": [
    "hb_columns = [c for c in columns if \"HospitalBase\" in c]\n",
    "hb_columns"
   ]
  },
  {
   "cell_type": "code",
   "execution_count": 31,
   "id": "a5783128-b4df-4574-a613-98c1df361c89",
   "metadata": {},
   "outputs": [
    {
     "data": {
      "text/plain": [
       "'HospitalBase:11779766'"
      ]
     },
     "execution_count": 31,
     "metadata": {},
     "output_type": "execute_result"
    }
   ],
   "source": [
    "hb_column = hb_columns.pop(0)\n",
    "hb_column"
   ]
  },
  {
   "cell_type": "code",
   "execution_count": 32,
   "id": "92896409-dcd5-47a1-a93b-c741acf26c04",
   "metadata": {},
   "outputs": [
    {
     "name": "stdout",
     "output_type": "stream",
     "text": [
      "root\n",
      " |-- HospitalBase:11779766: struct (nullable = true)\n",
      " |    |-- __typename: string (nullable = true)\n",
      " |    |-- address: string (nullable = true)\n",
      " |    |-- bookingBusinessId: string (nullable = true)\n",
      " |    |-- bookingButtonName: string (nullable = true)\n",
      " |    |-- bookingDisplayName: string (nullable = true)\n",
      " |    |-- bookingHubButtonName: string (nullable = true)\n",
      " |    |-- broadcastInfos: string (nullable = true)\n",
      " |    |-- businessHours: array (nullable = true)\n",
      " |    |-- category: string (nullable = true)\n",
      " |    |-- categoryCode: string (nullable = true)\n",
      " |    |-- categoryCodeList: array (nullable = true)\n",
      " |    |-- categoryCount: long (nullable = true)\n",
      " |    |-- cescoCheck: string (nullable = true)\n",
      " |    |-- cescoLink: string (nullable = true)\n",
      " |    |-- cescofsCheck: string (nullable = true)\n",
      " |    |-- cescofsLink: string (nullable = true)\n",
      " |    |-- chatBotUrl: string (nullable = true)\n",
      " |    |-- conveniences: array (nullable = true)\n",
      " |    |-- coordinate: struct (nullable = true)\n",
      " |    |-- coronaTreatmentTelNo: string (nullable = true)\n",
      " |    |-- defaultCategoryCodeList: array (nullable = true)\n",
      " |    |-- description: string (nullable = true)\n",
      " |    |-- detailPath: string (nullable = true)\n",
      " |    |-- generalHospital: string (nullable = true)\n",
      " |    |-- giftCards: string (nullable = true)\n",
      " |    |-- gifticonId: string (nullable = true)\n",
      " |    |-- gifticonMoreUrl: string (nullable = true)\n",
      " |    |-- hasCoronaMedicalCenter: boolean (nullable = true)\n",
      " |    |-- hasOfficialImages: boolean (nullable = true)\n",
      " |    |-- homepages: struct (nullable = true)\n",
      " |    |-- id: string (nullable = true)\n",
      " |    |-- images: array (nullable = true)\n",
      " |    |-- imagesLastModified: string (nullable = true)\n",
      " |    |-- imagesLastModifiedDate: string (nullable = true)\n",
      " |    |-- is100YearCertified: string (nullable = true)\n",
      " |    |-- isKtis: string (nullable = true)\n",
      " |    |-- keywords: array (nullable = true)\n",
      " |    |-- mapUrl: string (nullable = true)\n",
      " |    |-- menuImages: string (nullable = true)\n",
      " |    |-- menus: string (nullable = true)\n",
      " |    |-- microReviews: string (nullable = true)\n",
      " |    |-- missingInfo: struct (nullable = true)\n",
      " |    |-- moreBookingReviewsPath: string (nullable = true)\n",
      " |    |-- moreFsasReviewsPath: string (nullable = true)\n",
      " |    |-- morePhotosPath: string (nullable = true)\n",
      " |    |-- moreUGCReviewsPath: string (nullable = true)\n",
      " |    |-- name: string (nullable = true)\n",
      " |    |-- naverBlog: struct (nullable = true)\n",
      " |    |-- naverBookingHubUrl: string (nullable = true)\n",
      " |    |-- naverBookingPromotion: string (nullable = true)\n",
      " |    |-- naverBookingUrl: string (nullable = true)\n",
      " |    |-- paymentInfo: array (nullable = true)\n",
      " |    |-- phone: string (nullable = true)\n",
      " |    |-- poiInfo: struct (nullable = true)\n",
      " |    |-- promotionTitle: string (nullable = true)\n",
      " |    |-- rcode: string (nullable = true)\n",
      " |    |-- reportWrongInfoType: string (nullable = true)\n",
      " |    |-- reviewSettings: struct (nullable = true)\n",
      " |    |-- road: string (nullable = true)\n",
      " |    |-- roadAddress: string (nullable = true)\n",
      " |    |-- routeUrl: string (nullable = true)\n",
      " |    |-- siteId: string (nullable = true)\n",
      " |    |-- staticMapUrl: string (nullable = true)\n",
      " |    |-- streetPanorama: struct (nullable = true)\n",
      " |    |-- talktalkUrl: string (nullable = true)\n",
      " |    |-- themes: string (nullable = true)\n",
      " |    |-- virtualPhone: string (nullable = true)\n",
      " |    |-- visitorReviewsScore: double (nullable = true)\n",
      " |    |-- visitorReviewsTextReviewTotal: long (nullable = true)\n",
      " |    |-- visitorReviewsTotal: long (nullable = true)\n",
      " |    |-- zoomLevel: string (nullable = true)\n",
      "\n"
     ]
    }
   ],
   "source": [
    "df = data.select(hb_column)\n",
    "df.printSchema(2)"
   ]
  },
  {
   "cell_type": "code",
   "execution_count": 33,
   "id": "9c22a9a4-2d03-4369-9eb3-194737289d4e",
   "metadata": {},
   "outputs": [
    {
     "data": {
      "text/plain": [
       "['name',\n",
       " 'road',\n",
       " 'reviewSettings',\n",
       " 'conveniences',\n",
       " 'keywords',\n",
       " 'phone',\n",
       " 'virtualPhone',\n",
       " 'naverBookingUrl',\n",
       " 'talktalkUrl',\n",
       " 'paymentInfo',\n",
       " 'homepages',\n",
       " 'visitorReviewsTotal',\n",
       " 'description',\n",
       " 'Images']"
      ]
     },
     "execution_count": 33,
     "metadata": {},
     "output_type": "execute_result"
    }
   ],
   "source": [
    "targets = [\n",
    "    'name', \n",
    "    'road', \n",
    "    'reviewSettings', \n",
    "    'conveniences', \n",
    "    'keywords', \n",
    "    'phone', \n",
    "    'virtualPhone', \n",
    "    'naverBookingUrl', \n",
    "    'talktalkUrl', \n",
    "    'paymentInfo', \n",
    "    'homepages',\n",
    "    'visitorReviewsTotal',\n",
    "    'description',\n",
    "    'Images'\n",
    "]\n",
    "targets"
   ]
  },
  {
   "cell_type": "code",
   "execution_count": 34,
   "id": "101035ae-46b6-47a9-9bf3-0037d975d124",
   "metadata": {},
   "outputs": [
    {
     "data": {
      "text/plain": [
       "[Column<'HospitalBase:11779766.name AS name'>,\n",
       " Column<'HospitalBase:11779766.road AS road'>,\n",
       " Column<'HospitalBase:11779766.reviewSettings AS reviewSettings'>,\n",
       " Column<'HospitalBase:11779766.conveniences AS conveniences'>,\n",
       " Column<'HospitalBase:11779766.keywords AS keywords'>,\n",
       " Column<'HospitalBase:11779766.phone AS phone'>,\n",
       " Column<'HospitalBase:11779766.virtualPhone AS virtualPhone'>,\n",
       " Column<'HospitalBase:11779766.naverBookingUrl AS naverBookingUrl'>,\n",
       " Column<'HospitalBase:11779766.talktalkUrl AS talktalkUrl'>,\n",
       " Column<'HospitalBase:11779766.paymentInfo AS paymentInfo'>,\n",
       " Column<'HospitalBase:11779766.homepages AS homepages'>,\n",
       " Column<'HospitalBase:11779766.visitorReviewsTotal AS visitorReviewsTotal'>,\n",
       " Column<'HospitalBase:11779766.description AS description'>,\n",
       " Column<'HospitalBase:11779766.Images AS Images'>]"
      ]
     },
     "execution_count": 34,
     "metadata": {},
     "output_type": "execute_result"
    }
   ],
   "source": [
    "sel_cols = [col(hb_column + \".\" + t).alias(t) for t in targets]\n",
    "sel_cols"
   ]
  },
  {
   "cell_type": "code",
   "execution_count": 35,
   "id": "cea179ca-23f3-4725-bc3f-3927206f399f",
   "metadata": {},
   "outputs": [
    {
     "name": "stdout",
     "output_type": "stream",
     "text": [
      "root\n",
      " |-- name: string (nullable = true)\n",
      " |-- road: string (nullable = true)\n",
      " |-- reviewSettings: struct (nullable = true)\n",
      " |-- conveniences: array (nullable = true)\n",
      " |-- keywords: array (nullable = true)\n",
      " |-- phone: string (nullable = true)\n",
      " |-- virtualPhone: string (nullable = true)\n",
      " |-- naverBookingUrl: string (nullable = true)\n",
      " |-- talktalkUrl: string (nullable = true)\n",
      " |-- paymentInfo: array (nullable = true)\n",
      " |-- homepages: struct (nullable = true)\n",
      " |-- visitorReviewsTotal: long (nullable = true)\n",
      " |-- description: string (nullable = true)\n",
      " |-- Images: array (nullable = true)\n",
      "\n"
     ]
    }
   ],
   "source": [
    "sel_df = df.select(sel_cols)\n",
    "sel_df.printSchema(1)"
   ]
  },
  {
   "cell_type": "code",
   "execution_count": 36,
   "id": "1249d02b-9de4-400d-894e-49d5487806fe",
   "metadata": {},
   "outputs": [],
   "source": [
    "string_cols = [\n",
    "    'name', \n",
    "    'road',\n",
    "    'phone',\n",
    "    'virtualPhone',\n",
    "    'naverBookingUrl',\n",
    "    'talktalkUrl',\n",
    "    'description'\n",
    "]"
   ]
  },
  {
   "cell_type": "code",
   "execution_count": 37,
   "id": "871eb43f-e515-40e0-9ba4-88ed936b7e2c",
   "metadata": {},
   "outputs": [],
   "source": [
    "struct_cols = [\n",
    "    'reviewSettings',\n",
    "    'homepages'\n",
    "]"
   ]
  },
  {
   "cell_type": "code",
   "execution_count": 38,
   "id": "48debb15-02e7-4ffe-883a-a5727832744c",
   "metadata": {},
   "outputs": [],
   "source": [
    "array_cols = [\n",
    "    'conveniences',\n",
    "    'keywords',\n",
    "    'Images'\n",
    "]"
   ]
  },
  {
   "cell_type": "code",
   "execution_count": 52,
   "id": "da974d8a-93ec-4ef4-84cb-31424e069c5f",
   "metadata": {},
   "outputs": [],
   "source": [
    "string_schema = StructType([\n",
    "    StructField(\"name\", StringType(), True),\n",
    "    StructField(\"road\", StringType(), True),\n",
    "    StructField(\"phone\", StringType(), True),\n",
    "    StructField(\"virtualPhone\", StringType(), True),\n",
    "    StructField(\"naverBookingUrl\", StringType(), True),\n",
    "    StructField(\"talktalkUrl\", StringType(), True),\n",
    "    StructField(\"description\", StringType(), True)\n",
    "])\n",
    "df_str = spark.createDataFrame([], string_schema)"
   ]
  },
  {
   "cell_type": "code",
   "execution_count": 53,
   "id": "51cb8047-7284-45f5-819f-766f9fdb1c29",
   "metadata": {},
   "outputs": [
    {
     "name": "stdout",
     "output_type": "stream",
     "text": [
      "+----------+--------------------------------+--------------------+-----------------------------+---------------------------------+-----------+------------+--------------------+-----------+-----------+--------------------+-------------------+---------------------------------+--------------------+\n",
      "|      name|                            road|      reviewSettings|                 conveniences|                         keywords|      phone|virtualPhone|     naverBookingUrl|talktalkUrl|paymentInfo|           homepages|visitorReviewsTotal|                      description|              Images|\n",
      "+----------+--------------------------------+--------------------+-----------------------------+---------------------------------+-----------+------------+--------------------+-----------+-----------+--------------------+-------------------+---------------------------------+--------------------+\n",
      "|다인한의원|지하철 숙대입구역 10번에서 뒤...|{ReviewSettings, ...|[주차, 예약, 무선 인터넷, ...|[통증퇴행성질환, 다이어트비만,...|02-711-9557|            |https://m.booking...|       NULL| [제로페이]|{Homepage, [], {H...|                115|숙대 앞 청파로에 위치한 한방재...|[{Image, NULL, 12...|\n",
      "+----------+--------------------------------+--------------------+-----------------------------+---------------------------------+-----------+------------+--------------------+-----------+-----------+--------------------+-------------------+---------------------------------+--------------------+\n",
      "\n"
     ]
    }
   ],
   "source": [
    "sel_str_df = sel_df.select\n",
    "str_df_row = sel_str_df.filter(~col('name').isNull())\n",
    "str_df_row.show()"
   ]
  },
  {
   "cell_type": "code",
   "execution_count": 54,
   "id": "6641714b-87e7-4092-8ee3-afa4bc4a707e",
   "metadata": {},
   "outputs": [
    {
     "ename": "AnalysisException",
     "evalue": "[NUM_COLUMNS_MISMATCH] UNION can only be performed on inputs with the same number of columns, but the first input has 7 columns and the second input has 14 columns.;\n'Union false, false\n:- LogicalRDD [name#1298, road#1299, phone#1300, virtualPhone#1301, naverBookingUrl#1302, talktalkUrl#1303, description#1304], false\n+- Filter NOT isnull(name#1082)\n   +- Project [HospitalBase:11779766#645.name AS name#1082, HospitalBase:11779766#645.road AS road#1083, HospitalBase:11779766#645.reviewSettings AS reviewSettings#1084, HospitalBase:11779766#645.conveniences AS conveniences#1085, HospitalBase:11779766#645.keywords AS keywords#1086, HospitalBase:11779766#645.phone AS phone#1087, HospitalBase:11779766#645.virtualPhone AS virtualPhone#1088, HospitalBase:11779766#645.naverBookingUrl AS naverBookingUrl#1089, HospitalBase:11779766#645.talktalkUrl AS talktalkUrl#1090, HospitalBase:11779766#645.paymentInfo AS paymentInfo#1091, HospitalBase:11779766#645.homepages AS homepages#1092, HospitalBase:11779766#645.visitorReviewsTotal AS visitorReviewsTotal#1093L, HospitalBase:11779766#645.description AS description#1094, HospitalBase:11779766#645.Images AS Images#1095]\n      +- Project [HospitalBase:11779766#645]\n         +- Relation [BaseNaverBlog:betbetter#574,BaseNaverBlog:bondiolsc#575,BaseNaverBlog:dainhani#576,BaseNaverBlog:kundaeclinic#577,BaseNaverBlog:memeetsworld#578,BusStation:104094#579,BusStation:104154#580,BusStation:104172#581,BusStation:104181#582,BusStation:104212#583,BusStation:104222#584,BusStation:104231#585,BusStation:104321#586,BusStation:104459#587,BusStation:104500#588,BusStation:104532#589,BusStation:104554#590,BusStation:104573#591,BusStation:104578#592,BusStation:104582#593,BusStation:104602#594,BusStation:104773#595,BusStation:123595#596,BusStation:123596#597,... 229 more fields] json\n",
     "output_type": "error",
     "traceback": [
      "\u001b[0;31m---------------------------------------------------------------------------\u001b[0m",
      "\u001b[0;31mAnalysisException\u001b[0m                         Traceback (most recent call last)",
      "Cell \u001b[0;32mIn[54], line 1\u001b[0m\n\u001b[0;32m----> 1\u001b[0m df_str \u001b[38;5;241m=\u001b[39m \u001b[43mdf_str\u001b[49m\u001b[38;5;241;43m.\u001b[39;49m\u001b[43munion\u001b[49m\u001b[43m(\u001b[49m\u001b[43mstr_df_row\u001b[49m\u001b[43m)\u001b[49m\n",
      "File \u001b[0;32m/opt/homebrew/Cellar/apache-spark/3.5.0/libexec/python/pyspark/sql/dataframe.py:3923\u001b[0m, in \u001b[0;36mDataFrame.union\u001b[0;34m(self, other)\u001b[0m\n\u001b[1;32m   3827\u001b[0m \u001b[38;5;28;01mdef\u001b[39;00m \u001b[38;5;21munion\u001b[39m(\u001b[38;5;28mself\u001b[39m, other: \u001b[38;5;124m\"\u001b[39m\u001b[38;5;124mDataFrame\u001b[39m\u001b[38;5;124m\"\u001b[39m) \u001b[38;5;241m-\u001b[39m\u001b[38;5;241m>\u001b[39m \u001b[38;5;124m\"\u001b[39m\u001b[38;5;124mDataFrame\u001b[39m\u001b[38;5;124m\"\u001b[39m:\n\u001b[1;32m   3828\u001b[0m \u001b[38;5;250m    \u001b[39m\u001b[38;5;124;03m\"\"\"Return a new :class:`DataFrame` containing the union of rows in this and another\u001b[39;00m\n\u001b[1;32m   3829\u001b[0m \u001b[38;5;124;03m    :class:`DataFrame`.\u001b[39;00m\n\u001b[1;32m   3830\u001b[0m \n\u001b[0;32m   (...)\u001b[0m\n\u001b[1;32m   3921\u001b[0m \u001b[38;5;124;03m    +---+-----+\u001b[39;00m\n\u001b[1;32m   3922\u001b[0m \u001b[38;5;124;03m    \"\"\"\u001b[39;00m\n\u001b[0;32m-> 3923\u001b[0m     \u001b[38;5;28;01mreturn\u001b[39;00m DataFrame(\u001b[38;5;28;43mself\u001b[39;49m\u001b[38;5;241;43m.\u001b[39;49m\u001b[43m_jdf\u001b[49m\u001b[38;5;241;43m.\u001b[39;49m\u001b[43munion\u001b[49m\u001b[43m(\u001b[49m\u001b[43mother\u001b[49m\u001b[38;5;241;43m.\u001b[39;49m\u001b[43m_jdf\u001b[49m\u001b[43m)\u001b[49m, \u001b[38;5;28mself\u001b[39m\u001b[38;5;241m.\u001b[39msparkSession)\n",
      "File \u001b[0;32m/opt/homebrew/Cellar/apache-spark/3.5.0/libexec/python/lib/py4j-0.10.9.7-src.zip/py4j/java_gateway.py:1322\u001b[0m, in \u001b[0;36mJavaMember.__call__\u001b[0;34m(self, *args)\u001b[0m\n\u001b[1;32m   1316\u001b[0m command \u001b[38;5;241m=\u001b[39m proto\u001b[38;5;241m.\u001b[39mCALL_COMMAND_NAME \u001b[38;5;241m+\u001b[39m\\\n\u001b[1;32m   1317\u001b[0m     \u001b[38;5;28mself\u001b[39m\u001b[38;5;241m.\u001b[39mcommand_header \u001b[38;5;241m+\u001b[39m\\\n\u001b[1;32m   1318\u001b[0m     args_command \u001b[38;5;241m+\u001b[39m\\\n\u001b[1;32m   1319\u001b[0m     proto\u001b[38;5;241m.\u001b[39mEND_COMMAND_PART\n\u001b[1;32m   1321\u001b[0m answer \u001b[38;5;241m=\u001b[39m \u001b[38;5;28mself\u001b[39m\u001b[38;5;241m.\u001b[39mgateway_client\u001b[38;5;241m.\u001b[39msend_command(command)\n\u001b[0;32m-> 1322\u001b[0m return_value \u001b[38;5;241m=\u001b[39m \u001b[43mget_return_value\u001b[49m\u001b[43m(\u001b[49m\n\u001b[1;32m   1323\u001b[0m \u001b[43m    \u001b[49m\u001b[43manswer\u001b[49m\u001b[43m,\u001b[49m\u001b[43m \u001b[49m\u001b[38;5;28;43mself\u001b[39;49m\u001b[38;5;241;43m.\u001b[39;49m\u001b[43mgateway_client\u001b[49m\u001b[43m,\u001b[49m\u001b[43m \u001b[49m\u001b[38;5;28;43mself\u001b[39;49m\u001b[38;5;241;43m.\u001b[39;49m\u001b[43mtarget_id\u001b[49m\u001b[43m,\u001b[49m\u001b[43m \u001b[49m\u001b[38;5;28;43mself\u001b[39;49m\u001b[38;5;241;43m.\u001b[39;49m\u001b[43mname\u001b[49m\u001b[43m)\u001b[49m\n\u001b[1;32m   1325\u001b[0m \u001b[38;5;28;01mfor\u001b[39;00m temp_arg \u001b[38;5;129;01min\u001b[39;00m temp_args:\n\u001b[1;32m   1326\u001b[0m     \u001b[38;5;28;01mif\u001b[39;00m \u001b[38;5;28mhasattr\u001b[39m(temp_arg, \u001b[38;5;124m\"\u001b[39m\u001b[38;5;124m_detach\u001b[39m\u001b[38;5;124m\"\u001b[39m):\n",
      "File \u001b[0;32m/opt/homebrew/Cellar/apache-spark/3.5.0/libexec/python/pyspark/errors/exceptions/captured.py:185\u001b[0m, in \u001b[0;36mcapture_sql_exception.<locals>.deco\u001b[0;34m(*a, **kw)\u001b[0m\n\u001b[1;32m    181\u001b[0m converted \u001b[38;5;241m=\u001b[39m convert_exception(e\u001b[38;5;241m.\u001b[39mjava_exception)\n\u001b[1;32m    182\u001b[0m \u001b[38;5;28;01mif\u001b[39;00m \u001b[38;5;129;01mnot\u001b[39;00m \u001b[38;5;28misinstance\u001b[39m(converted, UnknownException):\n\u001b[1;32m    183\u001b[0m     \u001b[38;5;66;03m# Hide where the exception came from that shows a non-Pythonic\u001b[39;00m\n\u001b[1;32m    184\u001b[0m     \u001b[38;5;66;03m# JVM exception message.\u001b[39;00m\n\u001b[0;32m--> 185\u001b[0m     \u001b[38;5;28;01mraise\u001b[39;00m converted \u001b[38;5;28;01mfrom\u001b[39;00m \u001b[38;5;28;01mNone\u001b[39;00m\n\u001b[1;32m    186\u001b[0m \u001b[38;5;28;01melse\u001b[39;00m:\n\u001b[1;32m    187\u001b[0m     \u001b[38;5;28;01mraise\u001b[39;00m\n",
      "\u001b[0;31mAnalysisException\u001b[0m: [NUM_COLUMNS_MISMATCH] UNION can only be performed on inputs with the same number of columns, but the first input has 7 columns and the second input has 14 columns.;\n'Union false, false\n:- LogicalRDD [name#1298, road#1299, phone#1300, virtualPhone#1301, naverBookingUrl#1302, talktalkUrl#1303, description#1304], false\n+- Filter NOT isnull(name#1082)\n   +- Project [HospitalBase:11779766#645.name AS name#1082, HospitalBase:11779766#645.road AS road#1083, HospitalBase:11779766#645.reviewSettings AS reviewSettings#1084, HospitalBase:11779766#645.conveniences AS conveniences#1085, HospitalBase:11779766#645.keywords AS keywords#1086, HospitalBase:11779766#645.phone AS phone#1087, HospitalBase:11779766#645.virtualPhone AS virtualPhone#1088, HospitalBase:11779766#645.naverBookingUrl AS naverBookingUrl#1089, HospitalBase:11779766#645.talktalkUrl AS talktalkUrl#1090, HospitalBase:11779766#645.paymentInfo AS paymentInfo#1091, HospitalBase:11779766#645.homepages AS homepages#1092, HospitalBase:11779766#645.visitorReviewsTotal AS visitorReviewsTotal#1093L, HospitalBase:11779766#645.description AS description#1094, HospitalBase:11779766#645.Images AS Images#1095]\n      +- Project [HospitalBase:11779766#645]\n         +- Relation [BaseNaverBlog:betbetter#574,BaseNaverBlog:bondiolsc#575,BaseNaverBlog:dainhani#576,BaseNaverBlog:kundaeclinic#577,BaseNaverBlog:memeetsworld#578,BusStation:104094#579,BusStation:104154#580,BusStation:104172#581,BusStation:104181#582,BusStation:104212#583,BusStation:104222#584,BusStation:104231#585,BusStation:104321#586,BusStation:104459#587,BusStation:104500#588,BusStation:104532#589,BusStation:104554#590,BusStation:104573#591,BusStation:104578#592,BusStation:104582#593,BusStation:104602#594,BusStation:104773#595,BusStation:123595#596,BusStation:123596#597,... 229 more fields] json\n"
     ]
    }
   ],
   "source": [
    "df_str = df_str.union(str_df_row)"
   ]
  },
  {
   "cell_type": "code",
   "execution_count": null,
   "id": "aae92d85-ef5c-499c-bc09-151d4fea3f7f",
   "metadata": {},
   "outputs": [],
   "source": []
  }
 ],
 "metadata": {
  "kernelspec": {
   "display_name": "Python 3 (ipykernel)",
   "language": "python",
   "name": "python3"
  },
  "language_info": {
   "codemirror_mode": {
    "name": "ipython",
    "version": 3
   },
   "file_extension": ".py",
   "mimetype": "text/x-python",
   "name": "python",
   "nbconvert_exporter": "python",
   "pygments_lexer": "ipython3",
   "version": "3.11.6"
  }
 },
 "nbformat": 4,
 "nbformat_minor": 5
}
