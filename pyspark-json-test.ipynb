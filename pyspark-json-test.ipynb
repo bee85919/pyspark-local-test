{
 "cells": [
  {
   "cell_type": "markdown",
   "id": "431a0dd7-24ef-4a50-bf28-e2588e3f4e41",
   "metadata": {},
   "source": [
    "### 1. 라이브러리 불러오기 및 세션 생성"
   ]
  },
  {
   "cell_type": "code",
   "execution_count": 1,
   "id": "9e674a06-55ef-44dc-87f1-246b870570a0",
   "metadata": {},
   "outputs": [
    {
     "name": "stderr",
     "output_type": "stream",
     "text": [
      "23/11/20 11:01:52 WARN SparkSession: Using an existing Spark session; only runtime SQL configurations will take effect.\n"
     ]
    }
   ],
   "source": [
    "import json\n",
    "from pyspark import SparkContext, SQLContext\n",
    "from pyspark.sql import SparkSession\n",
    "from pyspark.sql.types import StructType, StructField, StringType\n",
    "from pyspark.sql.functions import explode, map_keys, col, first, get_json_object, array, to_json, struct, regexp_replace, split\n",
    "\n",
    "\n",
    "# Spark 세션 생성\n",
    "spark = SparkSession \\\n",
    "        .builder \\\n",
    "        .appName(\"processingJson\") \\\n",
    "        .getOrCreate()"
   ]
  },
  {
   "cell_type": "markdown",
   "id": "82aaee39-0dd3-47d1-ae3c-bde7e30d8860",
   "metadata": {
    "jp-MarkdownHeadingCollapsed": true
   },
   "source": [
    "### 2. 데이터 불러오기"
   ]
  },
  {
   "cell_type": "code",
   "execution_count": 2,
   "id": "4d2ecbd7-cea0-443c-820d-04fd59203b91",
   "metadata": {},
   "outputs": [],
   "source": [
    "# 분할된 JSON 파일 경로 선택하는 함수\n",
    "def nth_json_path(n):\n",
    "    return f'/Users/b06/Desktop/yeardream/medi-05/data/naverplace_meta/naverplace_meta_{n}.json'"
   ]
  },
  {
   "cell_type": "code",
   "execution_count": 3,
   "id": "4a67acde-dd84-4193-8f17-e7625c6e7922",
   "metadata": {},
   "outputs": [
    {
     "name": "stderr",
     "output_type": "stream",
     "text": [
      "23/11/20 11:01:54 WARN SparkStringUtils: Truncated the string representation of a plan since it was too large. This behavior can be adjusted by setting 'spark.sql.debug.maxToStringFields'.\n"
     ]
    }
   ],
   "source": [
    "# 첫번째 JSON 파일 데이터 불러오기\n",
    "n = 1\n",
    "data = spark.read.json(nth_json_path(n))"
   ]
  },
  {
   "cell_type": "markdown",
   "id": "0b4ce0f1-fbda-42cf-9e59-a438bcef602f",
   "metadata": {},
   "source": [
    "### 3. 변수"
   ]
  },
  {
   "cell_type": "code",
   "execution_count": 4,
   "id": "f145cdd4-2cf4-416a-8cfd-ff5cb6621620",
   "metadata": {},
   "outputs": [],
   "source": [
    "columns = data.columns"
   ]
  },
  {
   "cell_type": "code",
   "execution_count": 5,
   "id": "26fb56e5-f4c2-420e-aa20-5fadb84278e6",
   "metadata": {},
   "outputs": [],
   "source": [
    "hospital_bases = [c for c in columns if \"HospitalBase\" in c]"
   ]
  },
  {
   "cell_type": "code",
   "execution_count": 6,
   "id": "4f919c5a-18f8-4152-8716-d0ad99dc66ae",
   "metadata": {},
   "outputs": [],
   "source": [
    "target_columns = [\n",
    "    'id',\n",
    "    'name', \n",
    "    'road', \n",
    "    'reviewSettings', \n",
    "    'conveniences', \n",
    "    'keywords', \n",
    "    'phone', \n",
    "    'virtualPhone', \n",
    "    'naverBookingUrl', \n",
    "    'talktalkUrl', \n",
    "    'paymentInfo', \n",
    "    'homepages',\n",
    "    'visitorReviewsTotal',\n",
    "    'description',\n",
    "    'Images'\n",
    "]"
   ]
  },
  {
   "cell_type": "code",
   "execution_count": 7,
   "id": "b369a806-5d68-4f13-ab1a-1479e2d57160",
   "metadata": {},
   "outputs": [],
   "source": [
    "string_columns = [\n",
    "    'id',\n",
    "    'name', \n",
    "    'road',\n",
    "    'phone',\n",
    "    'virtualPhone',\n",
    "    'naverBookingUrl',\n",
    "    'talktalkUrl',\n",
    "    'description'\n",
    "]"
   ]
  },
  {
   "cell_type": "code",
   "execution_count": 8,
   "id": "b3972f86-9f45-437b-9815-585462dfa6a8",
   "metadata": {},
   "outputs": [],
   "source": [
    "struct_columns = [\n",
    "    'id',\n",
    "    'reviewSettings',\n",
    "    'homepages'\n",
    "]"
   ]
  },
  {
   "cell_type": "code",
   "execution_count": 9,
   "id": "a99418a8-c1ec-44cc-ad05-c7266fa53fc7",
   "metadata": {},
   "outputs": [],
   "source": [
    "array_columns = [\n",
    "    'id',\n",
    "    'conveniences',\n",
    "    'keywords',\n",
    "    'Images'\n",
    "]"
   ]
  },
  {
   "cell_type": "code",
   "execution_count": 10,
   "id": "466ac064-05b2-4716-bfbe-3215d533167c",
   "metadata": {},
   "outputs": [],
   "source": [
    "review_keyword_column = [\n",
    "    'id',\n",
    "    'reviewSettings.keyword'\n",
    "]"
   ]
  },
  {
   "cell_type": "code",
   "execution_count": 11,
   "id": "890dff25-0801-4eb6-a87e-040a314a8df5",
   "metadata": {},
   "outputs": [],
   "source": [
    "url_columns = [\n",
    "    'id',\n",
    "    'homepages.repr.isDeadUrl',\n",
    "    'homepages.repr.landingUrl',\n",
    "    'homepages.repr.url'\n",
    "]"
   ]
  },
  {
   "cell_type": "code",
   "execution_count": 12,
   "id": "b6c700a6-0b17-44a7-a459-1f675ce08cb6",
   "metadata": {},
   "outputs": [],
   "source": [
    "string_columns_schema = StructType([\n",
    "    StructField(\"id\", StringType(), True),\n",
    "    StructField(\"name\", StringType(), True),\n",
    "    StructField(\"road\", StringType(), True),\n",
    "    StructField(\"phone\", StringType(), True),\n",
    "    StructField(\"virtualPhone\", StringType(), True),\n",
    "    StructField(\"naverBookingUrl\", StringType(), True),\n",
    "    StructField(\"talktalkUrl\", StringType(), True),\n",
    "    StructField(\"description\", StringType(), True)\n",
    "])"
   ]
  },
  {
   "cell_type": "code",
   "execution_count": 13,
   "id": "cd171d17-49e8-4d49-822b-9910bf4f3c04",
   "metadata": {},
   "outputs": [],
   "source": [
    "review_keyword_column_schema = StructType([\n",
    "    StructField(\"id\", StringType(), True),\n",
    "    StructField(\"review_keyword\", StringType(), True)\n",
    "])"
   ]
  },
  {
   "cell_type": "code",
   "execution_count": 14,
   "id": "6e5f82f2-6fa4-403f-b77b-05ee3466c8b0",
   "metadata": {},
   "outputs": [],
   "source": [
    "# struct_schema\n",
    "# array_schema"
   ]
  },
  {
   "cell_type": "code",
   "execution_count": 15,
   "id": "7a53b5cb-0999-4a92-b8b4-ca7a83fd45a8",
   "metadata": {},
   "outputs": [],
   "source": [
    "string_df = spark.createDataFrame([], string_columns_schema)"
   ]
  },
  {
   "cell_type": "code",
   "execution_count": 16,
   "id": "8188d5ca-4cdd-4fc6-ad58-be3b032d6d00",
   "metadata": {},
   "outputs": [],
   "source": [
    "review_keyword_df = spark.createDataFrame([], review_keyword_column_schema)"
   ]
  },
  {
   "cell_type": "markdown",
   "id": "61d92299-b0ec-4c30-a884-e65de87957aa",
   "metadata": {},
   "source": [
    "### 4. 함수"
   ]
  },
  {
   "cell_type": "code",
   "execution_count": 17,
   "id": "e0007692-83cc-495c-954f-3d8f4cc96b3e",
   "metadata": {},
   "outputs": [],
   "source": [
    "# get string dataframe!\n",
    "def get_string_df(df, string_columns, string_df):\n",
    "    get_string_cols = df.select(string_columns)\n",
    "    string_row = remove_null(get_string_cols)\n",
    "    return string_df.union(string_row)"
   ]
  },
  {
   "cell_type": "code",
   "execution_count": 18,
   "id": "902c7b78-806e-43a7-8b8e-7ce3d64c1ceb",
   "metadata": {},
   "outputs": [],
   "source": [
    "# 결측치 제거\n",
    "def remove_null(df):\n",
    "    return df.filter(~col('name').isNull())"
   ]
  },
  {
   "cell_type": "code",
   "execution_count": 19,
   "id": "9fb4ad04-b2d1-43f6-bc55-3981908309a6",
   "metadata": {},
   "outputs": [],
   "source": [
    "def get_struct_df(df, struct_columns):\n",
    "    return df.select(struct_columns)"
   ]
  },
  {
   "cell_type": "code",
   "execution_count": 20,
   "id": "32683018-f174-434f-a6b6-3cff44e3deba",
   "metadata": {},
   "outputs": [],
   "source": [
    "def preprocessing_review_keyword(review_keyword_row):\n",
    "    review_keyword_row = review_keyword_row.withColumnRenamed(\"keyword\", \"review_keyword\")\n",
    "    review_keyword_row = review_keyword_row.withColumn(\"review_keyword\", regexp_replace(\"review_keyword\", \" & \", \", \"))\n",
    "    review_keyword_row = review_keyword_row.withColumn(\"review_keyword\", regexp_replace(\"review_keyword\", \"[()]\", \"\"))\n",
    "    review_keyword_row = review_keyword_row.withColumn(\"review_keyword\", explode(split(col(\"review_keyword\"), \", \")))\n",
    "    return review_keyword_row"
   ]
  },
  {
   "cell_type": "code",
   "execution_count": 21,
   "id": "3a0e02f3-ea8c-4a2a-abaf-d35812041272",
   "metadata": {},
   "outputs": [],
   "source": [
    "def get_review_keyword_df(struct_df, review_keyword_column, review_keyword_df):\n",
    "    get_review_keyword_col = struct_df.select(review_keyword_column)\n",
    "    review_keyword_row = remove_null(get_review_keyword_col)\n",
    "    review_keyword_row = preprocessing_review_keyword(review_keyword_row)\n",
    "    return review_keyword_df.union(review_keyword_row)"
   ]
  },
  {
   "cell_type": "markdown",
   "id": "36057ac0-994e-49f2-bcfe-6352496e15a2",
   "metadata": {},
   "source": [
    "### 5. 데이터 전처리"
   ]
  },
  {
   "cell_type": "code",
   "execution_count": 22,
   "id": "a4a25c91-8995-4709-9f48-16f9fbf3cb99",
   "metadata": {},
   "outputs": [],
   "source": [
    "for hospital_base in hospital_bases:    \n",
    "    hospital_base_data = data.select(hospital_base)\n",
    "\n",
    "    get_columns = [col(hospital_base + \".\" + t).alias(t) for t in target_columns]\n",
    "    df = hospital_base_data.select(get_columns)\n",
    "    \n",
    "    string_df = get_string_df(df, string_columns, string_df)\n",
    "    struct_df = get_struct_df(df, struct_columns)\n",
    "    review_keyword_df = get_review_keyword_df(struct_df, review_keyword_column, review_keyword_df)"
   ]
  },
  {
   "cell_type": "markdown",
   "id": "fe880c16-b61e-4b0f-8dca-74b43de3c71f",
   "metadata": {},
   "source": [
    "### Test\n",
    "---"
   ]
  },
  {
   "cell_type": "code",
   "execution_count": 24,
   "id": "4405c114-6c4e-4919-8c7b-3f593822d704",
   "metadata": {},
   "outputs": [],
   "source": [
    "hb = hospital_bases[0]\n",
    "hb_data = data.select(hb)\n",
    "get_columns = [col(hb + \".\" + t).alias(t) for t in target_columns]\n",
    "df = hb_data.select(get_columns)"
   ]
  },
  {
   "cell_type": "code",
   "execution_count": null,
   "id": "87f837f6-a773-44bd-b333-f4eda6dc610a",
   "metadata": {},
   "outputs": [],
   "source": [
    "struct_df = df.select(struct_columns)\n",
    "keyword_df = get_review_keyword_df(struct_df)\n",
    "keyword_df.show()"
   ]
  },
  {
   "cell_type": "code",
   "execution_count": null,
   "id": "d0d16f7e-0412-43fa-9be1-8e00df564e5a",
   "metadata": {},
   "outputs": [],
   "source": [
    "from pyspark.sql.functions import col\n",
    "\n",
    "# reviewSettings의 keyword 필드 추출\n",
    "keyword_df = struct_df.select(col(\"reviewSettings.keyword\"))\n",
    "\n",
    "# homepages의 repr 내의 isDeadUrl, landingUrl, url 필드 추출\n",
    "url_info_df = struct_df.select(\n",
    "    col(\"homepages.repr.isDeadUrl\"),\n",
    "    col(\"homepages.repr.landingUrl\"),\n",
    "    col(\"homepages.repr.url\")\n",
    ")\n",
    "\n",
    "keyword_df"
   ]
  },
  {
   "cell_type": "code",
   "execution_count": null,
   "id": "ae1d81c3-b799-4d99-b703-b05e41f8c9cb",
   "metadata": {},
   "outputs": [],
   "source": []
  }
 ],
 "metadata": {
  "kernelspec": {
   "display_name": "Python 3 (ipykernel)",
   "language": "python",
   "name": "python3"
  },
  "language_info": {
   "codemirror_mode": {
    "name": "ipython",
    "version": 3
   },
   "file_extension": ".py",
   "mimetype": "text/x-python",
   "name": "python",
   "nbconvert_exporter": "python",
   "pygments_lexer": "ipython3",
   "version": "3.11.6"
  }
 },
 "nbformat": 4,
 "nbformat_minor": 5
}
