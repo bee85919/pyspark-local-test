{
 "cells": [
  {
   "cell_type": "markdown",
   "id": "431a0dd7-24ef-4a50-bf28-e2588e3f4e41",
   "metadata": {},
   "source": [
    "### 1. 라이브러리 불러오기 및 세션 생성"
   ]
  },
  {
   "cell_type": "code",
   "execution_count": 1,
   "id": "8de6cd80-8976-4be6-9c85-12a31cf44f8a",
   "metadata": {},
   "outputs": [],
   "source": [
    "import json\n",
    "import pandas as pd\n",
    "from pyspark import SparkContext, SQLContext\n",
    "from pyspark.sql import SparkSession\n",
    "from pyspark.sql.types import StructType, StructField, StringType, BooleanType, IntegerType\n",
    "from pyspark.sql.functions import explode, map_keys, col, first, get_json_object, array, to_json, struct, regexp_replace, split"
   ]
  },
  {
   "cell_type": "code",
   "execution_count": 2,
   "id": "9e674a06-55ef-44dc-87f1-246b870570a0",
   "metadata": {},
   "outputs": [
    {
     "name": "stderr",
     "output_type": "stream",
     "text": [
      "23/11/20 16:08:48 WARN SparkSession: Using an existing Spark session; only runtime SQL configurations will take effect.\n"
     ]
    }
   ],
   "source": [
    "# Spark 세션 생성\n",
    "spark = SparkSession \\\n",
    "        .builder \\\n",
    "        .appName(\"processingJson\") \\\n",
    "        .getOrCreate()"
   ]
  },
  {
   "cell_type": "markdown",
   "id": "82aaee39-0dd3-47d1-ae3c-bde7e30d8860",
   "metadata": {
    "jp-MarkdownHeadingCollapsed": true
   },
   "source": [
    "### 2. 데이터 불러오기"
   ]
  },
  {
   "cell_type": "code",
   "execution_count": 3,
   "id": "4d2ecbd7-cea0-443c-820d-04fd59203b91",
   "metadata": {},
   "outputs": [],
   "source": [
    "# 분할된 JSON 파일 경로 선택하는 함수\n",
    "def nth_json_path(n):\n",
    "    return f'/Users/b06/Desktop/yeardream/medi-05/data/naverplace_meta/naverplace_meta_{n}.json'"
   ]
  },
  {
   "cell_type": "code",
   "execution_count": 4,
   "id": "4a67acde-dd84-4193-8f17-e7625c6e7922",
   "metadata": {},
   "outputs": [
    {
     "name": "stderr",
     "output_type": "stream",
     "text": [
      "23/11/20 16:08:50 WARN SparkStringUtils: Truncated the string representation of a plan since it was too large. This behavior can be adjusted by setting 'spark.sql.debug.maxToStringFields'.\n"
     ]
    }
   ],
   "source": [
    "# 첫번째 JSON 파일 데이터 불러오기\n",
    "n = 1\n",
    "data = spark.read.json(nth_json_path(n))"
   ]
  },
  {
   "cell_type": "markdown",
   "id": "0b4ce0f1-fbda-42cf-9e59-a438bcef602f",
   "metadata": {},
   "source": [
    "### 3. 변수"
   ]
  },
  {
   "cell_type": "code",
   "execution_count": 5,
   "id": "f145cdd4-2cf4-416a-8cfd-ff5cb6621620",
   "metadata": {},
   "outputs": [],
   "source": [
    "columns = data.columns"
   ]
  },
  {
   "cell_type": "code",
   "execution_count": 6,
   "id": "26fb56e5-f4c2-420e-aa20-5fadb84278e6",
   "metadata": {},
   "outputs": [],
   "source": [
    "hospital_bases = [c for c in columns if \"HospitalBase\" in c]"
   ]
  },
  {
   "cell_type": "code",
   "execution_count": 7,
   "id": "4f919c5a-18f8-4152-8716-d0ad99dc66ae",
   "metadata": {},
   "outputs": [],
   "source": [
    "target_columns = [\n",
    "    'id',\n",
    "    'name', \n",
    "    'road', \n",
    "    'reviewSettings', \n",
    "    'conveniences', \n",
    "    'keywords', \n",
    "    'phone', \n",
    "    'virtualPhone', \n",
    "    'naverBookingUrl', \n",
    "    'talktalkUrl', \n",
    "    'paymentInfo', \n",
    "    'homepages',\n",
    "    'visitorReviewsTotal',\n",
    "    'description',\n",
    "    'Images'\n",
    "]"
   ]
  },
  {
   "cell_type": "code",
   "execution_count": 8,
   "id": "b369a806-5d68-4f13-ab1a-1479e2d57160",
   "metadata": {},
   "outputs": [],
   "source": [
    "string_columns = [\n",
    "    'id',\n",
    "    'name', \n",
    "    'road',\n",
    "    'phone',\n",
    "    'virtualPhone',\n",
    "    'naverBookingUrl',\n",
    "    'talktalkUrl',\n",
    "    'visitorReviewsTotal',\n",
    "    'description'\n",
    "]"
   ]
  },
  {
   "cell_type": "code",
   "execution_count": 9,
   "id": "b3972f86-9f45-437b-9815-585462dfa6a8",
   "metadata": {},
   "outputs": [],
   "source": [
    "struct_columns = [\n",
    "    'id',\n",
    "    'reviewSettings',\n",
    "    'homepages'\n",
    "]"
   ]
  },
  {
   "cell_type": "code",
   "execution_count": 10,
   "id": "466ac064-05b2-4716-bfbe-3215d533167c",
   "metadata": {},
   "outputs": [],
   "source": [
    "review_keyword_columns = [\n",
    "    'id',\n",
    "    'reviewSettings.keyword'\n",
    "]"
   ]
  },
  {
   "cell_type": "code",
   "execution_count": 11,
   "id": "890dff25-0801-4eb6-a87e-040a314a8df5",
   "metadata": {},
   "outputs": [],
   "source": [
    "homepages_columns = [\n",
    "    'id',\n",
    "    'homepages.repr.url',\n",
    "    'homepages.repr.type',\n",
    "    'homepages.repr.isDeadUrl',\n",
    "    'homepages.repr.landingUrl'\n",
    "]"
   ]
  },
  {
   "cell_type": "code",
   "execution_count": 12,
   "id": "a99418a8-c1ec-44cc-ad05-c7266fa53fc7",
   "metadata": {},
   "outputs": [],
   "source": [
    "conveniences_columns = [\n",
    "    'id',\n",
    "    'conveniences'\n",
    "]"
   ]
  },
  {
   "cell_type": "code",
   "execution_count": 13,
   "id": "3f550cb7-3dab-476d-a86e-dd6a204932b8",
   "metadata": {},
   "outputs": [],
   "source": [
    "keywords_columns = [\n",
    "    'id',\n",
    "    'keywords'\n",
    "]"
   ]
  },
  {
   "cell_type": "code",
   "execution_count": 14,
   "id": "ebcdaf72-715d-4d05-9ced-4e2af2999070",
   "metadata": {},
   "outputs": [],
   "source": [
    "paymentInfo_columns = [\n",
    "    'id',\n",
    "    'paymentInfo'\n",
    "]"
   ]
  },
  {
   "cell_type": "code",
   "execution_count": 15,
   "id": "b6c700a6-0b17-44a7-a459-1f675ce08cb6",
   "metadata": {},
   "outputs": [],
   "source": [
    "string_columns_schema = StructType([\n",
    "    StructField(\"id\", StringType(), True),\n",
    "    StructField(\"name\", StringType(), True),\n",
    "    StructField(\"road\", StringType(), True),\n",
    "    StructField(\"phone\", StringType(), True),\n",
    "    StructField(\"virtualPhone\", StringType(), True),\n",
    "    StructField(\"naverBookingUrl\", StringType(), True),\n",
    "    StructField(\"talktalkUrl\", StringType(), True),\n",
    "    StructField(\"visitorReviewsTotal\", IntegerType(), True),\n",
    "    StructField(\"description\", StringType(), True)\n",
    "])"
   ]
  },
  {
   "cell_type": "code",
   "execution_count": 16,
   "id": "cd171d17-49e8-4d49-822b-9910bf4f3c04",
   "metadata": {},
   "outputs": [],
   "source": [
    "review_keyword_columns_schema = StructType([\n",
    "    StructField(\"id\", StringType(), True),\n",
    "    StructField(\"review_keyword\", StringType(), True)\n",
    "])"
   ]
  },
  {
   "cell_type": "code",
   "execution_count": 17,
   "id": "6e5f82f2-6fa4-403f-b77b-05ee3466c8b0",
   "metadata": {},
   "outputs": [],
   "source": [
    "homepages_columns_schema = StructType([\n",
    "    StructField(\"id\", StringType(), True),\n",
    "    StructField(\"url\", StringType(), True),\n",
    "    StructField(\"type\", StringType(), True),\n",
    "    StructField(\"isDeadUrl\", BooleanType(), True),\n",
    "    StructField(\"landingUrl\", StringType(), True)\n",
    "])"
   ]
  },
  {
   "cell_type": "code",
   "execution_count": 18,
   "id": "52789a1b-688e-4764-8132-5fc89a1a906b",
   "metadata": {},
   "outputs": [],
   "source": [
    "conveniences_columns_schema = StructType([\n",
    "    StructField(\"id\", StringType(), True),\n",
    "    StructField(\"conveniences\", StringType(), True),\n",
    "])"
   ]
  },
  {
   "cell_type": "code",
   "execution_count": 19,
   "id": "45d96389-3a0c-4ece-9822-ca982df62c4d",
   "metadata": {},
   "outputs": [],
   "source": [
    "keywords_columns_schema = StructType([\n",
    "    StructField(\"id\", StringType(), True),\n",
    "    StructField(\"keywords\", StringType(), True),\n",
    "])"
   ]
  },
  {
   "cell_type": "code",
   "execution_count": 20,
   "id": "7a53b5cb-0999-4a92-b8b4-ca7a83fd45a8",
   "metadata": {},
   "outputs": [],
   "source": [
    "string_table = spark.createDataFrame([], string_columns_schema)"
   ]
  },
  {
   "cell_type": "code",
   "execution_count": 21,
   "id": "8188d5ca-4cdd-4fc6-ad58-be3b032d6d00",
   "metadata": {},
   "outputs": [],
   "source": [
    "review_keyword_table = spark.createDataFrame([], review_keyword_columns_schema)"
   ]
  },
  {
   "cell_type": "code",
   "execution_count": 22,
   "id": "e4b67095-a1a0-4ac6-8f47-675591fc8391",
   "metadata": {},
   "outputs": [],
   "source": [
    "homepages_table = spark.createDataFrame([], homepages_columns_schema)"
   ]
  },
  {
   "cell_type": "code",
   "execution_count": 23,
   "id": "0d0a8f6e-22ee-4f92-9e62-752787c74181",
   "metadata": {},
   "outputs": [],
   "source": [
    "conveniences_table = spark.createDataFrame([], conveniences_columns_schema)"
   ]
  },
  {
   "cell_type": "code",
   "execution_count": 24,
   "id": "d5f131a2-055d-438e-a69d-f9e108d61b7d",
   "metadata": {},
   "outputs": [],
   "source": [
    "keywords_table = spark.createDataFrame([], keywords_columns_schema)"
   ]
  },
  {
   "cell_type": "markdown",
   "id": "61d92299-b0ec-4c30-a884-e65de87957aa",
   "metadata": {},
   "source": [
    "### 4. 함수"
   ]
  },
  {
   "cell_type": "code",
   "execution_count": 25,
   "id": "1e9cf7fb-b0fd-4931-bb66-b5f87136d66f",
   "metadata": {},
   "outputs": [],
   "source": [
    "def get_table(df, columns, table):\n",
    "    get_columns = df.select(columns)\n",
    "    row = remove_null(get_columns)\n",
    "    return table.union(row)"
   ]
  },
  {
   "cell_type": "code",
   "execution_count": 26,
   "id": "902c7b78-806e-43a7-8b8e-7ce3d64c1ceb",
   "metadata": {},
   "outputs": [],
   "source": [
    "def remove_null(df):\n",
    "    return df.filter(~col('name').isNull())"
   ]
  },
  {
   "cell_type": "code",
   "execution_count": 27,
   "id": "32683018-f174-434f-a6b6-3cff44e3deba",
   "metadata": {},
   "outputs": [],
   "source": [
    "def preprocessing_review_keyword(review_keyword_row):\n",
    "    review_keyword_row = review_keyword_row.withColumnRenamed(\"keyword\", \"review_keyword\")\n",
    "    review_keyword_row = review_keyword_row.withColumn(\"review_keyword\", regexp_replace(\"review_keyword\", \" & \", \", \"))\n",
    "    review_keyword_row = review_keyword_row.withColumn(\"review_keyword\", regexp_replace(\"review_keyword\", \"[()]\", \"\"))\n",
    "    review_keyword_row = review_keyword_row.withColumn(\"review_keyword\", explode(split(col(\"review_keyword\"), \", \")))\n",
    "    return review_keyword_row"
   ]
  },
  {
   "cell_type": "code",
   "execution_count": 28,
   "id": "3a0e02f3-ea8c-4a2a-abaf-d35812041272",
   "metadata": {},
   "outputs": [],
   "source": [
    "def get_review_keyword_table(struct_df, review_keyword_columns, review_keyword_df):\n",
    "    get_review_keyword_columns = struct_df.select(review_keyword_columns)\n",
    "    review_keyword_row = remove_null(get_review_keyword_columns)\n",
    "    review_keyword_row = preprocessing_review_keyword(review_keyword_row)\n",
    "    return review_keyword_df.union(review_keyword_row)"
   ]
  },
  {
   "cell_type": "code",
   "execution_count": 29,
   "id": "a9752de6-2c6c-4136-b615-4efd49ec1187",
   "metadata": {},
   "outputs": [],
   "source": [
    "def check_null(df, column):\n",
    "    cnt = df.filter(col(column).isNull()).count()\n",
    "    return True if cnt == 10 else False"
   ]
  },
  {
   "cell_type": "code",
   "execution_count": 30,
   "id": "236cfc87-1b3d-4cb0-9538-1f95bada11e1",
   "metadata": {},
   "outputs": [],
   "source": [
    "def get_homepages_table(struct_df, homepages_columns, homepages_table):\n",
    "    if check_null(struct_df, 'homepages.repr'):\n",
    "        return homepages_table\n",
    "    else:\n",
    "        return get_table(struct_df, homepages_columns, homepages_table)"
   ]
  },
  {
   "cell_type": "code",
   "execution_count": 31,
   "id": "acd83e41-a051-4740-bdab-6942d638f941",
   "metadata": {},
   "outputs": [],
   "source": [
    "def get_table_and_explode(df, columns, table, column):\n",
    "    if check_null(df, 'column'):\n",
    "        return table\n",
    "    else:\n",
    "        get_columns = df.select(columns)\n",
    "        row = remove_null(get_columns)\n",
    "        rows = row.withColumn(column, explode(row[column]))\n",
    "        return table.union(rows)"
   ]
  },
  {
   "cell_type": "markdown",
   "id": "36057ac0-994e-49f2-bcfe-6352496e15a2",
   "metadata": {},
   "source": [
    "### 5. 데이터 전처리"
   ]
  },
  {
   "cell_type": "code",
   "execution_count": 32,
   "id": "a4a25c91-8995-4709-9f48-16f9fbf3cb99",
   "metadata": {},
   "outputs": [
    {
     "ename": "AnalysisException",
     "evalue": "[UNRESOLVED_COLUMN.WITH_SUGGESTION] A column or function parameter with name `column` cannot be resolved. Did you mean one of the following? [`id`, `name`, `road`, `phone`, `Images`].;\n'Filter isnull('column)\n+- Project [HospitalBase:11779766#79.id AS id#556, HospitalBase:11779766#79.name AS name#557, HospitalBase:11779766#79.road AS road#558, HospitalBase:11779766#79.reviewSettings AS reviewSettings#559, HospitalBase:11779766#79.conveniences AS conveniences#560, HospitalBase:11779766#79.keywords AS keywords#561, HospitalBase:11779766#79.phone AS phone#562, HospitalBase:11779766#79.virtualPhone AS virtualPhone#563, HospitalBase:11779766#79.naverBookingUrl AS naverBookingUrl#564, HospitalBase:11779766#79.talktalkUrl AS talktalkUrl#565, HospitalBase:11779766#79.paymentInfo AS paymentInfo#566, HospitalBase:11779766#79.homepages AS homepages#567, HospitalBase:11779766#79.visitorReviewsTotal AS visitorReviewsTotal#568L, HospitalBase:11779766#79.description AS description#569, HospitalBase:11779766#79.Images AS Images#570]\n   +- Project [HospitalBase:11779766#79]\n      +- Relation [BaseNaverBlog:betbetter#8,BaseNaverBlog:bondiolsc#9,BaseNaverBlog:dainhani#10,BaseNaverBlog:kundaeclinic#11,BaseNaverBlog:memeetsworld#12,BusStation:104094#13,BusStation:104154#14,BusStation:104172#15,BusStation:104181#16,BusStation:104212#17,BusStation:104222#18,BusStation:104231#19,BusStation:104321#20,BusStation:104459#21,BusStation:104500#22,BusStation:104532#23,BusStation:104554#24,BusStation:104573#25,BusStation:104578#26,BusStation:104582#27,BusStation:104602#28,BusStation:104773#29,BusStation:123595#30,BusStation:123596#31,... 229 more fields] json\n",
     "output_type": "error",
     "traceback": [
      "\u001b[0;31m---------------------------------------------------------------------------\u001b[0m",
      "\u001b[0;31mAnalysisException\u001b[0m                         Traceback (most recent call last)",
      "Cell \u001b[0;32mIn[32], line 11\u001b[0m\n\u001b[1;32m      9\u001b[0m review_keyword_table \u001b[38;5;241m=\u001b[39m get_review_keyword_table(struct_df, review_keyword_columns, review_keyword_table)\n\u001b[1;32m     10\u001b[0m homepages_table \u001b[38;5;241m=\u001b[39m get_homepages_table(struct_df, homepages_columns, homepages_table)\n\u001b[0;32m---> 11\u001b[0m conveniences_table \u001b[38;5;241m=\u001b[39m \u001b[43mget_table_and_explode\u001b[49m\u001b[43m(\u001b[49m\u001b[43mdf\u001b[49m\u001b[43m,\u001b[49m\u001b[43m \u001b[49m\u001b[43mconveniences_columns\u001b[49m\u001b[43m,\u001b[49m\u001b[43m \u001b[49m\u001b[43mconveniences_table\u001b[49m\u001b[43m,\u001b[49m\u001b[43m \u001b[49m\u001b[38;5;124;43m'\u001b[39;49m\u001b[38;5;124;43mconveniences\u001b[39;49m\u001b[38;5;124;43m'\u001b[39;49m\u001b[43m)\u001b[49m\n\u001b[1;32m     12\u001b[0m keywords_table \u001b[38;5;241m=\u001b[39m get_table_and_explode(df, keywords_columns, keywords_table, \u001b[38;5;124m'\u001b[39m\u001b[38;5;124mkeywords\u001b[39m\u001b[38;5;124m'\u001b[39m)\n",
      "Cell \u001b[0;32mIn[31], line 2\u001b[0m, in \u001b[0;36mget_table_and_explode\u001b[0;34m(df, columns, table, column)\u001b[0m\n\u001b[1;32m      1\u001b[0m \u001b[38;5;28;01mdef\u001b[39;00m \u001b[38;5;21mget_table_and_explode\u001b[39m(df, columns, table, column):\n\u001b[0;32m----> 2\u001b[0m     \u001b[38;5;28;01mif\u001b[39;00m \u001b[43mcheck_null\u001b[49m\u001b[43m(\u001b[49m\u001b[43mdf\u001b[49m\u001b[43m,\u001b[49m\u001b[43m \u001b[49m\u001b[38;5;124;43m'\u001b[39;49m\u001b[38;5;124;43mcolumn\u001b[39;49m\u001b[38;5;124;43m'\u001b[39;49m\u001b[43m)\u001b[49m:\n\u001b[1;32m      3\u001b[0m         \u001b[38;5;28;01mreturn\u001b[39;00m table\n\u001b[1;32m      4\u001b[0m     \u001b[38;5;28;01melse\u001b[39;00m:\n",
      "Cell \u001b[0;32mIn[29], line 2\u001b[0m, in \u001b[0;36mcheck_null\u001b[0;34m(df, column)\u001b[0m\n\u001b[1;32m      1\u001b[0m \u001b[38;5;28;01mdef\u001b[39;00m \u001b[38;5;21mcheck_null\u001b[39m(df, column):\n\u001b[0;32m----> 2\u001b[0m     cnt \u001b[38;5;241m=\u001b[39m \u001b[43mdf\u001b[49m\u001b[38;5;241;43m.\u001b[39;49m\u001b[43mfilter\u001b[49m\u001b[43m(\u001b[49m\u001b[43mcol\u001b[49m\u001b[43m(\u001b[49m\u001b[43mcolumn\u001b[49m\u001b[43m)\u001b[49m\u001b[38;5;241;43m.\u001b[39;49m\u001b[43misNull\u001b[49m\u001b[43m(\u001b[49m\u001b[43m)\u001b[49m\u001b[43m)\u001b[49m\u001b[38;5;241m.\u001b[39mcount()\n\u001b[1;32m      3\u001b[0m     \u001b[38;5;28;01mreturn\u001b[39;00m \u001b[38;5;28;01mTrue\u001b[39;00m \u001b[38;5;28;01mif\u001b[39;00m cnt \u001b[38;5;241m==\u001b[39m \u001b[38;5;241m10\u001b[39m \u001b[38;5;28;01melse\u001b[39;00m \u001b[38;5;28;01mFalse\u001b[39;00m\n",
      "File \u001b[0;32m/opt/homebrew/Cellar/apache-spark/3.5.0/libexec/python/pyspark/sql/dataframe.py:3325\u001b[0m, in \u001b[0;36mDataFrame.filter\u001b[0;34m(self, condition)\u001b[0m\n\u001b[1;32m   3323\u001b[0m     jdf \u001b[38;5;241m=\u001b[39m \u001b[38;5;28mself\u001b[39m\u001b[38;5;241m.\u001b[39m_jdf\u001b[38;5;241m.\u001b[39mfilter(condition)\n\u001b[1;32m   3324\u001b[0m \u001b[38;5;28;01melif\u001b[39;00m \u001b[38;5;28misinstance\u001b[39m(condition, Column):\n\u001b[0;32m-> 3325\u001b[0m     jdf \u001b[38;5;241m=\u001b[39m \u001b[38;5;28;43mself\u001b[39;49m\u001b[38;5;241;43m.\u001b[39;49m\u001b[43m_jdf\u001b[49m\u001b[38;5;241;43m.\u001b[39;49m\u001b[43mfilter\u001b[49m\u001b[43m(\u001b[49m\u001b[43mcondition\u001b[49m\u001b[38;5;241;43m.\u001b[39;49m\u001b[43m_jc\u001b[49m\u001b[43m)\u001b[49m\n\u001b[1;32m   3326\u001b[0m \u001b[38;5;28;01melse\u001b[39;00m:\n\u001b[1;32m   3327\u001b[0m     \u001b[38;5;28;01mraise\u001b[39;00m PySparkTypeError(\n\u001b[1;32m   3328\u001b[0m         error_class\u001b[38;5;241m=\u001b[39m\u001b[38;5;124m\"\u001b[39m\u001b[38;5;124mNOT_COLUMN_OR_STR\u001b[39m\u001b[38;5;124m\"\u001b[39m,\n\u001b[1;32m   3329\u001b[0m         message_parameters\u001b[38;5;241m=\u001b[39m{\u001b[38;5;124m\"\u001b[39m\u001b[38;5;124marg_name\u001b[39m\u001b[38;5;124m\"\u001b[39m: \u001b[38;5;124m\"\u001b[39m\u001b[38;5;124mcondition\u001b[39m\u001b[38;5;124m\"\u001b[39m, \u001b[38;5;124m\"\u001b[39m\u001b[38;5;124marg_type\u001b[39m\u001b[38;5;124m\"\u001b[39m: \u001b[38;5;28mtype\u001b[39m(condition)\u001b[38;5;241m.\u001b[39m\u001b[38;5;18m__name__\u001b[39m},\n\u001b[1;32m   3330\u001b[0m     )\n",
      "File \u001b[0;32m/opt/homebrew/Cellar/apache-spark/3.5.0/libexec/python/lib/py4j-0.10.9.7-src.zip/py4j/java_gateway.py:1322\u001b[0m, in \u001b[0;36mJavaMember.__call__\u001b[0;34m(self, *args)\u001b[0m\n\u001b[1;32m   1316\u001b[0m command \u001b[38;5;241m=\u001b[39m proto\u001b[38;5;241m.\u001b[39mCALL_COMMAND_NAME \u001b[38;5;241m+\u001b[39m\\\n\u001b[1;32m   1317\u001b[0m     \u001b[38;5;28mself\u001b[39m\u001b[38;5;241m.\u001b[39mcommand_header \u001b[38;5;241m+\u001b[39m\\\n\u001b[1;32m   1318\u001b[0m     args_command \u001b[38;5;241m+\u001b[39m\\\n\u001b[1;32m   1319\u001b[0m     proto\u001b[38;5;241m.\u001b[39mEND_COMMAND_PART\n\u001b[1;32m   1321\u001b[0m answer \u001b[38;5;241m=\u001b[39m \u001b[38;5;28mself\u001b[39m\u001b[38;5;241m.\u001b[39mgateway_client\u001b[38;5;241m.\u001b[39msend_command(command)\n\u001b[0;32m-> 1322\u001b[0m return_value \u001b[38;5;241m=\u001b[39m \u001b[43mget_return_value\u001b[49m\u001b[43m(\u001b[49m\n\u001b[1;32m   1323\u001b[0m \u001b[43m    \u001b[49m\u001b[43manswer\u001b[49m\u001b[43m,\u001b[49m\u001b[43m \u001b[49m\u001b[38;5;28;43mself\u001b[39;49m\u001b[38;5;241;43m.\u001b[39;49m\u001b[43mgateway_client\u001b[49m\u001b[43m,\u001b[49m\u001b[43m \u001b[49m\u001b[38;5;28;43mself\u001b[39;49m\u001b[38;5;241;43m.\u001b[39;49m\u001b[43mtarget_id\u001b[49m\u001b[43m,\u001b[49m\u001b[43m \u001b[49m\u001b[38;5;28;43mself\u001b[39;49m\u001b[38;5;241;43m.\u001b[39;49m\u001b[43mname\u001b[49m\u001b[43m)\u001b[49m\n\u001b[1;32m   1325\u001b[0m \u001b[38;5;28;01mfor\u001b[39;00m temp_arg \u001b[38;5;129;01min\u001b[39;00m temp_args:\n\u001b[1;32m   1326\u001b[0m     \u001b[38;5;28;01mif\u001b[39;00m \u001b[38;5;28mhasattr\u001b[39m(temp_arg, \u001b[38;5;124m\"\u001b[39m\u001b[38;5;124m_detach\u001b[39m\u001b[38;5;124m\"\u001b[39m):\n",
      "File \u001b[0;32m/opt/homebrew/Cellar/apache-spark/3.5.0/libexec/python/pyspark/errors/exceptions/captured.py:185\u001b[0m, in \u001b[0;36mcapture_sql_exception.<locals>.deco\u001b[0;34m(*a, **kw)\u001b[0m\n\u001b[1;32m    181\u001b[0m converted \u001b[38;5;241m=\u001b[39m convert_exception(e\u001b[38;5;241m.\u001b[39mjava_exception)\n\u001b[1;32m    182\u001b[0m \u001b[38;5;28;01mif\u001b[39;00m \u001b[38;5;129;01mnot\u001b[39;00m \u001b[38;5;28misinstance\u001b[39m(converted, UnknownException):\n\u001b[1;32m    183\u001b[0m     \u001b[38;5;66;03m# Hide where the exception came from that shows a non-Pythonic\u001b[39;00m\n\u001b[1;32m    184\u001b[0m     \u001b[38;5;66;03m# JVM exception message.\u001b[39;00m\n\u001b[0;32m--> 185\u001b[0m     \u001b[38;5;28;01mraise\u001b[39;00m converted \u001b[38;5;28;01mfrom\u001b[39;00m \u001b[38;5;28;01mNone\u001b[39;00m\n\u001b[1;32m    186\u001b[0m \u001b[38;5;28;01melse\u001b[39;00m:\n\u001b[1;32m    187\u001b[0m     \u001b[38;5;28;01mraise\u001b[39;00m\n",
      "\u001b[0;31mAnalysisException\u001b[0m: [UNRESOLVED_COLUMN.WITH_SUGGESTION] A column or function parameter with name `column` cannot be resolved. Did you mean one of the following? [`id`, `name`, `road`, `phone`, `Images`].;\n'Filter isnull('column)\n+- Project [HospitalBase:11779766#79.id AS id#556, HospitalBase:11779766#79.name AS name#557, HospitalBase:11779766#79.road AS road#558, HospitalBase:11779766#79.reviewSettings AS reviewSettings#559, HospitalBase:11779766#79.conveniences AS conveniences#560, HospitalBase:11779766#79.keywords AS keywords#561, HospitalBase:11779766#79.phone AS phone#562, HospitalBase:11779766#79.virtualPhone AS virtualPhone#563, HospitalBase:11779766#79.naverBookingUrl AS naverBookingUrl#564, HospitalBase:11779766#79.talktalkUrl AS talktalkUrl#565, HospitalBase:11779766#79.paymentInfo AS paymentInfo#566, HospitalBase:11779766#79.homepages AS homepages#567, HospitalBase:11779766#79.visitorReviewsTotal AS visitorReviewsTotal#568L, HospitalBase:11779766#79.description AS description#569, HospitalBase:11779766#79.Images AS Images#570]\n   +- Project [HospitalBase:11779766#79]\n      +- Relation [BaseNaverBlog:betbetter#8,BaseNaverBlog:bondiolsc#9,BaseNaverBlog:dainhani#10,BaseNaverBlog:kundaeclinic#11,BaseNaverBlog:memeetsworld#12,BusStation:104094#13,BusStation:104154#14,BusStation:104172#15,BusStation:104181#16,BusStation:104212#17,BusStation:104222#18,BusStation:104231#19,BusStation:104321#20,BusStation:104459#21,BusStation:104500#22,BusStation:104532#23,BusStation:104554#24,BusStation:104573#25,BusStation:104578#26,BusStation:104582#27,BusStation:104602#28,BusStation:104773#29,BusStation:123595#30,BusStation:123596#31,... 229 more fields] json\n"
     ]
    }
   ],
   "source": [
    "for hospital_base in hospital_bases:    \n",
    "    hospital_base_data = data.select(hospital_base)\n",
    "\n",
    "    get_columns = [col(hospital_base + \".\" + t).alias(t) for t in target_columns]\n",
    "    df = hospital_base_data.select(get_columns)\n",
    "    \n",
    "    string_table = get_table(df, string_columns, string_table)\n",
    "    struct_df = df.select(struct_columns)\n",
    "    review_keyword_table = get_review_keyword_table(struct_df, review_keyword_columns, review_keyword_table)\n",
    "    homepages_table = get_homepages_table(struct_df, homepages_columns, homepages_table)\n",
    "    conveniences_table = get_table_and_explode(df, conveniences_columns, conveniences_table, 'conveniences')\n",
    "    keywords_table = get_table_and_explode(df, keywords_columns, keywords_table, 'keywords')"
   ]
  },
  {
   "cell_type": "code",
   "execution_count": null,
   "id": "6de384bb-f29a-4fb5-b6ea-7caf392a91b1",
   "metadata": {},
   "outputs": [],
   "source": [
    "# string_table.show(50)\n",
    "# review_keyword_table.show(50)\n",
    "# homepages_table.show(50)\n",
    "conveniences_table.show(50)\n",
    "keywords_table.show(50)"
   ]
  },
  {
   "cell_type": "markdown",
   "id": "fe880c16-b61e-4b0f-8dca-74b43de3c71f",
   "metadata": {},
   "source": [
    "### Test\n",
    "---"
   ]
  },
  {
   "cell_type": "code",
   "execution_count": 33,
   "id": "4405c114-6c4e-4919-8c7b-3f593822d704",
   "metadata": {},
   "outputs": [],
   "source": [
    "hb = hospital_bases[2]\n",
    "hb_data = data.select(hb)\n",
    "get_columns = [col(hb + \".\" + t).alias(t) for t in target_columns]\n",
    "df = hb_data.select(get_columns)"
   ]
  },
  {
   "cell_type": "code",
   "execution_count": 34,
   "id": "03e770f6-c3a7-4241-87c2-5252e23822f4",
   "metadata": {},
   "outputs": [
    {
     "name": "stdout",
     "output_type": "stream",
     "text": [
      "HospitalBase:11779766\n"
     ]
    }
   ],
   "source": [
    "print(hospital_bases[0])"
   ]
  },
  {
   "cell_type": "code",
   "execution_count": 36,
   "id": "ba817a0d-b794-4577-8696-e0f36d84d022",
   "metadata": {},
   "outputs": [
    {
     "name": "stdout",
     "output_type": "stream",
     "text": [
      "+--------+------------+\n",
      "|      id|conveniences|\n",
      "+--------+------------+\n",
      "|    NULL|        NULL|\n",
      "|    NULL|        NULL|\n",
      "|    NULL|        NULL|\n",
      "|    NULL|        NULL|\n",
      "|    NULL|        NULL|\n",
      "|    NULL|        NULL|\n",
      "|    NULL|        NULL|\n",
      "|    NULL|        NULL|\n",
      "|    NULL|        NULL|\n",
      "|12857046|        NULL|\n",
      "+--------+------------+\n",
      "\n"
     ]
    }
   ],
   "source": [
    "get_columns = df.select(conveniences_columns)\n",
    "get_columns.show()"
   ]
  },
  {
   "cell_type": "code",
   "execution_count": null,
   "id": "d89ba9d6-5be8-4f52-a5a5-326b70fc792d",
   "metadata": {},
   "outputs": [],
   "source": [
    "row = row.withColumn('conveniences', explode(row['conveniences']))\n",
    "row.show()"
   ]
  },
  {
   "cell_type": "code",
   "execution_count": null,
   "id": "2a86be34-bd8f-41e4-ba78-522c2668e7dc",
   "metadata": {},
   "outputs": [],
   "source": []
  }
 ],
 "metadata": {
  "kernelspec": {
   "display_name": "Python 3 (ipykernel)",
   "language": "python",
   "name": "python3"
  },
  "language_info": {
   "codemirror_mode": {
    "name": "ipython",
    "version": 3
   },
   "file_extension": ".py",
   "mimetype": "text/x-python",
   "name": "python",
   "nbconvert_exporter": "python",
   "pygments_lexer": "ipython3",
   "version": "3.11.6"
  }
 },
 "nbformat": 4,
 "nbformat_minor": 5
}
