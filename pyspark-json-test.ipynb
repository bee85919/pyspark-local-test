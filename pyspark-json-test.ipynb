{
 "cells": [
  {
   "cell_type": "markdown",
   "id": "431a0dd7-24ef-4a50-bf28-e2588e3f4e41",
   "metadata": {},
   "source": [
    "### 1. 라이브러리 불러오기 및 세션 생성"
   ]
  },
  {
   "cell_type": "code",
   "execution_count": 1,
   "id": "8de6cd80-8976-4be6-9c85-12a31cf44f8a",
   "metadata": {},
   "outputs": [],
   "source": [
    "import json\n",
    "import pandas as pd\n",
    "from pyspark import SparkContext, SQLContext\n",
    "from pyspark.sql import SparkSession\n",
    "from pyspark.sql.types import StructType, StructField, StringType, BooleanType, IntegerType\n",
    "from pyspark.sql.functions import explode, map_keys, col, first, get_json_object, array, to_json, struct, regexp_replace, split, length"
   ]
  },
  {
   "cell_type": "code",
   "execution_count": 2,
   "id": "9e674a06-55ef-44dc-87f1-246b870570a0",
   "metadata": {},
   "outputs": [
    {
     "name": "stderr",
     "output_type": "stream",
     "text": [
      "23/11/21 14:26:56 WARN SparkSession: Using an existing Spark session; only runtime SQL configurations will take effect.\n"
     ]
    }
   ],
   "source": [
    "# Spark 세션 생성\n",
    "spark = SparkSession \\\n",
    "        .builder \\\n",
    "        .appName(\"processingJson\") \\\n",
    "        .getOrCreate()"
   ]
  },
  {
   "cell_type": "markdown",
   "id": "82aaee39-0dd3-47d1-ae3c-bde7e30d8860",
   "metadata": {},
   "source": [
    "### 2. 데이터 불러오기"
   ]
  },
  {
   "cell_type": "code",
   "execution_count": 3,
   "id": "4d2ecbd7-cea0-443c-820d-04fd59203b91",
   "metadata": {},
   "outputs": [],
   "source": [
    "# 분할된 JSON 파일 경로 선택하는 함수\n",
    "def nth_json_path(n):\n",
    "    return f'/Users/b06/Desktop/yeardream/medi-05/data/naverplace_meta/naverplace_meta_{n}.json'"
   ]
  },
  {
   "cell_type": "code",
   "execution_count": 4,
   "id": "4a67acde-dd84-4193-8f17-e7625c6e7922",
   "metadata": {},
   "outputs": [
    {
     "name": "stderr",
     "output_type": "stream",
     "text": [
      "23/11/21 14:26:58 WARN SparkStringUtils: Truncated the string representation of a plan since it was too large. This behavior can be adjusted by setting 'spark.sql.debug.maxToStringFields'.\n"
     ]
    }
   ],
   "source": [
    "# 첫번째 JSON 파일 데이터 불러오기\n",
    "n = 1\n",
    "data = spark.read.json(nth_json_path(n))"
   ]
  },
  {
   "cell_type": "markdown",
   "id": "0b4ce0f1-fbda-42cf-9e59-a438bcef602f",
   "metadata": {},
   "source": [
    "### 3. 변수"
   ]
  },
  {
   "cell_type": "code",
   "execution_count": 5,
   "id": "f145cdd4-2cf4-416a-8cfd-ff5cb6621620",
   "metadata": {},
   "outputs": [],
   "source": [
    "columns = data.columns"
   ]
  },
  {
   "cell_type": "code",
   "execution_count": 6,
   "id": "26fb56e5-f4c2-420e-aa20-5fadb84278e6",
   "metadata": {},
   "outputs": [],
   "source": [
    "hospital_bases = [c for c in columns if \"HospitalBase\" in c]"
   ]
  },
  {
   "cell_type": "code",
   "execution_count": 7,
   "id": "4f919c5a-18f8-4152-8716-d0ad99dc66ae",
   "metadata": {},
   "outputs": [],
   "source": [
    "target_columns = [\n",
    "    'id',\n",
    "    'name', \n",
    "    'road', \n",
    "    'reviewSettings', \n",
    "    'conveniences', \n",
    "    'keywords', \n",
    "    'phone', \n",
    "    'virtualPhone', \n",
    "    'naverBookingUrl', \n",
    "    'talktalkUrl', \n",
    "    'paymentInfo', \n",
    "    'homepages',\n",
    "    'visitorReviewsTotal',\n",
    "    'description',\n",
    "    'Images'\n",
    "]"
   ]
  },
  {
   "cell_type": "code",
   "execution_count": 8,
   "id": "b369a806-5d68-4f13-ab1a-1479e2d57160",
   "metadata": {},
   "outputs": [],
   "source": [
    "string_columns = [\n",
    "    'id',\n",
    "    'name', \n",
    "    'road',\n",
    "    'phone',\n",
    "    'virtualPhone',\n",
    "    'naverBookingUrl',\n",
    "    'talktalkUrl',\n",
    "    'visitorReviewsTotal'\n",
    "]"
   ]
  },
  {
   "cell_type": "code",
   "execution_count": 9,
   "id": "ba0946c5-22d7-4505-831d-ae2418cdf4b6",
   "metadata": {},
   "outputs": [],
   "source": [
    "description_columns = [\n",
    "    'id',\n",
    "    'description'\n",
    "]"
   ]
  },
  {
   "cell_type": "code",
   "execution_count": 10,
   "id": "b3972f86-9f45-437b-9815-585462dfa6a8",
   "metadata": {},
   "outputs": [],
   "source": [
    "struct_columns = [\n",
    "    'id',\n",
    "    'reviewSettings',\n",
    "    'homepages'\n",
    "]"
   ]
  },
  {
   "cell_type": "code",
   "execution_count": 11,
   "id": "466ac064-05b2-4716-bfbe-3215d533167c",
   "metadata": {},
   "outputs": [],
   "source": [
    "review_keyword_columns = [\n",
    "    'id',\n",
    "    'reviewSettings.keyword'\n",
    "]"
   ]
  },
  {
   "cell_type": "code",
   "execution_count": 12,
   "id": "890dff25-0801-4eb6-a87e-040a314a8df5",
   "metadata": {},
   "outputs": [],
   "source": [
    "homepages_columns = [\n",
    "    'id',\n",
    "    'homepages.repr.url',\n",
    "    'homepages.repr.type',\n",
    "    'homepages.repr.isDeadUrl',\n",
    "    'homepages.repr.landingUrl'\n",
    "]"
   ]
  },
  {
   "cell_type": "code",
   "execution_count": 13,
   "id": "a99418a8-c1ec-44cc-ad05-c7266fa53fc7",
   "metadata": {},
   "outputs": [],
   "source": [
    "conveniences_columns = [\n",
    "    'id',\n",
    "    'conveniences'\n",
    "]"
   ]
  },
  {
   "cell_type": "code",
   "execution_count": 14,
   "id": "3f550cb7-3dab-476d-a86e-dd6a204932b8",
   "metadata": {},
   "outputs": [],
   "source": [
    "keywords_columns = [\n",
    "    'id',\n",
    "    'keywords'\n",
    "]"
   ]
  },
  {
   "cell_type": "code",
   "execution_count": 15,
   "id": "ebcdaf72-715d-4d05-9ced-4e2af2999070",
   "metadata": {},
   "outputs": [],
   "source": [
    "payments_columns = [\n",
    "    'id',\n",
    "    'paymentInfo'\n",
    "]"
   ]
  },
  {
   "cell_type": "code",
   "execution_count": 16,
   "id": "b6c700a6-0b17-44a7-a459-1f675ce08cb6",
   "metadata": {},
   "outputs": [],
   "source": [
    "string_columns_schema = StructType([\n",
    "    StructField(\"id\", StringType(), True),\n",
    "    StructField(\"name\", StringType(), True),\n",
    "    StructField(\"road\", StringType(), True),\n",
    "    StructField(\"phone\", StringType(), True),\n",
    "    StructField(\"virtualPhone\", StringType(), True),\n",
    "    StructField(\"naverBookingUrl\", StringType(), True),\n",
    "    StructField(\"talktalkUrl\", StringType(), True),\n",
    "    StructField(\"visitorReviewsTotal\", IntegerType(), True)\n",
    "])"
   ]
  },
  {
   "cell_type": "code",
   "execution_count": 17,
   "id": "42355bca-fbf6-4c6e-87b4-753a3d584854",
   "metadata": {},
   "outputs": [],
   "source": [
    "description_columns_schema = StructType([\n",
    "    StructField(\"id\", StringType(), True),\n",
    "    StructField(\"description\", StringType(), True),\n",
    "    StructField(\"description_length\", IntegerType(), True)\n",
    "])"
   ]
  },
  {
   "cell_type": "code",
   "execution_count": 18,
   "id": "cd171d17-49e8-4d49-822b-9910bf4f3c04",
   "metadata": {},
   "outputs": [],
   "source": [
    "review_keyword_columns_schema = StructType([\n",
    "    StructField(\"id\", StringType(), True),\n",
    "    StructField(\"review_keyword\", StringType(), True)\n",
    "])"
   ]
  },
  {
   "cell_type": "code",
   "execution_count": 19,
   "id": "6e5f82f2-6fa4-403f-b77b-05ee3466c8b0",
   "metadata": {},
   "outputs": [],
   "source": [
    "homepages_columns_schema = StructType([\n",
    "    StructField(\"id\", StringType(), True),\n",
    "    StructField(\"url\", StringType(), True),\n",
    "    StructField(\"type\", StringType(), True),\n",
    "    StructField(\"isDeadUrl\", BooleanType(), True),\n",
    "    StructField(\"landingUrl\", StringType(), True)\n",
    "])"
   ]
  },
  {
   "cell_type": "code",
   "execution_count": 20,
   "id": "52789a1b-688e-4764-8132-5fc89a1a906b",
   "metadata": {},
   "outputs": [],
   "source": [
    "conveniences_columns_schema = StructType([\n",
    "    StructField(\"id\", StringType(), True),\n",
    "    StructField(\"conveniences\", StringType(), True),\n",
    "])"
   ]
  },
  {
   "cell_type": "code",
   "execution_count": 21,
   "id": "45d96389-3a0c-4ece-9822-ca982df62c4d",
   "metadata": {},
   "outputs": [],
   "source": [
    "keywords_columns_schema = StructType([\n",
    "    StructField(\"id\", StringType(), True),\n",
    "    StructField(\"keywords\", StringType(), True),\n",
    "])"
   ]
  },
  {
   "cell_type": "code",
   "execution_count": 22,
   "id": "160a5adb-f23c-497a-8d72-78ea9914a555",
   "metadata": {},
   "outputs": [],
   "source": [
    "payments_columns_schema = StructType([\n",
    "    StructField(\"id\", StringType(), True),\n",
    "    StructField(\"payments\", StringType(), True),\n",
    "])"
   ]
  },
  {
   "cell_type": "code",
   "execution_count": 23,
   "id": "7a53b5cb-0999-4a92-b8b4-ca7a83fd45a8",
   "metadata": {},
   "outputs": [],
   "source": [
    "string_table = spark.createDataFrame([], string_columns_schema)"
   ]
  },
  {
   "cell_type": "code",
   "execution_count": 24,
   "id": "90f67fc3-1154-4fbd-b0d5-916c9d197811",
   "metadata": {},
   "outputs": [],
   "source": [
    "description_table = spark.createDataFrame([], description_columns_schema)"
   ]
  },
  {
   "cell_type": "code",
   "execution_count": 25,
   "id": "8188d5ca-4cdd-4fc6-ad58-be3b032d6d00",
   "metadata": {},
   "outputs": [],
   "source": [
    "review_keyword_table = spark.createDataFrame([], review_keyword_columns_schema)"
   ]
  },
  {
   "cell_type": "code",
   "execution_count": 26,
   "id": "e4b67095-a1a0-4ac6-8f47-675591fc8391",
   "metadata": {},
   "outputs": [],
   "source": [
    "homepages_table = spark.createDataFrame([], homepages_columns_schema)"
   ]
  },
  {
   "cell_type": "code",
   "execution_count": 27,
   "id": "0d0a8f6e-22ee-4f92-9e62-752787c74181",
   "metadata": {},
   "outputs": [],
   "source": [
    "conveniences_table = spark.createDataFrame([], conveniences_columns_schema)"
   ]
  },
  {
   "cell_type": "code",
   "execution_count": 28,
   "id": "d5f131a2-055d-438e-a69d-f9e108d61b7d",
   "metadata": {},
   "outputs": [],
   "source": [
    "keywords_table = spark.createDataFrame([], keywords_columns_schema)"
   ]
  },
  {
   "cell_type": "code",
   "execution_count": 29,
   "id": "8eb8035e-ccb2-4b90-ab54-397bcf316a10",
   "metadata": {},
   "outputs": [],
   "source": [
    "payments_table = spark.createDataFrame([], payments_columns_schema)"
   ]
  },
  {
   "cell_type": "markdown",
   "id": "61d92299-b0ec-4c30-a884-e65de87957aa",
   "metadata": {},
   "source": [
    "### 4. 함수"
   ]
  },
  {
   "cell_type": "code",
   "execution_count": 30,
   "id": "1e9cf7fb-b0fd-4931-bb66-b5f87136d66f",
   "metadata": {},
   "outputs": [],
   "source": [
    "def get_table(df, columns, table):\n",
    "    get_columns = df.select(columns)\n",
    "    row = remove_null(get_columns)\n",
    "    return table.union(row)"
   ]
  },
  {
   "cell_type": "code",
   "execution_count": 31,
   "id": "902c7b78-806e-43a7-8b8e-7ce3d64c1ceb",
   "metadata": {},
   "outputs": [],
   "source": [
    "def remove_null(df):\n",
    "    return df.filter(~col('name').isNull())"
   ]
  },
  {
   "cell_type": "code",
   "execution_count": 32,
   "id": "8f4e1f99-c60a-4ba5-a874-9339b9a8e251",
   "metadata": {},
   "outputs": [],
   "source": [
    "def get_description_table(df, columns, table):\n",
    "    cols = df.select(columns)\n",
    "    rows = remove_null(cols)\n",
    "    rows = rows.withColumn('description', regexp_replace('description', '\\n', ' '))\n",
    "    rows = rows.withColumn('description_length', length('description'))\n",
    "    return table.union(rows)"
   ]
  },
  {
   "cell_type": "code",
   "execution_count": 33,
   "id": "32683018-f174-434f-a6b6-3cff44e3deba",
   "metadata": {},
   "outputs": [],
   "source": [
    "def preprocessing_review_keyword(review_keyword_row):\n",
    "    review_keyword_row = review_keyword_row.withColumnRenamed(\"keyword\", \"review_keyword\")\n",
    "    review_keyword_row = review_keyword_row.withColumn(\"review_keyword\", regexp_replace(\"review_keyword\", \" & \", \", \"))\n",
    "    review_keyword_row = review_keyword_row.withColumn(\"review_keyword\", regexp_replace(\"review_keyword\", \"[()]\", \"\"))\n",
    "    review_keyword_row = review_keyword_row.withColumn(\"review_keyword\", explode(split(col(\"review_keyword\"), \", \")))\n",
    "    return review_keyword_row"
   ]
  },
  {
   "cell_type": "code",
   "execution_count": 34,
   "id": "3a0e02f3-ea8c-4a2a-abaf-d35812041272",
   "metadata": {},
   "outputs": [],
   "source": [
    "def get_review_keyword_table(struct_df, review_keyword_columns, review_keyword_df):\n",
    "    get_review_keyword_columns = struct_df.select(review_keyword_columns)\n",
    "    review_keyword_row = remove_null(get_review_keyword_columns)\n",
    "    review_keyword_row = preprocessing_review_keyword(review_keyword_row)\n",
    "    return review_keyword_df.union(review_keyword_row)"
   ]
  },
  {
   "cell_type": "code",
   "execution_count": 35,
   "id": "a9752de6-2c6c-4136-b615-4efd49ec1187",
   "metadata": {},
   "outputs": [],
   "source": [
    "def check_null(df, column):\n",
    "    cnt = df.filter(col(column).isNull()).count()\n",
    "    return True if cnt == 10 else False"
   ]
  },
  {
   "cell_type": "code",
   "execution_count": 36,
   "id": "236cfc87-1b3d-4cb0-9538-1f95bada11e1",
   "metadata": {},
   "outputs": [],
   "source": [
    "def get_homepages_table(struct_df, homepages_columns, homepages_table):\n",
    "    if check_null(struct_df, 'homepages.repr'):\n",
    "        return homepages_table\n",
    "    else:\n",
    "        return get_table(struct_df, homepages_columns, homepages_table)"
   ]
  },
  {
   "cell_type": "code",
   "execution_count": 37,
   "id": "acd83e41-a051-4740-bdab-6942d638f941",
   "metadata": {},
   "outputs": [],
   "source": [
    "def get_table_and_explode(df, columns, table, column):\n",
    "    if check_null(df, column):\n",
    "        return table\n",
    "    else:\n",
    "        get_columns = df.select(columns)\n",
    "        row = remove_null(get_columns)\n",
    "        rows = row.withColumn(column, explode(row[column]))\n",
    "        return table.union(rows)"
   ]
  },
  {
   "cell_type": "markdown",
   "id": "36057ac0-994e-49f2-bcfe-6352496e15a2",
   "metadata": {},
   "source": [
    "### 5. 데이터 전처리"
   ]
  },
  {
   "cell_type": "code",
   "execution_count": 38,
   "id": "a4a25c91-8995-4709-9f48-16f9fbf3cb99",
   "metadata": {},
   "outputs": [],
   "source": [
    "for hospital_base in hospital_bases:    \n",
    "    hospital_base_data = data.select(hospital_base)\n",
    "\n",
    "    get_columns = [col(hospital_base + \".\" + t).alias(t) for t in target_columns]\n",
    "    df = hospital_base_data.select(get_columns)\n",
    "    \n",
    "    string_table = get_table(df, string_columns, string_table)\n",
    "    description_table = get_description_table(df, description_columns, description_table)\n",
    "    struct_df = df.select(struct_columns)\n",
    "    review_keyword_table = get_review_keyword_table(struct_df, review_keyword_columns, review_keyword_table)\n",
    "    homepages_table = get_homepages_table(struct_df, homepages_columns, homepages_table)\n",
    "    conveniences_table = get_table_and_explode(df, conveniences_columns, conveniences_table, 'conveniences')\n",
    "    keywords_table = get_table_and_explode(df, keywords_columns, keywords_table, 'keywords')\n",
    "    payments_table = get_table_and_explode(df, payments_columns, payments_table, 'paymentInfo')"
   ]
  },
  {
   "cell_type": "code",
   "execution_count": 39,
   "id": "6de384bb-f29a-4fb5-b6ea-7caf392a91b1",
   "metadata": {},
   "outputs": [
    {
     "name": "stdout",
     "output_type": "stream",
     "text": [
      "+----------+---------------------+---------------------------------+------------+--------------+--------------------+--------------------+-------------------+\n",
      "|        id|                 name|                             road|       phone|  virtualPhone|     naverBookingUrl|         talktalkUrl|visitorReviewsTotal|\n",
      "+----------+---------------------+---------------------------------+------------+--------------+--------------------+--------------------+-------------------+\n",
      "|  11779766|           다인한의원| 지하철 숙대입구역 10번에서 뒤...| 02-711-9557|              |https://m.booking...|                NULL|                115|\n",
      "|1233961055|       원광좋은한의원|공덕역 4번출구 신한은행(지방재...| 02-711-3531|              |                NULL|                NULL|                 75|\n",
      "|  12857046|           동제한의원|                                 |        NULL|0507-1390-7761|                NULL|                NULL|                 53|\n",
      "|1344046290|         수풀림한의원|  수풀림한의원은 4, 6호선 삼각...|        NULL|0507-1335-9295|https://m.booking...|                NULL|                277|\n",
      "|1413208872|         아이랑한의원|                                 |02-3148-0112|              |https://m.booking...|http://talk.naver...|                114|\n",
      "|1934828030|청구경희한의원 아현점|    지하철 이용 시\\n\\n2호선 아...| 02-364-1080|              |                NULL|                NULL|                121|\n",
      "|  19518318|           아현한의원| 5호선 애오개역 4번출구 나와서...|02-3147-0075|              |                NULL|                NULL|                135|\n",
      "|  19530874|         사랑채한의원|                                 | 02-392-1075|              |                NULL|                NULL|                 72|\n",
      "| 265615453| 본디올신촌경희한의원|   지하철 이용 : 아현역 1번 출...| 02-364-1075|              |https://m.booking...|http://talk.naver...|                126|\n",
      "|  33237939|           소망한의원|    5, 6호선 공덕역 3번출구로 ...|        NULL|0507-1403-3263|                NULL|                NULL|                 16|\n",
      "+----------+---------------------+---------------------------------+------------+--------------+--------------------+--------------------+-------------------+\n",
      "\n",
      "+----------+---------------------------------+\n",
      "|        id|                   review_keyword|\n",
      "+----------+---------------------------------+\n",
      "|  11779766|                       다인한의원|\n",
      "|  11779766| 용산구 | 청파동2가 | 한의원-일반|\n",
      "|  11779766|                     \"다인한의원\"|\n",
      "|1233961055|                   원광좋은한의원|\n",
      "|1233961055|    마포구 | 공덕동 | 한의원-일반|\n",
      "|1233961055|                 \"원광좋은한의원\"|\n",
      "|  12857046|                       동제한의원|\n",
      "|  12857046|    마포구 | 아현동 | 한의원-일반|\n",
      "|  12857046|                     \"동제한의원\"|\n",
      "|1344046290|                     수풀림한의원|\n",
      "|1344046290| 용산구 | 한강로1가 | 한의원-일반|\n",
      "|1344046290|                   \"수풀림한의원\"|\n",
      "|1413208872|                     아이랑한의원|\n",
      "|1413208872|    마포구 | 아현동 | 한의원-일반|\n",
      "|1413208872|                   \"아이랑한의원\"|\n",
      "|1934828030|            청구경희한의원 아현점|\n",
      "|1934828030|    마포구 | 아현동 | 한의원-일반|\n",
      "|1934828030|          \"청구경희한의원 아현점\"|\n",
      "|  19518318|                아현동 아현한의원|\n",
      "|  19530874|                     사랑채한의원|\n",
      "|  19530874|      중구 | 중림동 | 한의원-일반|\n",
      "|  19530874|                   \"사랑채한의원\"|\n",
      "| 265615453|             본디올신촌경희한의원|\n",
      "| 265615453|서대문구 | 북아현동 | 한의원-일반|\n",
      "| 265615453|           \"본디올신촌경희한의원\"|\n",
      "|  33237939|                공덕동 소망한의원|\n",
      "+----------+---------------------------------+\n",
      "\n",
      "+----------+--------------------+----------+---------+--------------------+\n",
      "|        id|                 url|      type|isDeadUrl|          landingUrl|\n",
      "+----------+--------------------+----------+---------+--------------------+\n",
      "|  11779766|https://blog.nave...|    블로그|    false|https://blog.nave...|\n",
      "|1233961055|https://blog.nave...|    블로그|    false|https://blog.nave...|\n",
      "|1344046290|https://sooprime....|  웹사이트|    false|https://sooprime....|\n",
      "|1413208872|https://blog.nave...|    블로그|    false|https://blog.nave...|\n",
      "|1934828030|http://ahyeon.blu...|  웹사이트|    false|http://ahyeon.blu...|\n",
      "|  19518318|https://www.insta...|인스타그램|    false|https://www.insta...|\n",
      "| 265615453|https://blog.nave...|    블로그|    false|https://blog.nave...|\n",
      "|  33237939|https://blog.nave...|    블로그|    false|https://blog.nave...|\n",
      "+----------+--------------------+----------+---------+--------------------+\n",
      "\n",
      "+----------+-----------------+\n",
      "|        id|     conveniences|\n",
      "+----------+-----------------+\n",
      "|  11779766|             주차|\n",
      "|  11779766|             예약|\n",
      "|  11779766|      무선 인터넷|\n",
      "|  11779766|남/녀 화장실 구분|\n",
      "|1233961055|             예약|\n",
      "|1233961055|      무선 인터넷|\n",
      "|1233961055|남/녀 화장실 구분|\n",
      "|1344046290|             예약|\n",
      "|1344046290|      무선 인터넷|\n",
      "|1413208872|             주차|\n",
      "|1413208872|             예약|\n",
      "|1413208872|      무선 인터넷|\n",
      "|1413208872|남/녀 화장실 구분|\n",
      "|1934828030|             주차|\n",
      "|1934828030|             예약|\n",
      "|1934828030|      무선 인터넷|\n",
      "|1934828030|남/녀 화장실 구분|\n",
      "|  19518318|      무선 인터넷|\n",
      "|  19518318|남/녀 화장실 구분|\n",
      "| 265615453|             주차|\n",
      "| 265615453|             예약|\n",
      "| 265615453|남/녀 화장실 구분|\n",
      "| 265615453|  장애인 편의시설|\n",
      "|  33237939|             주차|\n",
      "|  33237939|             예약|\n",
      "|  33237939|      무선 인터넷|\n",
      "+----------+-----------------+\n",
      "\n",
      "+----------+--------------------+\n",
      "|        id|            keywords|\n",
      "+----------+--------------------+\n",
      "|  11779766|      통증퇴행성질환|\n",
      "|  11779766|        다이어트비만|\n",
      "|  11779766|            교통사고|\n",
      "|  11779766|                피부|\n",
      "|  11779766|            생리불순|\n",
      "|1233961055|         공덕_한의원|\n",
      "|1233961055|            다이어트|\n",
      "|1233961055|              공진단|\n",
      "|1233961055|          자동차사고|\n",
      "|1233961055|                약침|\n",
      "|1344046290|          용산한의원|\n",
      "|1344046290|        다이어트한약|\n",
      "|1344046290|      류마티스관절염|\n",
      "|1344046290|          섬유근육통|\n",
      "|1344046290|        한방다이어트|\n",
      "|1413208872|          소아한의원|\n",
      "|1413208872|        어린이한의원|\n",
      "|1413208872|            산후보약|\n",
      "|1413208872|      애오개역한의원|\n",
      "|1413208872|        아현역한의원|\n",
      "|1934828030|        아현역한의원|\n",
      "|1934828030|            추나요법|\n",
      "|1934828030|      교통사고후유증|\n",
      "|1934828030|            골반교정|\n",
      "|1934828030|              턱관절|\n",
      "|  19518318|                통증|\n",
      "|  19518318|            다이어트|\n",
      "|  19518318|                보약|\n",
      "|  19518318|              공진단|\n",
      "|  19518318|                요통|\n",
      "| 265615453|        아현역한의원|\n",
      "| 265615453|        아현동한의원|\n",
      "| 265615453|    아현동체질한의원|\n",
      "| 265615453|아현역교통사고한의원|\n",
      "| 265615453| 아현역1번출구한의원|\n",
      "|  33237939|  교통사고자동차보험|\n",
      "|  33237939|        수험생총명탕|\n",
      "|  33237939|      디스크통증추나|\n",
      "|  33237939|              한의원|\n",
      "|  33237939|              편두통|\n",
      "+----------+--------------------+\n",
      "\n",
      "+----------+--------------------------+\n",
      "|        id|                  payments|\n",
      "+----------+--------------------------+\n",
      "|  11779766|                  제로페이|\n",
      "|1233961055|지역화폐(지류,카드,모바일)|\n",
      "|1233961055|                  제로페이|\n",
      "|  12857046|                  제로페이|\n",
      "|1344046290|            지역화폐(카드)|\n",
      "|1344046290|                  제로페이|\n",
      "|1413208872|지역화폐(지류,카드,모바일)|\n",
      "|1413208872|                  제로페이|\n",
      "|1934828030|     지역화폐(카드,모바일)|\n",
      "|1934828030|                  제로페이|\n",
      "|  19518318|     지역화폐(카드,모바일)|\n",
      "|  19518318|                  제로페이|\n",
      "|  19530874|                  제로페이|\n",
      "| 265615453|                  제로페이|\n",
      "|  33237939|                  제로페이|\n",
      "+----------+--------------------------+\n",
      "\n",
      "+----------+----------------------------------+------------------+\n",
      "|        id|                       description|description_length|\n",
      "+----------+----------------------------------+------------------+\n",
      "|  11779766| 숙대 앞 청파로에 위치한 한방재...|               253|\n",
      "|1233961055|편안하고 아늑한 분위기에서 최선...|               246|\n",
      "|  12857046|                                  |                 0|\n",
      "|1344046290|바른 철학으로 치료하는 수풀림한...|               560|\n",
      "|1413208872| 아이랑 한의원은 소개율이 높은 ...|               814|\n",
      "|1934828030|안녕하세요. 청구경희한의원 아현...|               603|\n",
      "|  19518318|           환자의 입장에서 봅니다.|                13|\n",
      "|  19530874|                                  |                 0|\n",
      "| 265615453|본디올신촌경희한의원은 지하철 2...|               104|\n",
      "|  33237939| 마포 공덕역 주변에 위치한 소망...|               662|\n",
      "+----------+----------------------------------+------------------+\n",
      "\n"
     ]
    }
   ],
   "source": [
    "string_table.show(50)\n",
    "review_keyword_table.show(50)\n",
    "homepages_table.show(50)\n",
    "conveniences_table.show(50)\n",
    "keywords_table.show(50)\n",
    "payments_table.show(50)\n",
    "description_table.show(50)"
   ]
  },
  {
   "cell_type": "code",
   "execution_count": 54,
   "id": "ec28473b-177c-452c-a17b-85e52073189c",
   "metadata": {},
   "outputs": [],
   "source": [
    "base_path = '/Users/b06/Desktop/yeardream/medi-05/data/output/'\n",
    "def save_to_csv(df, name):\n",
    "    path = os.path.join(base_path, name)\n",
    "    # DataFrame을 하나의 파일로 저장\n",
    "    # coalesce(1)을 사용하여 모든 데이터를 단일 파티션으로 합침\n",
    "    df.coalesce(1).write.mode('append').option(\"encoding\", \"cp949\").csv(path, header=True)"
   ]
  },
  {
   "cell_type": "code",
   "execution_count": 55,
   "id": "1bc5ca34-7b90-4278-9be5-69748096c569",
   "metadata": {},
   "outputs": [],
   "source": [
    "save_to_csv(string_table, 'string_table')\n",
    "save_to_csv(description_table, 'description_table')\n",
    "save_to_csv(review_keyword_table, 'review_keyword_table')\n",
    "save_to_csv(homepages_table, 'homepages_table')\n",
    "save_to_csv(conveniences_table, 'conveniences_table')\n",
    "save_to_csv(keywords_table, 'keywords_table')\n",
    "save_to_csv(payments_table, 'payments_table')"
   ]
  },
  {
   "cell_type": "code",
   "execution_count": 56,
   "id": "56cc47ca-c368-412a-b882-ea61492ef090",
   "metadata": {},
   "outputs": [
    {
     "ename": "IsADirectoryError",
     "evalue": "[Errno 21] Is a directory: '/Users/b06/Desktop/yeardream/medi-05/data/output/string_table.csv'",
     "output_type": "error",
     "traceback": [
      "\u001b[0;31m---------------------------------------------------------------------------\u001b[0m",
      "\u001b[0;31mIsADirectoryError\u001b[0m                         Traceback (most recent call last)",
      "Cell \u001b[0;32mIn[56], line 1\u001b[0m\n\u001b[0;32m----> 1\u001b[0m \u001b[43mpd\u001b[49m\u001b[38;5;241;43m.\u001b[39;49m\u001b[43mread_csv\u001b[49m\u001b[43m(\u001b[49m\u001b[43mbase_path\u001b[49m\u001b[43m \u001b[49m\u001b[38;5;241;43m+\u001b[39;49m\u001b[43m \u001b[49m\u001b[38;5;124;43m'\u001b[39;49m\u001b[38;5;124;43mstring_table.csv\u001b[39;49m\u001b[38;5;124;43m'\u001b[39;49m\u001b[43m)\u001b[49m\n",
      "File \u001b[0;32m/opt/homebrew/Cellar/jupyterlab/4.0.8/libexec/lib/python3.11/site-packages/pandas/io/parsers/readers.py:948\u001b[0m, in \u001b[0;36mread_csv\u001b[0;34m(filepath_or_buffer, sep, delimiter, header, names, index_col, usecols, dtype, engine, converters, true_values, false_values, skipinitialspace, skiprows, skipfooter, nrows, na_values, keep_default_na, na_filter, verbose, skip_blank_lines, parse_dates, infer_datetime_format, keep_date_col, date_parser, date_format, dayfirst, cache_dates, iterator, chunksize, compression, thousands, decimal, lineterminator, quotechar, quoting, doublequote, escapechar, comment, encoding, encoding_errors, dialect, on_bad_lines, delim_whitespace, low_memory, memory_map, float_precision, storage_options, dtype_backend)\u001b[0m\n\u001b[1;32m    935\u001b[0m kwds_defaults \u001b[38;5;241m=\u001b[39m _refine_defaults_read(\n\u001b[1;32m    936\u001b[0m     dialect,\n\u001b[1;32m    937\u001b[0m     delimiter,\n\u001b[0;32m   (...)\u001b[0m\n\u001b[1;32m    944\u001b[0m     dtype_backend\u001b[38;5;241m=\u001b[39mdtype_backend,\n\u001b[1;32m    945\u001b[0m )\n\u001b[1;32m    946\u001b[0m kwds\u001b[38;5;241m.\u001b[39mupdate(kwds_defaults)\n\u001b[0;32m--> 948\u001b[0m \u001b[38;5;28;01mreturn\u001b[39;00m \u001b[43m_read\u001b[49m\u001b[43m(\u001b[49m\u001b[43mfilepath_or_buffer\u001b[49m\u001b[43m,\u001b[49m\u001b[43m \u001b[49m\u001b[43mkwds\u001b[49m\u001b[43m)\u001b[49m\n",
      "File \u001b[0;32m/opt/homebrew/Cellar/jupyterlab/4.0.8/libexec/lib/python3.11/site-packages/pandas/io/parsers/readers.py:611\u001b[0m, in \u001b[0;36m_read\u001b[0;34m(filepath_or_buffer, kwds)\u001b[0m\n\u001b[1;32m    608\u001b[0m _validate_names(kwds\u001b[38;5;241m.\u001b[39mget(\u001b[38;5;124m\"\u001b[39m\u001b[38;5;124mnames\u001b[39m\u001b[38;5;124m\"\u001b[39m, \u001b[38;5;28;01mNone\u001b[39;00m))\n\u001b[1;32m    610\u001b[0m \u001b[38;5;66;03m# Create the parser.\u001b[39;00m\n\u001b[0;32m--> 611\u001b[0m parser \u001b[38;5;241m=\u001b[39m \u001b[43mTextFileReader\u001b[49m\u001b[43m(\u001b[49m\u001b[43mfilepath_or_buffer\u001b[49m\u001b[43m,\u001b[49m\u001b[43m \u001b[49m\u001b[38;5;241;43m*\u001b[39;49m\u001b[38;5;241;43m*\u001b[39;49m\u001b[43mkwds\u001b[49m\u001b[43m)\u001b[49m\n\u001b[1;32m    613\u001b[0m \u001b[38;5;28;01mif\u001b[39;00m chunksize \u001b[38;5;129;01mor\u001b[39;00m iterator:\n\u001b[1;32m    614\u001b[0m     \u001b[38;5;28;01mreturn\u001b[39;00m parser\n",
      "File \u001b[0;32m/opt/homebrew/Cellar/jupyterlab/4.0.8/libexec/lib/python3.11/site-packages/pandas/io/parsers/readers.py:1448\u001b[0m, in \u001b[0;36mTextFileReader.__init__\u001b[0;34m(self, f, engine, **kwds)\u001b[0m\n\u001b[1;32m   1445\u001b[0m     \u001b[38;5;28mself\u001b[39m\u001b[38;5;241m.\u001b[39moptions[\u001b[38;5;124m\"\u001b[39m\u001b[38;5;124mhas_index_names\u001b[39m\u001b[38;5;124m\"\u001b[39m] \u001b[38;5;241m=\u001b[39m kwds[\u001b[38;5;124m\"\u001b[39m\u001b[38;5;124mhas_index_names\u001b[39m\u001b[38;5;124m\"\u001b[39m]\n\u001b[1;32m   1447\u001b[0m \u001b[38;5;28mself\u001b[39m\u001b[38;5;241m.\u001b[39mhandles: IOHandles \u001b[38;5;241m|\u001b[39m \u001b[38;5;28;01mNone\u001b[39;00m \u001b[38;5;241m=\u001b[39m \u001b[38;5;28;01mNone\u001b[39;00m\n\u001b[0;32m-> 1448\u001b[0m \u001b[38;5;28mself\u001b[39m\u001b[38;5;241m.\u001b[39m_engine \u001b[38;5;241m=\u001b[39m \u001b[38;5;28;43mself\u001b[39;49m\u001b[38;5;241;43m.\u001b[39;49m\u001b[43m_make_engine\u001b[49m\u001b[43m(\u001b[49m\u001b[43mf\u001b[49m\u001b[43m,\u001b[49m\u001b[43m \u001b[49m\u001b[38;5;28;43mself\u001b[39;49m\u001b[38;5;241;43m.\u001b[39;49m\u001b[43mengine\u001b[49m\u001b[43m)\u001b[49m\n",
      "File \u001b[0;32m/opt/homebrew/Cellar/jupyterlab/4.0.8/libexec/lib/python3.11/site-packages/pandas/io/parsers/readers.py:1705\u001b[0m, in \u001b[0;36mTextFileReader._make_engine\u001b[0;34m(self, f, engine)\u001b[0m\n\u001b[1;32m   1703\u001b[0m     \u001b[38;5;28;01mif\u001b[39;00m \u001b[38;5;124m\"\u001b[39m\u001b[38;5;124mb\u001b[39m\u001b[38;5;124m\"\u001b[39m \u001b[38;5;129;01mnot\u001b[39;00m \u001b[38;5;129;01min\u001b[39;00m mode:\n\u001b[1;32m   1704\u001b[0m         mode \u001b[38;5;241m+\u001b[39m\u001b[38;5;241m=\u001b[39m \u001b[38;5;124m\"\u001b[39m\u001b[38;5;124mb\u001b[39m\u001b[38;5;124m\"\u001b[39m\n\u001b[0;32m-> 1705\u001b[0m \u001b[38;5;28mself\u001b[39m\u001b[38;5;241m.\u001b[39mhandles \u001b[38;5;241m=\u001b[39m \u001b[43mget_handle\u001b[49m\u001b[43m(\u001b[49m\n\u001b[1;32m   1706\u001b[0m \u001b[43m    \u001b[49m\u001b[43mf\u001b[49m\u001b[43m,\u001b[49m\n\u001b[1;32m   1707\u001b[0m \u001b[43m    \u001b[49m\u001b[43mmode\u001b[49m\u001b[43m,\u001b[49m\n\u001b[1;32m   1708\u001b[0m \u001b[43m    \u001b[49m\u001b[43mencoding\u001b[49m\u001b[38;5;241;43m=\u001b[39;49m\u001b[38;5;28;43mself\u001b[39;49m\u001b[38;5;241;43m.\u001b[39;49m\u001b[43moptions\u001b[49m\u001b[38;5;241;43m.\u001b[39;49m\u001b[43mget\u001b[49m\u001b[43m(\u001b[49m\u001b[38;5;124;43m\"\u001b[39;49m\u001b[38;5;124;43mencoding\u001b[39;49m\u001b[38;5;124;43m\"\u001b[39;49m\u001b[43m,\u001b[49m\u001b[43m \u001b[49m\u001b[38;5;28;43;01mNone\u001b[39;49;00m\u001b[43m)\u001b[49m\u001b[43m,\u001b[49m\n\u001b[1;32m   1709\u001b[0m \u001b[43m    \u001b[49m\u001b[43mcompression\u001b[49m\u001b[38;5;241;43m=\u001b[39;49m\u001b[38;5;28;43mself\u001b[39;49m\u001b[38;5;241;43m.\u001b[39;49m\u001b[43moptions\u001b[49m\u001b[38;5;241;43m.\u001b[39;49m\u001b[43mget\u001b[49m\u001b[43m(\u001b[49m\u001b[38;5;124;43m\"\u001b[39;49m\u001b[38;5;124;43mcompression\u001b[39;49m\u001b[38;5;124;43m\"\u001b[39;49m\u001b[43m,\u001b[49m\u001b[43m \u001b[49m\u001b[38;5;28;43;01mNone\u001b[39;49;00m\u001b[43m)\u001b[49m\u001b[43m,\u001b[49m\n\u001b[1;32m   1710\u001b[0m \u001b[43m    \u001b[49m\u001b[43mmemory_map\u001b[49m\u001b[38;5;241;43m=\u001b[39;49m\u001b[38;5;28;43mself\u001b[39;49m\u001b[38;5;241;43m.\u001b[39;49m\u001b[43moptions\u001b[49m\u001b[38;5;241;43m.\u001b[39;49m\u001b[43mget\u001b[49m\u001b[43m(\u001b[49m\u001b[38;5;124;43m\"\u001b[39;49m\u001b[38;5;124;43mmemory_map\u001b[39;49m\u001b[38;5;124;43m\"\u001b[39;49m\u001b[43m,\u001b[49m\u001b[43m \u001b[49m\u001b[38;5;28;43;01mFalse\u001b[39;49;00m\u001b[43m)\u001b[49m\u001b[43m,\u001b[49m\n\u001b[1;32m   1711\u001b[0m \u001b[43m    \u001b[49m\u001b[43mis_text\u001b[49m\u001b[38;5;241;43m=\u001b[39;49m\u001b[43mis_text\u001b[49m\u001b[43m,\u001b[49m\n\u001b[1;32m   1712\u001b[0m \u001b[43m    \u001b[49m\u001b[43merrors\u001b[49m\u001b[38;5;241;43m=\u001b[39;49m\u001b[38;5;28;43mself\u001b[39;49m\u001b[38;5;241;43m.\u001b[39;49m\u001b[43moptions\u001b[49m\u001b[38;5;241;43m.\u001b[39;49m\u001b[43mget\u001b[49m\u001b[43m(\u001b[49m\u001b[38;5;124;43m\"\u001b[39;49m\u001b[38;5;124;43mencoding_errors\u001b[39;49m\u001b[38;5;124;43m\"\u001b[39;49m\u001b[43m,\u001b[49m\u001b[43m \u001b[49m\u001b[38;5;124;43m\"\u001b[39;49m\u001b[38;5;124;43mstrict\u001b[39;49m\u001b[38;5;124;43m\"\u001b[39;49m\u001b[43m)\u001b[49m\u001b[43m,\u001b[49m\n\u001b[1;32m   1713\u001b[0m \u001b[43m    \u001b[49m\u001b[43mstorage_options\u001b[49m\u001b[38;5;241;43m=\u001b[39;49m\u001b[38;5;28;43mself\u001b[39;49m\u001b[38;5;241;43m.\u001b[39;49m\u001b[43moptions\u001b[49m\u001b[38;5;241;43m.\u001b[39;49m\u001b[43mget\u001b[49m\u001b[43m(\u001b[49m\u001b[38;5;124;43m\"\u001b[39;49m\u001b[38;5;124;43mstorage_options\u001b[39;49m\u001b[38;5;124;43m\"\u001b[39;49m\u001b[43m,\u001b[49m\u001b[43m \u001b[49m\u001b[38;5;28;43;01mNone\u001b[39;49;00m\u001b[43m)\u001b[49m\u001b[43m,\u001b[49m\n\u001b[1;32m   1714\u001b[0m \u001b[43m\u001b[49m\u001b[43m)\u001b[49m\n\u001b[1;32m   1715\u001b[0m \u001b[38;5;28;01massert\u001b[39;00m \u001b[38;5;28mself\u001b[39m\u001b[38;5;241m.\u001b[39mhandles \u001b[38;5;129;01mis\u001b[39;00m \u001b[38;5;129;01mnot\u001b[39;00m \u001b[38;5;28;01mNone\u001b[39;00m\n\u001b[1;32m   1716\u001b[0m f \u001b[38;5;241m=\u001b[39m \u001b[38;5;28mself\u001b[39m\u001b[38;5;241m.\u001b[39mhandles\u001b[38;5;241m.\u001b[39mhandle\n",
      "File \u001b[0;32m/opt/homebrew/Cellar/jupyterlab/4.0.8/libexec/lib/python3.11/site-packages/pandas/io/common.py:863\u001b[0m, in \u001b[0;36mget_handle\u001b[0;34m(path_or_buf, mode, encoding, compression, memory_map, is_text, errors, storage_options)\u001b[0m\n\u001b[1;32m    858\u001b[0m \u001b[38;5;28;01melif\u001b[39;00m \u001b[38;5;28misinstance\u001b[39m(handle, \u001b[38;5;28mstr\u001b[39m):\n\u001b[1;32m    859\u001b[0m     \u001b[38;5;66;03m# Check whether the filename is to be opened in binary mode.\u001b[39;00m\n\u001b[1;32m    860\u001b[0m     \u001b[38;5;66;03m# Binary mode does not support 'encoding' and 'newline'.\u001b[39;00m\n\u001b[1;32m    861\u001b[0m     \u001b[38;5;28;01mif\u001b[39;00m ioargs\u001b[38;5;241m.\u001b[39mencoding \u001b[38;5;129;01mand\u001b[39;00m \u001b[38;5;124m\"\u001b[39m\u001b[38;5;124mb\u001b[39m\u001b[38;5;124m\"\u001b[39m \u001b[38;5;129;01mnot\u001b[39;00m \u001b[38;5;129;01min\u001b[39;00m ioargs\u001b[38;5;241m.\u001b[39mmode:\n\u001b[1;32m    862\u001b[0m         \u001b[38;5;66;03m# Encoding\u001b[39;00m\n\u001b[0;32m--> 863\u001b[0m         handle \u001b[38;5;241m=\u001b[39m \u001b[38;5;28;43mopen\u001b[39;49m\u001b[43m(\u001b[49m\n\u001b[1;32m    864\u001b[0m \u001b[43m            \u001b[49m\u001b[43mhandle\u001b[49m\u001b[43m,\u001b[49m\n\u001b[1;32m    865\u001b[0m \u001b[43m            \u001b[49m\u001b[43mioargs\u001b[49m\u001b[38;5;241;43m.\u001b[39;49m\u001b[43mmode\u001b[49m\u001b[43m,\u001b[49m\n\u001b[1;32m    866\u001b[0m \u001b[43m            \u001b[49m\u001b[43mencoding\u001b[49m\u001b[38;5;241;43m=\u001b[39;49m\u001b[43mioargs\u001b[49m\u001b[38;5;241;43m.\u001b[39;49m\u001b[43mencoding\u001b[49m\u001b[43m,\u001b[49m\n\u001b[1;32m    867\u001b[0m \u001b[43m            \u001b[49m\u001b[43merrors\u001b[49m\u001b[38;5;241;43m=\u001b[39;49m\u001b[43merrors\u001b[49m\u001b[43m,\u001b[49m\n\u001b[1;32m    868\u001b[0m \u001b[43m            \u001b[49m\u001b[43mnewline\u001b[49m\u001b[38;5;241;43m=\u001b[39;49m\u001b[38;5;124;43m\"\u001b[39;49m\u001b[38;5;124;43m\"\u001b[39;49m\u001b[43m,\u001b[49m\n\u001b[1;32m    869\u001b[0m \u001b[43m        \u001b[49m\u001b[43m)\u001b[49m\n\u001b[1;32m    870\u001b[0m     \u001b[38;5;28;01melse\u001b[39;00m:\n\u001b[1;32m    871\u001b[0m         \u001b[38;5;66;03m# Binary mode\u001b[39;00m\n\u001b[1;32m    872\u001b[0m         handle \u001b[38;5;241m=\u001b[39m \u001b[38;5;28mopen\u001b[39m(handle, ioargs\u001b[38;5;241m.\u001b[39mmode)\n",
      "\u001b[0;31mIsADirectoryError\u001b[0m: [Errno 21] Is a directory: '/Users/b06/Desktop/yeardream/medi-05/data/output/string_table.csv'"
     ]
    }
   ],
   "source": [
    "pd.read_csv(base_path + 'string_table.csv')"
   ]
  },
  {
   "cell_type": "markdown",
   "id": "fe880c16-b61e-4b0f-8dca-74b43de3c71f",
   "metadata": {},
   "source": [
    "### Test codes\n",
    "---"
   ]
  },
  {
   "cell_type": "code",
   "execution_count": 42,
   "id": "506b8ec7-61f0-4add-a915-338411b454aa",
   "metadata": {},
   "outputs": [],
   "source": [
    "# rows = rows.collect()\n",
    "# for row in rows:\n",
    "#     print(row)"
   ]
  },
  {
   "cell_type": "code",
   "execution_count": 43,
   "id": "4405c114-6c4e-4919-8c7b-3f593822d704",
   "metadata": {},
   "outputs": [],
   "source": [
    "# hb = hospital_bases[3]\n",
    "# hb_data = data.select(hb)\n",
    "# get_columns = [col(hb + \".\" + t).alias(t) for t in target_columns]\n",
    "# df = hb_data.select(get_columns)"
   ]
  },
  {
   "cell_type": "code",
   "execution_count": 44,
   "id": "03e770f6-c3a7-4241-87c2-5252e23822f4",
   "metadata": {},
   "outputs": [],
   "source": [
    "# print(hospital_bases[1])"
   ]
  },
  {
   "cell_type": "code",
   "execution_count": 45,
   "id": "3ecb2ff7-23b9-429f-a56e-86d65a515814",
   "metadata": {},
   "outputs": [],
   "source": [
    "# cols = df.select('description')\n",
    "# rows = remove_null(cols)\n",
    "# rows = rows.withColumn('description', regexp_replace('description', '\\n', ' '))\n",
    "# rows = rows.withColumn('description_length', length('description'))\n",
    "# rows.show()"
   ]
  }
 ],
 "metadata": {
  "kernelspec": {
   "display_name": "Python 3 (ipykernel)",
   "language": "python",
   "name": "python3"
  },
  "language_info": {
   "codemirror_mode": {
    "name": "ipython",
    "version": 3
   },
   "file_extension": ".py",
   "mimetype": "text/x-python",
   "name": "python",
   "nbconvert_exporter": "python",
   "pygments_lexer": "ipython3",
   "version": "3.11.6"
  }
 },
 "nbformat": 4,
 "nbformat_minor": 5
}
