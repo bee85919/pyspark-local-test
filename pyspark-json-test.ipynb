{
 "cells": [
  {
   "cell_type": "code",
   "execution_count": 1,
   "id": "26295c02-41ce-4e73-a5bf-e765bc75d619",
   "metadata": {},
   "outputs": [
    {
     "name": "stdout",
     "output_type": "stream",
     "text": [
      "Requirement already satisfied: pandas in /opt/homebrew/Cellar/jupyterlab/4.0.8/libexec/lib/python3.11/site-packages (2.1.3)\n",
      "Requirement already satisfied: numpy<2,>=1.23.2 in /opt/homebrew/Cellar/jupyterlab/4.0.8/libexec/lib/python3.11/site-packages (from pandas) (1.26.2)\n",
      "Requirement already satisfied: python-dateutil>=2.8.2 in /opt/homebrew/Cellar/jupyterlab/4.0.8/libexec/lib/python3.11/site-packages (from pandas) (2.8.2)\n",
      "Requirement already satisfied: pytz>=2020.1 in /opt/homebrew/Cellar/jupyterlab/4.0.8/libexec/lib/python3.11/site-packages (from pandas) (2023.3.post1)\n",
      "Requirement already satisfied: tzdata>=2022.1 in /opt/homebrew/Cellar/jupyterlab/4.0.8/libexec/lib/python3.11/site-packages (from pandas) (2023.3)\n",
      "Requirement already satisfied: six>=1.5 in /opt/homebrew/opt/six/lib/python3.11/site-packages (from python-dateutil>=2.8.2->pandas) (1.16.0)\n",
      "Note: you may need to restart the kernel to use updated packages.\n"
     ]
    }
   ],
   "source": [
    "pip install pandas"
   ]
  },
  {
   "cell_type": "code",
   "execution_count": 2,
   "id": "9e674a06-55ef-44dc-87f1-246b870570a0",
   "metadata": {},
   "outputs": [],
   "source": [
    "import json\n",
    "import pandas as pd\n",
    "from pyspark import SparkContext, SQLContext\n",
    "from pyspark.sql import SparkSession\n",
    "from pyspark.sql.functions import explode, map_keys, col, first, get_json_object, array, to_json, struct"
   ]
  },
  {
   "cell_type": "code",
   "execution_count": 3,
   "id": "3fe7819e-489e-49be-a706-449fce71d9d1",
   "metadata": {},
   "outputs": [
    {
     "name": "stderr",
     "output_type": "stream",
     "text": [
      "23/11/17 16:35:04 WARN SparkSession: Using an existing Spark session; only runtime SQL configurations will take effect.\n"
     ]
    }
   ],
   "source": [
    "# Spark 세션 생성\n",
    "spark = SparkSession \\\n",
    "        .builder \\\n",
    "        .appName(\"processingJson\") \\\n",
    "        .getOrCreate()"
   ]
  },
  {
   "cell_type": "code",
   "execution_count": 4,
   "id": "dadf2b9a-391b-473c-99d7-ea26fdda56c1",
   "metadata": {},
   "outputs": [],
   "source": [
    "# 분할된 JSON 파일 경로 선택하는 함수\n",
    "def nth_json_path(n):\n",
    "    return f'/Users/b06/Desktop/yeardream/medi-05/data/naverplace_meta/naverplace_meta_{n}.json'"
   ]
  },
  {
   "cell_type": "code",
   "execution_count": 5,
   "id": "781a5ea3-b3cb-4454-9cca-b29c688e276a",
   "metadata": {},
   "outputs": [
    {
     "data": {
      "text/plain": [
       "'/Users/b06/Desktop/yeardream/medi-05/data/naverplace_meta/naverplace_meta_1.json'"
      ]
     },
     "execution_count": 5,
     "metadata": {},
     "output_type": "execute_result"
    }
   ],
   "source": [
    "# 첫번째 JSON 파일 경로\n",
    "n = 1\n",
    "json_path_1 = nth_json_path(n)\n",
    "json_path_1"
   ]
  },
  {
   "cell_type": "code",
   "execution_count": 6,
   "id": "e832b16a-1f3a-4d1a-969f-fb69ab02e104",
   "metadata": {},
   "outputs": [
    {
     "name": "stderr",
     "output_type": "stream",
     "text": [
      "23/11/17 16:35:06 WARN SparkStringUtils: Truncated the string representation of a plan since it was too large. This behavior can be adjusted by setting 'spark.sql.debug.maxToStringFields'.\n"
     ]
    }
   ],
   "source": [
    "data = spark.read.json(json_path_1)"
   ]
  },
  {
   "cell_type": "code",
   "execution_count": 7,
   "id": "b369a806-5d68-4f13-ab1a-1479e2d57160",
   "metadata": {},
   "outputs": [],
   "source": [
    "## EDA\n",
    "#df.show(1)\n",
    "#df.printSchema(1)\n",
    "#df.dtypes\n",
    "columns = data.columns"
   ]
  },
  {
   "cell_type": "code",
   "execution_count": 8,
   "id": "a4a25c91-8995-4709-9f48-16f9fbf3cb99",
   "metadata": {},
   "outputs": [
    {
     "data": {
      "text/plain": [
       "['HospitalBase:11779766',\n",
       " 'HospitalBase:1233961055',\n",
       " 'HospitalBase:12857046',\n",
       " 'HospitalBase:1344046290',\n",
       " 'HospitalBase:1413208872',\n",
       " 'HospitalBase:1934828030',\n",
       " 'HospitalBase:19518318',\n",
       " 'HospitalBase:19530874',\n",
       " 'HospitalBase:265615453',\n",
       " 'HospitalBase:33237939']"
      ]
     },
     "execution_count": 8,
     "metadata": {},
     "output_type": "execute_result"
    }
   ],
   "source": [
    "hb_columns = [c for c in columns if \"HospitalBase\" in c]\n",
    "hb_columns"
   ]
  },
  {
   "cell_type": "code",
   "execution_count": 9,
   "id": "a5783128-b4df-4574-a613-98c1df361c89",
   "metadata": {},
   "outputs": [
    {
     "data": {
      "text/plain": [
       "'HospitalBase:11779766'"
      ]
     },
     "execution_count": 9,
     "metadata": {},
     "output_type": "execute_result"
    }
   ],
   "source": [
    "hb_column = hb_columns.pop(0)\n",
    "hb_column"
   ]
  },
  {
   "cell_type": "code",
   "execution_count": 10,
   "id": "92896409-dcd5-47a1-a93b-c741acf26c04",
   "metadata": {},
   "outputs": [
    {
     "name": "stdout",
     "output_type": "stream",
     "text": [
      "root\n",
      " |-- HospitalBase:11779766: struct (nullable = true)\n",
      " |    |-- __typename: string (nullable = true)\n",
      " |    |-- address: string (nullable = true)\n",
      " |    |-- bookingBusinessId: string (nullable = true)\n",
      " |    |-- bookingButtonName: string (nullable = true)\n",
      " |    |-- bookingDisplayName: string (nullable = true)\n",
      " |    |-- bookingHubButtonName: string (nullable = true)\n",
      " |    |-- broadcastInfos: string (nullable = true)\n",
      " |    |-- businessHours: array (nullable = true)\n",
      " |    |-- category: string (nullable = true)\n",
      " |    |-- categoryCode: string (nullable = true)\n",
      " |    |-- categoryCodeList: array (nullable = true)\n",
      " |    |-- categoryCount: long (nullable = true)\n",
      " |    |-- cescoCheck: string (nullable = true)\n",
      " |    |-- cescoLink: string (nullable = true)\n",
      " |    |-- cescofsCheck: string (nullable = true)\n",
      " |    |-- cescofsLink: string (nullable = true)\n",
      " |    |-- chatBotUrl: string (nullable = true)\n",
      " |    |-- conveniences: array (nullable = true)\n",
      " |    |-- coordinate: struct (nullable = true)\n",
      " |    |-- coronaTreatmentTelNo: string (nullable = true)\n",
      " |    |-- defaultCategoryCodeList: array (nullable = true)\n",
      " |    |-- description: string (nullable = true)\n",
      " |    |-- detailPath: string (nullable = true)\n",
      " |    |-- generalHospital: string (nullable = true)\n",
      " |    |-- giftCards: string (nullable = true)\n",
      " |    |-- gifticonId: string (nullable = true)\n",
      " |    |-- gifticonMoreUrl: string (nullable = true)\n",
      " |    |-- hasCoronaMedicalCenter: boolean (nullable = true)\n",
      " |    |-- hasOfficialImages: boolean (nullable = true)\n",
      " |    |-- homepages: struct (nullable = true)\n",
      " |    |-- id: string (nullable = true)\n",
      " |    |-- images: array (nullable = true)\n",
      " |    |-- imagesLastModified: string (nullable = true)\n",
      " |    |-- imagesLastModifiedDate: string (nullable = true)\n",
      " |    |-- is100YearCertified: string (nullable = true)\n",
      " |    |-- isKtis: string (nullable = true)\n",
      " |    |-- keywords: array (nullable = true)\n",
      " |    |-- mapUrl: string (nullable = true)\n",
      " |    |-- menuImages: string (nullable = true)\n",
      " |    |-- menus: string (nullable = true)\n",
      " |    |-- microReviews: string (nullable = true)\n",
      " |    |-- missingInfo: struct (nullable = true)\n",
      " |    |-- moreBookingReviewsPath: string (nullable = true)\n",
      " |    |-- moreFsasReviewsPath: string (nullable = true)\n",
      " |    |-- morePhotosPath: string (nullable = true)\n",
      " |    |-- moreUGCReviewsPath: string (nullable = true)\n",
      " |    |-- name: string (nullable = true)\n",
      " |    |-- naverBlog: struct (nullable = true)\n",
      " |    |-- naverBookingHubUrl: string (nullable = true)\n",
      " |    |-- naverBookingPromotion: string (nullable = true)\n",
      " |    |-- naverBookingUrl: string (nullable = true)\n",
      " |    |-- paymentInfo: array (nullable = true)\n",
      " |    |-- phone: string (nullable = true)\n",
      " |    |-- poiInfo: struct (nullable = true)\n",
      " |    |-- promotionTitle: string (nullable = true)\n",
      " |    |-- rcode: string (nullable = true)\n",
      " |    |-- reportWrongInfoType: string (nullable = true)\n",
      " |    |-- reviewSettings: struct (nullable = true)\n",
      " |    |-- road: string (nullable = true)\n",
      " |    |-- roadAddress: string (nullable = true)\n",
      " |    |-- routeUrl: string (nullable = true)\n",
      " |    |-- siteId: string (nullable = true)\n",
      " |    |-- staticMapUrl: string (nullable = true)\n",
      " |    |-- streetPanorama: struct (nullable = true)\n",
      " |    |-- talktalkUrl: string (nullable = true)\n",
      " |    |-- themes: string (nullable = true)\n",
      " |    |-- virtualPhone: string (nullable = true)\n",
      " |    |-- visitorReviewsScore: double (nullable = true)\n",
      " |    |-- visitorReviewsTextReviewTotal: long (nullable = true)\n",
      " |    |-- visitorReviewsTotal: long (nullable = true)\n",
      " |    |-- zoomLevel: string (nullable = true)\n",
      "\n"
     ]
    }
   ],
   "source": [
    "df = data.select(hb_column)\n",
    "df.printSchema(2)"
   ]
  },
  {
   "cell_type": "code",
   "execution_count": 11,
   "id": "9c22a9a4-2d03-4369-9eb3-194737289d4e",
   "metadata": {},
   "outputs": [
    {
     "data": {
      "text/plain": [
       "['name',\n",
       " 'road',\n",
       " 'reviewSettings',\n",
       " 'conveniences',\n",
       " 'keywords',\n",
       " 'phone',\n",
       " 'virtualPhone',\n",
       " 'naverBookingUrl',\n",
       " 'talktalkUrl',\n",
       " 'paymentInfo',\n",
       " 'homepages',\n",
       " 'visitorReviewsTotal',\n",
       " 'description',\n",
       " 'Images']"
      ]
     },
     "execution_count": 11,
     "metadata": {},
     "output_type": "execute_result"
    }
   ],
   "source": [
    "targets = [\n",
    "    'name', \n",
    "    'road', \n",
    "    'reviewSettings', \n",
    "    'conveniences', \n",
    "    'keywords', \n",
    "    'phone', \n",
    "    'virtualPhone', \n",
    "    'naverBookingUrl', \n",
    "    'talktalkUrl', \n",
    "    'paymentInfo', \n",
    "    'homepages',\n",
    "    'visitorReviewsTotal',\n",
    "    'description',\n",
    "    'Images'\n",
    "]\n",
    "targets"
   ]
  },
  {
   "cell_type": "code",
   "execution_count": 12,
   "id": "101035ae-46b6-47a9-9bf3-0037d975d124",
   "metadata": {},
   "outputs": [
    {
     "data": {
      "text/plain": [
       "[Column<'HospitalBase:11779766.name AS name'>,\n",
       " Column<'HospitalBase:11779766.road AS road'>,\n",
       " Column<'HospitalBase:11779766.reviewSettings AS reviewSettings'>,\n",
       " Column<'HospitalBase:11779766.conveniences AS conveniences'>,\n",
       " Column<'HospitalBase:11779766.keywords AS keywords'>,\n",
       " Column<'HospitalBase:11779766.phone AS phone'>,\n",
       " Column<'HospitalBase:11779766.virtualPhone AS virtualPhone'>,\n",
       " Column<'HospitalBase:11779766.naverBookingUrl AS naverBookingUrl'>,\n",
       " Column<'HospitalBase:11779766.talktalkUrl AS talktalkUrl'>,\n",
       " Column<'HospitalBase:11779766.paymentInfo AS paymentInfo'>,\n",
       " Column<'HospitalBase:11779766.homepages AS homepages'>,\n",
       " Column<'HospitalBase:11779766.visitorReviewsTotal AS visitorReviewsTotal'>,\n",
       " Column<'HospitalBase:11779766.description AS description'>,\n",
       " Column<'HospitalBase:11779766.Images AS Images'>]"
      ]
     },
     "execution_count": 12,
     "metadata": {},
     "output_type": "execute_result"
    }
   ],
   "source": [
    "sel_cols = [col(hb_column + \".\" + t).alias(t) for t in targets]\n",
    "sel_cols"
   ]
  },
  {
   "cell_type": "code",
   "execution_count": 13,
   "id": "cea179ca-23f3-4725-bc3f-3927206f399f",
   "metadata": {},
   "outputs": [
    {
     "name": "stdout",
     "output_type": "stream",
     "text": [
      "root\n",
      " |-- name: string (nullable = true)\n",
      " |-- road: string (nullable = true)\n",
      " |-- reviewSettings: struct (nullable = true)\n",
      " |-- conveniences: array (nullable = true)\n",
      " |-- keywords: array (nullable = true)\n",
      " |-- phone: string (nullable = true)\n",
      " |-- virtualPhone: string (nullable = true)\n",
      " |-- naverBookingUrl: string (nullable = true)\n",
      " |-- talktalkUrl: string (nullable = true)\n",
      " |-- paymentInfo: array (nullable = true)\n",
      " |-- homepages: struct (nullable = true)\n",
      " |-- visitorReviewsTotal: long (nullable = true)\n",
      " |-- description: string (nullable = true)\n",
      " |-- Images: array (nullable = true)\n",
      "\n"
     ]
    }
   ],
   "source": [
    "sel_df = df.select(sel_cols)\n",
    "sel_df.printSchema(1)"
   ]
  },
  {
   "cell_type": "code",
   "execution_count": 14,
   "id": "1249d02b-9de4-400d-894e-49d5487806fe",
   "metadata": {},
   "outputs": [],
   "source": [
    "string_cols = [\n",
    "    'name', \n",
    "    'road',\n",
    "    'phone',\n",
    "    'virtualPhone',\n",
    "    'naverBookingUrl',\n",
    "    'talktalkUrl',\n",
    "    'description'\n",
    "]"
   ]
  },
  {
   "cell_type": "code",
   "execution_count": 15,
   "id": "871eb43f-e515-40e0-9ba4-88ed936b7e2c",
   "metadata": {},
   "outputs": [],
   "source": [
    "struct_cols = [\n",
    "    'reviewSettings',\n",
    "    'homepages'\n",
    "]"
   ]
  },
  {
   "cell_type": "code",
   "execution_count": 16,
   "id": "48debb15-02e7-4ffe-883a-a5727832744c",
   "metadata": {},
   "outputs": [],
   "source": [
    "array_cols = [\n",
    "    'conveniences',\n",
    "    'keywords',\n",
    "    'Images'\n",
    "]"
   ]
  },
  {
   "cell_type": "code",
   "execution_count": 17,
   "id": "51cb8047-7284-45f5-819f-766f9fdb1c29",
   "metadata": {},
   "outputs": [
    {
     "data": {
      "text/html": [
       "<div>\n",
       "<style scoped>\n",
       "    .dataframe tbody tr th:only-of-type {\n",
       "        vertical-align: middle;\n",
       "    }\n",
       "\n",
       "    .dataframe tbody tr th {\n",
       "        vertical-align: top;\n",
       "    }\n",
       "\n",
       "    .dataframe thead th {\n",
       "        text-align: right;\n",
       "    }\n",
       "</style>\n",
       "<table border=\"1\" class=\"dataframe\">\n",
       "  <thead>\n",
       "    <tr style=\"text-align: right;\">\n",
       "      <th></th>\n",
       "      <th>name</th>\n",
       "      <th>road</th>\n",
       "      <th>phone</th>\n",
       "      <th>virtualPhone</th>\n",
       "      <th>naverBookingUrl</th>\n",
       "      <th>talktalkUrl</th>\n",
       "      <th>description</th>\n",
       "    </tr>\n",
       "  </thead>\n",
       "  <tbody>\n",
       "    <tr>\n",
       "      <th>0</th>\n",
       "      <td>다인한의원</td>\n",
       "      <td>지하철 숙대입구역 10번에서 뒤로 돌아 숙대 방향으로 500M 올라오시거나, 400...</td>\n",
       "      <td>02-711-9557</td>\n",
       "      <td></td>\n",
       "      <td>https://m.booking.naver.com/booking/13/bizes/4...</td>\n",
       "      <td>None</td>\n",
       "      <td>숙대 앞 청파로에 위치한 한방재활의학과 전문의, 한의학 박사가 진료하는 한의원입니다...</td>\n",
       "    </tr>\n",
       "  </tbody>\n",
       "</table>\n",
       "</div>"
      ],
      "text/plain": [
       "    name                                               road        phone  \\\n",
       "0  다인한의원  지하철 숙대입구역 10번에서 뒤로 돌아 숙대 방향으로 500M 올라오시거나, 400...  02-711-9557   \n",
       "\n",
       "  virtualPhone                                    naverBookingUrl talktalkUrl  \\\n",
       "0               https://m.booking.naver.com/booking/13/bizes/4...        None   \n",
       "\n",
       "                                         description  \n",
       "0  숙대 앞 청파로에 위치한 한방재활의학과 전문의, 한의학 박사가 진료하는 한의원입니다...  "
      ]
     },
     "execution_count": 17,
     "metadata": {},
     "output_type": "execute_result"
    }
   ],
   "source": [
    "sel_df = sel_df.select(string_cols).filter(~col('name').isNull())\n",
    "pd_df = sel_df.toPandas()\n",
    "pd_df"
   ]
  },
  {
   "cell_type": "code",
   "execution_count": null,
   "id": "6641714b-87e7-4092-8ee3-afa4bc4a707e",
   "metadata": {},
   "outputs": [],
   "source": []
  }
 ],
 "metadata": {
  "kernelspec": {
   "display_name": "Python 3 (ipykernel)",
   "language": "python",
   "name": "python3"
  },
  "language_info": {
   "codemirror_mode": {
    "name": "ipython",
    "version": 3
   },
   "file_extension": ".py",
   "mimetype": "text/x-python",
   "name": "python",
   "nbconvert_exporter": "python",
   "pygments_lexer": "ipython3",
   "version": "3.11.6"
  }
 },
 "nbformat": 4,
 "nbformat_minor": 5
}
