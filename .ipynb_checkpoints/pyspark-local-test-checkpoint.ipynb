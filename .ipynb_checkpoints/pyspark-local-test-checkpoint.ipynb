{
 "cells": [
  {
   "cell_type": "code",
   "execution_count": 51,
   "id": "991b7a66-643f-4836-b565-9035e695ef7c",
   "metadata": {},
   "outputs": [],
   "source": [
    "from pyspark.sql import SparkSession\n",
    "from pyspark.sql.functions import col, sum as sp_sum"
   ]
  },
  {
   "cell_type": "code",
   "execution_count": 52,
   "id": "e8bb57da-bb68-4606-ad14-1f0a87c29ee1",
   "metadata": {},
   "outputs": [],
   "source": [
    "# Jupyter 노트북 셀에서 PySpark 코드 실행\n",
    "from pyspark.sql import SparkSession\n",
    "\n",
    "\n",
    "# Spark 세션 생성\n",
    "spark = SparkSession.builder \\\n",
    "    .master(\"local[*]\") \\\n",
    "    .appName(\"PySparkTest\") \\\n",
    "    .getOrCreate()"
   ]
  },
  {
   "cell_type": "code",
   "execution_count": 53,
   "id": "c064ecdc-9d4b-45bf-a0f5-fe260b788258",
   "metadata": {},
   "outputs": [],
   "source": [
    "# meta_sample.csv 경로\n",
    "csv_path = '/Users/b06/Desktop/yeardream/medi-05/data/meta_sample.csv'\n",
    "\n",
    "\n",
    "# 데이터 로드\n",
    "df = spark.read.csv(csv_path, header=True)"
   ]
  },
  {
   "cell_type": "code",
   "execution_count": 55,
   "id": "ea63a2e4-577f-4974-8a2f-ec30ea0800ba",
   "metadata": {},
   "outputs": [
    {
     "name": "stdout",
     "output_type": "stream",
     "text": [
      "id: 1070175780\n",
      "name: 답십리경희한의원\n",
      "review_settings_keyword: (답십리경희한의원) & (동대문구 | 답십리동 | 한의원-일반) & 답십리경희한의원\n",
      "keywords_1: 답십리한의원\n",
      "keywords_2: 전농동한의원\n",
      "keywords_3: 청량리한의원\n",
      "keywords_4: 답십리야간진료한의원\n",
      "keywords_5: 답십리교통사고한의원\n",
      "menu_name: None\n",
      "menu_price: None\n",
      "menu_description: None\n",
      "menu_images: None\n",
      "visitor_reviews_total: 1107\n",
      "photo_review_ratio: 0.044263775971093\n",
      "fsas_reviews_total: 383\n",
      "images_count: 25\n",
      "naver_booking_url: https://m.booking.naver.com/booking/13/bizes/536100\n",
      "talktalk_url: None\n",
      "road: -래미안 미드카운티 아파트 맞은편 카운티에비뉴 3층-건물 내 무료주차 가능합니다.\n",
      "virtual_phone: 0507-1482-7946\n",
      "phone: None\n",
      "is_smart_phone: True\n",
      "is_blog_exposed: True\n",
      "zeropay_available: False\n",
      "conveniences_1: 단체 이용 가능\n",
      "conveniences_2: 주차\n",
      "conveniences_3: 예약\n",
      "conveniences_4: 무선 인터넷\n",
      "conveniences_5: 남/녀 화장실 구분\n",
      "conveniences_6: 장애인 편의시설\n",
      "conveniences_7: None\n",
      "conveniences_8: None\n",
      "conveniences_9: None\n",
      "conveniences_10: None\n",
      "conveniences_11: None\n",
      "homepages_url: https://blog.naver.com/dapsimni_kmc\n",
      "homepages_landingUrl: https://blog.naver.com/dapsimni_kmc\n",
      "homepages_type: 블로그\n",
      "homepages_order: 1\n",
      "homepages_isDeadUrl: False\n",
      "homepages_isRep: None\n",
      "description_length: 256\n",
      "description: 안녕하세요 365일 야간진료 하는 답십리경희한의원 입니다.경희대 출신 의료진이 정성껏 진료합니다.[진료시간]-평일 09:00~21:00 (매일 야간진료)-점심시간 13:00~14:00-토일공휴일 09:00~15:00 (점심시간 없음)[진료과목]-교통사고 후유증 (자동차보험)-척추관절통증 (추나치료)-왕뜸치료-여성질환 산후조리 갱년기-소아성장-다이어트-보약면역 증진 (공진단 경옥고)*건물 내 무료주차 가능합니다.\n",
      "self_blog_present: False\n",
      "qna_answer_count: 18\n",
      "crawled_at: 2023-10-05 00:00:00.000000\n",
      "nan_count: 12\n"
     ]
    }
   ],
   "source": [
    "# count Nan\n",
    "nan_cnt = df.select([sp_sum(col(c).isNull().cast(\"int\")).alias(c) for c in df.columns])\n",
    "\n",
    "\n",
    "# df에 nan_cnt 열 추가\n",
    "df_nan_cnt = df.withColumn('nan_count', sum(col(c).isNull().cast(\"int\") for c in df.columns))\n",
    "\n",
    "\n",
    "# nan_cnt 값이 가장 적은 row\n",
    "min_nan_row = df_nan_cnt.orderBy(\"nan_count\").first()\n",
    "\n",
    "\n",
    "# \bmin_nan_row 출력\n",
    "for k, v in min_nan_row.asDict().items():\n",
    "    print(f\"{k}: {v}\")"
   ]
  },
  {
   "cell_type": "code",
   "execution_count": null,
   "id": "25395f04-a37a-4c90-8454-6b22f8f2ce3c",
   "metadata": {},
   "outputs": [],
   "source": []
  }
 ],
 "metadata": {
  "kernelspec": {
   "display_name": "Python 3 (ipykernel)",
   "language": "python",
   "name": "python3"
  },
  "language_info": {
   "codemirror_mode": {
    "name": "ipython",
    "version": 3
   },
   "file_extension": ".py",
   "mimetype": "text/x-python",
   "name": "python",
   "nbconvert_exporter": "python",
   "pygments_lexer": "ipython3",
   "version": "3.11.6"
  }
 },
 "nbformat": 4,
 "nbformat_minor": 5
}
