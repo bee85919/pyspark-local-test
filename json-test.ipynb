{
 "cells": [
  {
   "cell_type": "code",
   "execution_count": 6,
   "metadata": {},
   "outputs": [],
   "source": [
    "import json"
   ]
  },
  {
   "cell_type": "code",
   "execution_count": 7,
   "metadata": {},
   "outputs": [],
   "source": [
    "json_path = '/Users/b06/Desktop/yeardream/medi-05/data/naverplace_meta.json'\n",
    "with open(json_path) as file:\n",
    "    data = json.load(file)"
   ]
  },
  {
   "cell_type": "code",
   "execution_count": 8,
   "metadata": {},
   "outputs": [],
   "source": [
    "# 25개씩 분할하기\n",
    "chunk_size = 25\n",
    "output_base_path = '/Users/b06/Desktop/yeardream/medi-05/data/naverplace_meta/naverplace_meta_'\n",
    "for i in range(0, len(data), chunk_size):\n",
    "    # 분할된 데이터를 담을 파일 이름\n",
    "    output_path = f\"{output_base_path}{i//chunk_size + 1}.json\"\n",
    "    \n",
    "    # 분할된 데이터\n",
    "    chunk_data = data[i:i + chunk_size]\n",
    "\n",
    "    # 분할된 데이터를 파일로 저장\n",
    "    with open(output_path, 'w') as output_file:\n",
    "        json.dump(chunk_data, output_file, ensure_ascii=False)"
   ]
  },
  {
   "cell_type": "code",
   "execution_count": 9,
   "metadata": {},
   "outputs": [],
   "source": [
    "# 파일 조회\n",
    "path = '/Users/b06/Desktop/yeardream/medi-05/data/naverplace_meta/naverplace_meta_1.json'"
   ]
  },
  {
   "cell_type": "code",
   "execution_count": null,
   "metadata": {},
   "outputs": [],
   "source": []
  }
 ],
 "metadata": {
  "kernelspec": {
   "display_name": "Python 3 (ipykernel)",
   "language": "python",
   "name": "python3"
  },
  "language_info": {
   "codemirror_mode": {
    "name": "ipython",
    "version": 3
   },
   "file_extension": ".py",
   "mimetype": "text/x-python",
   "name": "python",
   "nbconvert_exporter": "python",
   "pygments_lexer": "ipython3",
   "version": "3.10.9"
  }
 },
 "nbformat": 4,
 "nbformat_minor": 4
}
