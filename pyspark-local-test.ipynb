{
 "cells": [
  {
   "cell_type": "code",
   "execution_count": 95,
   "id": "991b7a66-643f-4836-b565-9035e695ef7c",
   "metadata": {},
   "outputs": [],
   "source": [
    "from pyspark.sql import SparkSession\n",
    "from pyspark.sql.functions import col, sum as sp_sum, array, concat_ws, regexp_replace, explode, split"
   ]
  },
  {
   "cell_type": "code",
   "execution_count": 69,
   "id": "e8bb57da-bb68-4606-ad14-1f0a87c29ee1",
   "metadata": {},
   "outputs": [],
   "source": [
    "# Spark 세션 생성\n",
    "spark = SparkSession \\\n",
    "    .builder \\\n",
    "    .appName(\"PySparkTest\") \\\n",
    "    .config(\"spark.some.config.option\", \"some-value\") \\\n",
    "    .getOrCreate()"
   ]
  },
  {
   "cell_type": "code",
   "execution_count": 70,
   "id": "c064ecdc-9d4b-45bf-a0f5-fe260b788258",
   "metadata": {},
   "outputs": [],
   "source": [
    "# meta_sample.csv 경로\n",
    "csv_path = '/Users/b06/Desktop/yeardream/medi-05/data/meta_sample.csv'\n",
    "\n",
    "\n",
    "# 데이터 로드\n",
    "df = spark.read.csv(csv_path, header=True)"
   ]
  },
  {
   "cell_type": "code",
   "execution_count": 71,
   "id": "ea63a2e4-577f-4974-8a2f-ec30ea0800ba",
   "metadata": {},
   "outputs": [
    {
     "name": "stdout",
     "output_type": "stream",
     "text": [
      "id: 1070175780\n",
      "name: 답십리경희한의원\n",
      "review_settings_keyword: (답십리경희한의원) & (동대문구 | 답십리동 | 한의원-일반) & 답십리경희한의원\n",
      "keywords_1: 답십리한의원\n",
      "keywords_2: 전농동한의원\n",
      "keywords_3: 청량리한의원\n",
      "keywords_4: 답십리야간진료한의원\n",
      "keywords_5: 답십리교통사고한의원\n",
      "menu_name: None\n",
      "menu_price: None\n",
      "menu_description: None\n",
      "menu_images: None\n",
      "visitor_reviews_total: 1107\n",
      "photo_review_ratio: 0.044263775971093\n",
      "fsas_reviews_total: 383\n",
      "images_count: 25\n",
      "naver_booking_url: https://m.booking.naver.com/booking/13/bizes/536100\n",
      "talktalk_url: None\n",
      "road: -래미안 미드카운티 아파트 맞은편 카운티에비뉴 3층-건물 내 무료주차 가능합니다.\n",
      "virtual_phone: 0507-1482-7946\n",
      "phone: None\n",
      "is_smart_phone: True\n",
      "is_blog_exposed: True\n",
      "zeropay_available: False\n",
      "conveniences_1: 단체 이용 가능\n",
      "conveniences_2: 주차\n",
      "conveniences_3: 예약\n",
      "conveniences_4: 무선 인터넷\n",
      "conveniences_5: 남/녀 화장실 구분\n",
      "conveniences_6: 장애인 편의시설\n",
      "conveniences_7: None\n",
      "conveniences_8: None\n",
      "conveniences_9: None\n",
      "conveniences_10: None\n",
      "conveniences_11: None\n",
      "homepages_url: https://blog.naver.com/dapsimni_kmc\n",
      "homepages_landingUrl: https://blog.naver.com/dapsimni_kmc\n",
      "homepages_type: 블로그\n",
      "homepages_order: 1\n",
      "homepages_isDeadUrl: False\n",
      "homepages_isRep: None\n",
      "description_length: 256\n",
      "description: 안녕하세요 365일 야간진료 하는 답십리경희한의원 입니다.경희대 출신 의료진이 정성껏 진료합니다.[진료시간]-평일 09:00~21:00 (매일 야간진료)-점심시간 13:00~14:00-토일공휴일 09:00~15:00 (점심시간 없음)[진료과목]-교통사고 후유증 (자동차보험)-척추관절통증 (추나치료)-왕뜸치료-여성질환 산후조리 갱년기-소아성장-다이어트-보약면역 증진 (공진단 경옥고)*건물 내 무료주차 가능합니다.\n",
      "self_blog_present: False\n",
      "qna_answer_count: 18\n",
      "crawled_at: 2023-10-05 00:00:00.000000\n",
      "nan_count: 12\n"
     ]
    }
   ],
   "source": [
    "# count Nan\n",
    "nan_cnt = df.select([sp_sum(col(c).isNull().cast(\"int\")).alias(c) for c in df.columns])\n",
    "\n",
    "\n",
    "# df에 nan_cnt 열 추가\n",
    "df_nan_cnt = df.withColumn('nan_count', sum(col(c).isNull().cast(\"int\") for c in df.columns))\n",
    "\n",
    "\n",
    "# nan_cnt 값이 가장 적은 row\n",
    "min_nan_row = df_nan_cnt.orderBy(\"nan_count\").first()\n",
    "\n",
    "\n",
    "# \bmin_nan_row 출력\n",
    "for k, v in min_nan_row.asDict().items():\n",
    "    print(f\"{k}: {v}\")"
   ]
  },
  {
   "cell_type": "code",
   "execution_count": 72,
   "id": "f9071e4a-1424-4712-b179-169afc27a366",
   "metadata": {},
   "outputs": [
    {
     "name": "stdout",
     "output_type": "stream",
     "text": [
      "['conveniences_1', 'conveniences_2', 'conveniences_3', 'conveniences_4', 'conveniences_5', 'conveniences_6', 'conveniences_7', 'conveniences_8', 'conveniences_9', 'conveniences_10', 'conveniences_11']\n",
      "'conveniences_1', 'conveniences_2', 'conveniences_3', 'conveniences_4', 'conveniences_5', 'conveniences_6', 'conveniences_7', 'conveniences_8', 'conveniences_9', 'conveniences_10', 'conveniences_11', \n"
     ]
    }
   ],
   "source": [
    "lst = []\n",
    "a = 'conveniences'\n",
    "for n in range(1, 12):\n",
    "    temp = f'{a}_{n}'\n",
    "    lst.append(temp)\n",
    "print(lst)\n",
    "\n",
    "string = \"\"\n",
    "for l in lst:\n",
    "    string += f\"'{l}', \"\n",
    "print(string)"
   ]
  },
  {
   "cell_type": "code",
   "execution_count": 73,
   "id": "25395f04-a37a-4c90-8454-6b22f8f2ce3c",
   "metadata": {},
   "outputs": [],
   "source": [
    "# Select specific columns\n",
    "selected_columns = [\n",
    "    'id', 'name', 'keywords_1', 'keywords_2', 'keywords_3', 'keywords_4', 'keywords_5', \n",
    "    'review_settings_keyword', 'visitor_reviews_total', 'description',\n",
    "    'photo_review_ratio', 'fsas_reviews_total', 'images_count', \n",
    "    'talktalk_url', 'homepages_type', 'homepages_isDeadUrl', \n",
    "    'homepages_isRep', 'description_length', 'self_blog_present', \n",
    "    'qna_answer_count', 'crawled_at',\n",
    "    'conveniences_1', 'conveniences_2', 'conveniences_3', 'conveniences_4', 'conveniences_5', \n",
    "    'conveniences_6', 'conveniences_7', 'conveniences_8', 'conveniences_9', 'conveniences_10', \n",
    "    'conveniences_11',     \n",
    "]\n",
    "\n",
    "\n",
    "# Create a new DataFrame with only the selected columns\n",
    "df_selected = df.select(selected_columns)"
   ]
  },
  {
   "cell_type": "code",
   "execution_count": 98,
   "id": "66e4eb42-9a87-4a75-a0c7-943095e72b17",
   "metadata": {},
   "outputs": [],
   "source": [
    "# Table 1: id, review_settings_keyword\n",
    "table1 = df_selected.select(\"id\", \"review_settings_keyword\")\n",
    "table1 = table1.withColumn(\"review_settings_keyword\", regexp_replace(\"review_settings_keyword\", \" & \", \", \"))\n",
    "table1 = table1.withColumn(\"review_settings_keyword\", regexp_replace(\"review_settings_keyword\", \"[()]\", \"\"))\n",
    "table1 = table1.withColumn(\"review_settings_keyword\", explode(split(col(\"review_settings_keyword\"), \", \")))"
   ]
  },
  {
   "cell_type": "code",
   "execution_count": 100,
   "id": "e026cd14-4764-49f1-bcea-db6c965386fe",
   "metadata": {},
   "outputs": [],
   "source": [
    "# Table 2: id, keywords\n",
    "keywords_expr = array([col('keywords_{}'.format(i)) for i in range(1, 6)]).alias('keywords')\n",
    "table2 = df_selected.select(\"id\", keywords_expr)\n",
    "table2 = table2.withColumn(\"keywords\", explode(split(concat_ws(\", \", \"keywords\"), \", \")))"
   ]
  },
  {
   "cell_type": "code",
   "execution_count": 101,
   "id": "adbea355-737d-4938-afe6-4ae177988308",
   "metadata": {},
   "outputs": [],
   "source": [
    "# Table 3: id, conveniences\n",
    "conveniences_expr = array([col('conveniences_{}'.format(i)) for i in range(1, 12)]).alias('conveniences')\n",
    "table3 = df_selected.select(\"id\", conveniences_expr)\n",
    "table3 = table3.withColumn(\"conveniences\", explode(split(concat_ws(\", \", \"conveniences\"), \", \")))"
   ]
  },
  {
   "cell_type": "code",
   "execution_count": 102,
   "id": "518b05e6-b41b-4919-8331-5d1340710276",
   "metadata": {},
   "outputs": [],
   "source": [
    "# Table 4: id와 나머지 모든 컬럼\n",
    "exclude_columns = ['review_settings_keyword', 'keywords_1', 'keywords_2', 'keywords_3', 'keywords_4', 'keywords_5',\n",
    "                   'conveniences_1', 'conveniences_2', 'conveniences_3', 'conveniences_4', 'conveniences_5',\n",
    "                   'conveniences_6', 'conveniences_7', 'conveniences_8', 'conveniences_9', 'conveniences_10', 'conveniences_11']\n",
    "table4_columns = [col for col in df_selected.columns if col not in exclude_columns]\n",
    "table4 = df_selected.select(*table4_columns)"
   ]
  },
  {
   "cell_type": "code",
   "execution_count": 103,
   "id": "3b7b048d-4532-4d2f-a123-6e8caf5b5c2e",
   "metadata": {},
   "outputs": [
    {
     "name": "stdout",
     "output_type": "stream",
     "text": [
      "+----------+--------------------------------+\n",
      "|        id|         review_settings_keyword|\n",
      "+----------+--------------------------------+\n",
      "|  19518309|                      송정한의원|\n",
      "|  19518309|   성동구 | 송정동 | 한의원-일반|\n",
      "|  19518309|                      송정한의원|\n",
      "|  20709457|               용산구 소망한의원|\n",
      "|  19523171|                금호호랑이한의원|\n",
      "|  19523171|성동구 | 금호동3가 | 한의원-일반|\n",
      "|  19523171|                금호호랑이한의원|\n",
      "|  18757770|                      약촌한의원|\n",
      "|  18757770|   서초구 | 잠원동 | 한의원-일반|\n",
      "|  18757770|                      약촌한의원|\n",
      "|1079161835|                      장수한의원|\n",
      "|1079161835|   종로구 | 창신동 | 한의원-일반|\n",
      "|1079161835|                      장수한의원|\n",
      "|1703239053|                  성동예본한의원|\n",
      "|1703239053|   성동구 | 행당동 | 한의원-일반|\n",
      "|1703239053|                  성동예본한의원|\n",
      "|  19529164|                      태평한의원|\n",
      "|  19529164|     중구 | 신당동 | 한의원-일반|\n",
      "|  19529164|                      태평한의원|\n",
      "| 230007709|                    알파스한의원|\n",
      "+----------+--------------------------------+\n",
      "only showing top 20 rows\n",
      "\n"
     ]
    }
   ],
   "source": [
    "table1.show()"
   ]
  },
  {
   "cell_type": "code",
   "execution_count": 104,
   "id": "1a65c34f-caff-463a-ad83-d77e3b03568b",
   "metadata": {},
   "outputs": [
    {
     "name": "stdout",
     "output_type": "stream",
     "text": [
      "+----------+--------------+\n",
      "|        id|      keywords|\n",
      "+----------+--------------+\n",
      "|  19518309|              |\n",
      "|  20709457|              |\n",
      "|  19523171|  금호동한의원|\n",
      "|  19523171|  금호역한의원|\n",
      "|  19523171|금남시장한의원|\n",
      "|  19523171|      도침치료|\n",
      "|  18757770|              |\n",
      "|1079161835|  창신동한의원|\n",
      "|1079161835|  종로구한의원|\n",
      "|1079161835|      추나교정|\n",
      "|1079161835|      교통사고|\n",
      "|1079161835|    동묘한의원|\n",
      "|1703239053|   8체질한의원|\n",
      "|1703239053|        한의원|\n",
      "|1703239053|         8체질|\n",
      "|1703239053|   왕십리8체질|\n",
      "|1703239053|  왕십리한의원|\n",
      "|  19529164|              |\n",
      "| 230007709|          치매|\n",
      "|  19518394|              |\n",
      "+----------+--------------+\n",
      "only showing top 20 rows\n",
      "\n"
     ]
    }
   ],
   "source": [
    "table2.show()"
   ]
  },
  {
   "cell_type": "code",
   "execution_count": 105,
   "id": "6319cbe3-549f-4562-8c0c-b8eebd6ec14d",
   "metadata": {},
   "outputs": [
    {
     "name": "stdout",
     "output_type": "stream",
     "text": [
      "+----------+-----------------+\n",
      "|        id|     conveniences|\n",
      "+----------+-----------------+\n",
      "|  19518309|                 |\n",
      "|  20709457|                 |\n",
      "|  19523171|             주차|\n",
      "|  19523171|      무선 인터넷|\n",
      "|  18757770|                 |\n",
      "|1079161835|                 |\n",
      "|1703239053|             주차|\n",
      "|1703239053|남/녀 화장실 구분|\n",
      "|  19529164|                 |\n",
      "| 230007709|                 |\n",
      "|  19518394|                 |\n",
      "|  19529128|                 |\n",
      "|  36523267|             주차|\n",
      "|  36523267|             예약|\n",
      "|  36523267|남/녀 화장실 구분|\n",
      "|  36523267|  장애인 편의시설|\n",
      "|  13100633|                 |\n",
      "|  19518670|                 |\n",
      "|1524076456|             주차|\n",
      "|1524076456|             예약|\n",
      "+----------+-----------------+\n",
      "only showing top 20 rows\n",
      "\n"
     ]
    }
   ],
   "source": [
    "table3.show()"
   ]
  },
  {
   "cell_type": "code",
   "execution_count": 107,
   "id": "c066dba6-1bf2-422a-9418-bdf40418e23d",
   "metadata": {},
   "outputs": [
    {
     "name": "stdout",
     "output_type": "stream",
     "text": [
      "+----------+-----------------+---------------------+------------------------------------+------------------+------------------+------------+--------------------+--------------+-------------------+---------------+------------------+-----------------+----------------+--------------------+\n",
      "|        id|             name|visitor_reviews_total|                         description|photo_review_ratio|fsas_reviews_total|images_count|        talktalk_url|homepages_type|homepages_isDeadUrl|homepages_isRep|description_length|self_blog_present|qna_answer_count|          crawled_at|\n",
      "+----------+-----------------+---------------------+------------------------------------+------------------+------------------+------------+--------------------+--------------+-------------------+---------------+------------------+-----------------+----------------+--------------------+\n",
      "|  19518309|       송정한의원|                   22|                                NULL| 0.409090909090909|                 0|           2|                NULL|          NULL|               NULL|           NULL|                 0|             NULL|            NULL|2023-10-05 00:00:...|\n",
      "|  20709457|       소망한의원|                   22|                                NULL| 0.681818181818182|                 0|           1|                NULL|          NULL|               NULL|           NULL|                 0|            False|            NULL|2023-10-05 00:00:...|\n",
      "|  19523171| 금호호랑이한의원|                   91|  대기시간을 최소화하기위해 방문 ...| 0.351648351648352|                68|           5|                NULL|          NULL|               NULL|           NULL|                38|            False|            NULL|2023-10-05 00:00:...|\n",
      "|  18757770|       약촌한의원|                    5|                                NULL|               0.4|                 0|        NULL|                NULL|          NULL|               NULL|           NULL|                 0|             NULL|            NULL|2023-10-05 00:00:...|\n",
      "|1079161835|       장수한의원|                  113|    안녕하세요. 늘 환자의 건강을 ...| 0.389380530973451|                 2|           5|                NULL|          NULL|               NULL|           NULL|                92|             NULL|            NULL|2023-10-05 00:00:...|\n",
      "|1703239053|   성동예본한의원|                   49|      성동예본한의원은 2022년 7월...|                 0|                 5|           5|                NULL|          NULL|               NULL|           NULL|               179|             NULL|            NULL|2023-10-05 00:00:...|\n",
      "|  19529164|       태평한의원|                   27|                                NULL| 0.481481481481481|                 0|           1|                NULL|          NULL|               NULL|           NULL|                 0|             NULL|            NULL|2023-10-05 00:00:...|\n",
      "| 230007709|     알파스한의원|                   43|                                NULL| 0.441860465116279|                 0|           1|                NULL|          NULL|               NULL|           NULL|                 0|             NULL|            NULL|2023-10-05 00:00:...|\n",
      "|  19518394|       홍익한의원|                   93|                                NULL| 0.354838709677419|                 2|        NULL|                NULL|          NULL|               NULL|           NULL|                 0|             NULL|            NULL|2023-10-05 00:00:...|\n",
      "|  19529128|     신중앙한의원|                    8|                                NULL|               0.5|                 0|        NULL|                NULL|          NULL|               NULL|           NULL|                 0|             NULL|            NULL|2023-10-05 00:00:...|\n",
      "|  36523267|대한민국365한의원|                   99|    대한민국365한의원은 산재 지정...|0.0909090909090909|               340|          19|                NULL|          NULL|               NULL|           NULL|              1880|            False|            NULL|2023-10-05 00:00:...|\n",
      "|  13100633|       명인한의원|                  262|                                NULL| 0.812977099236641|                 0|        NULL|                NULL|          NULL|               NULL|           NULL|                 0|             NULL|            NULL|2023-10-05 00:00:...|\n",
      "|  19518670|     도화당한의원|                 NULL|                                NULL|              NULL|                 1|           2|                NULL|          NULL|               NULL|           NULL|                 0|             NULL|            NULL|2023-10-05 00:00:...|\n",
      "|1524076456| 마포척편한한의원|                   81|   안녕하세요! 비수술 척추관절 추...| 0.259259259259259|                31|           8|http://talk.naver...|      웹사이트|              False|           NULL|               168|             True|            NULL|2023-10-05 00:00:...|\n",
      "|  19527635|       자향한의원|                    6|                                NULL|                 1|                 0|        NULL|                NULL|          NULL|               NULL|           NULL|                 0|             NULL|            NULL|2023-10-05 00:00:...|\n",
      "|  13153787|       제일한의원|                    2|                                NULL|               0.5|                 0|           5|                NULL|          NULL|               NULL|           NULL|                 0|             NULL|            NULL|2023-10-05 00:00:...|\n",
      "|  13021125|     소나무한의원|                   37|여성비만만성피로비염통증치료등 한...| 0.405405405405405|                 0|           5|                NULL|          NULL|               NULL|           NULL|                67|            False|            NULL|2023-10-05 00:00:...|\n",
      "|  19529179|     소진백한의원|                   89|                                NULL|  0.50561797752809|                 1|           1|                NULL|          NULL|               NULL|           NULL|                 0|             NULL|            NULL|2023-10-05 00:00:...|\n",
      "|  18049532|     영광당한의원|                 NULL|                                NULL|              NULL|                 0|        NULL|                NULL|          NULL|               NULL|           NULL|                 0|             NULL|            NULL|2023-10-05 00:00:...|\n",
      "|  18044874|       정명한의원|                    1|                                NULL|                 1|                 0|        NULL|                NULL|          NULL|               NULL|           NULL|                 0|             NULL|            NULL|2023-10-05 00:00:...|\n",
      "+----------+-----------------+---------------------+------------------------------------+------------------+------------------+------------+--------------------+--------------+-------------------+---------------+------------------+-----------------+----------------+--------------------+\n",
      "only showing top 20 rows\n",
      "\n"
     ]
    }
   ],
   "source": [
    "table4.show()"
   ]
  },
  {
   "cell_type": "code",
   "execution_count": 113,
   "id": "cc5a45fe-c8f7-493a-9142-aea7a68d1677",
   "metadata": {},
   "outputs": [],
   "source": [
    "data_path = '/Users/b06/Desktop/yeardream/medi-05/data/pyspark-test'\n",
    "table1_path = f\"{data_path}/review_settings_keyword\"\n",
    "table2_path = f\"{data_path}/keywords\"\n",
    "table3_path = f\"{data_path}/conveniences\"\n",
    "table4_path = f\"{data_path}/data\""
   ]
  },
  {
   "cell_type": "code",
   "execution_count": 114,
   "id": "bf2c842f-3202-4ade-be54-47769d4b6fd1",
   "metadata": {},
   "outputs": [],
   "source": [
    "def save(table, table_path):\n",
    "    table\\\n",
    "        .write \\\n",
    "        .mode('overwrite') \\\n",
    "        .option(\"header\", \"true\") \\\n",
    "        .option(\"charset\", \"cp949\") \\\n",
    "        .csv(table_path)"
   ]
  },
  {
   "cell_type": "code",
   "execution_count": 115,
   "id": "7e8ab07e-e17f-4a18-bf65-d2a93f0d6bbc",
   "metadata": {},
   "outputs": [],
   "source": [
    "save(table1, table1_path)\n",
    "save(table2, table2_path)\n",
    "save(table3, table3_path)\n",
    "save(table4, table4_path)"
   ]
  },
  {
   "cell_type": "code",
   "execution_count": null,
   "id": "2dba5f10-49d3-48a5-8480-18db806abc00",
   "metadata": {},
   "outputs": [],
   "source": []
  }
 ],
 "metadata": {
  "kernelspec": {
   "display_name": "Python 3 (ipykernel)",
   "language": "python",
   "name": "python3"
  },
  "language_info": {
   "codemirror_mode": {
    "name": "ipython",
    "version": 3
   },
   "file_extension": ".py",
   "mimetype": "text/x-python",
   "name": "python",
   "nbconvert_exporter": "python",
   "pygments_lexer": "ipython3",
   "version": "3.11.6"
  }
 },
 "nbformat": 4,
 "nbformat_minor": 5
}
