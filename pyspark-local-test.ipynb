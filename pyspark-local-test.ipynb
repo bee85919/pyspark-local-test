{
 "cells": [
  {
   "cell_type": "code",
   "execution_count": 51,
   "id": "991b7a66-643f-4836-b565-9035e695ef7c",
   "metadata": {},
   "outputs": [],
   "source": [
    "from pyspark.sql import SparkSession\n",
    "from pyspark.sql.functions import col, sum as sp_sum"
   ]
  },
  {
   "cell_type": "code",
   "execution_count": 52,
   "id": "e8bb57da-bb68-4606-ad14-1f0a87c29ee1",
   "metadata": {},
   "outputs": [],
   "source": [
    "# Jupyter 노트북 셀에서 PySpark 코드 실행\n",
    "from pyspark.sql import SparkSession\n",
    "\n",
    "\n",
    "# Spark 세션 생성\n",
    "spark = SparkSession.builder \\\n",
    "    .master(\"local[*]\") \\\n",
    "    .appName(\"PySparkTest\") \\\n",
    "    .getOrCreate()"
   ]
  },
  {
   "cell_type": "code",
   "execution_count": 53,
   "id": "c064ecdc-9d4b-45bf-a0f5-fe260b788258",
   "metadata": {},
   "outputs": [],
   "source": [
    "# meta_sample.csv 경로\n",
    "csv_path = '/Users/b06/Desktop/yeardream/medi-05/data/meta_sample.csv'\n",
    "\n",
    "\n",
    "# 데이터 로드\n",
    "df = spark.read.csv(csv_path, header=True)"
   ]
  },
  {
   "cell_type": "code",
   "execution_count": 55,
   "id": "ea63a2e4-577f-4974-8a2f-ec30ea0800ba",
   "metadata": {},
   "outputs": [
    {
     "name": "stdout",
     "output_type": "stream",
     "text": [
      "id: 1070175780\n",
      "name: 답십리경희한의원\n",
      "review_settings_keyword: (답십리경희한의원) & (동대문구 | 답십리동 | 한의원-일반) & 답십리경희한의원\n",
      "keywords_1: 답십리한의원\n",
      "keywords_2: 전농동한의원\n",
      "keywords_3: 청량리한의원\n",
      "keywords_4: 답십리야간진료한의원\n",
      "keywords_5: 답십리교통사고한의원\n",
      "menu_name: None\n",
      "menu_price: None\n",
      "menu_description: None\n",
      "menu_images: None\n",
      "visitor_reviews_total: 1107\n",
      "photo_review_ratio: 0.044263775971093\n",
      "fsas_reviews_total: 383\n",
      "images_count: 25\n",
      "naver_booking_url: https://m.booking.naver.com/booking/13/bizes/536100\n",
      "talktalk_url: None\n",
      "road: -래미안 미드카운티 아파트 맞은편 카운티에비뉴 3층-건물 내 무료주차 가능합니다.\n",
      "virtual_phone: 0507-1482-7946\n",
      "phone: None\n",
      "is_smart_phone: True\n",
      "is_blog_exposed: True\n",
      "zeropay_available: False\n",
      "conveniences_1: 단체 이용 가능\n",
      "conveniences_2: 주차\n",
      "conveniences_3: 예약\n",
      "conveniences_4: 무선 인터넷\n",
      "conveniences_5: 남/녀 화장실 구분\n",
      "conveniences_6: 장애인 편의시설\n",
      "conveniences_7: None\n",
      "conveniences_8: None\n",
      "conveniences_9: None\n",
      "conveniences_10: None\n",
      "conveniences_11: None\n",
      "homepages_url: https://blog.naver.com/dapsimni_kmc\n",
      "homepages_landingUrl: https://blog.naver.com/dapsimni_kmc\n",
      "homepages_type: 블로그\n",
      "homepages_order: 1\n",
      "homepages_isDeadUrl: False\n",
      "homepages_isRep: None\n",
      "description_length: 256\n",
      "description: 안녕하세요 365일 야간진료 하는 답십리경희한의원 입니다.경희대 출신 의료진이 정성껏 진료합니다.[진료시간]-평일 09:00~21:00 (매일 야간진료)-점심시간 13:00~14:00-토일공휴일 09:00~15:00 (점심시간 없음)[진료과목]-교통사고 후유증 (자동차보험)-척추관절통증 (추나치료)-왕뜸치료-여성질환 산후조리 갱년기-소아성장-다이어트-보약면역 증진 (공진단 경옥고)*건물 내 무료주차 가능합니다.\n",
      "self_blog_present: False\n",
      "qna_answer_count: 18\n",
      "crawled_at: 2023-10-05 00:00:00.000000\n",
      "nan_count: 12\n"
     ]
    }
   ],
   "source": [
    "# count Nan\n",
    "nan_cnt = df.select([sp_sum(col(c).isNull().cast(\"int\")).alias(c) for c in df.columns])\n",
    "\n",
    "\n",
    "# df에 nan_cnt 열 추가\n",
    "df_nan_cnt = df.withColumn('nan_count', sum(col(c).isNull().cast(\"int\") for c in df.columns))\n",
    "\n",
    "\n",
    "# nan_cnt 값이 가장 적은 row\n",
    "min_nan_row = df_nan_cnt.orderBy(\"nan_count\").first()\n",
    "\n",
    "\n",
    "# \bmin_nan_row 출력\n",
    "for k, v in min_nan_row.asDict().items():\n",
    "    print(f\"{k}: {v}\")"
   ]
  },
  {
   "cell_type": "code",
   "execution_count": 56,
   "id": "25395f04-a37a-4c90-8454-6b22f8f2ce3c",
   "metadata": {},
   "outputs": [
    {
     "name": "stdout",
     "output_type": "stream",
     "text": [
      "+----------+-----------------+------------+--------------+--------------+----------------+------------+---------------------+------------------+------------------+------------+--------------------+--------------+-------------------+---------------+------------------+-----------------+----------------+--------------------+\n",
      "|        id|             name|  keywords_1|    keywords_2|    keywords_3|      keywords_4|  keywords_5|visitor_reviews_total|photo_review_ratio|fsas_reviews_total|images_count|        talktalk_url|homepages_type|homepages_isDeadUrl|homepages_isRep|description_length|self_blog_present|qna_answer_count|          crawled_at|\n",
      "+----------+-----------------+------------+--------------+--------------+----------------+------------+---------------------+------------------+------------------+------------+--------------------+--------------+-------------------+---------------+------------------+-----------------+----------------+--------------------+\n",
      "|  19518309|       송정한의원|        NULL|          NULL|          NULL|            NULL|        NULL|                   22| 0.409090909090909|                 0|           2|                NULL|          NULL|               NULL|           NULL|                 0|             NULL|            NULL|2023-10-05 00:00:...|\n",
      "|  20709457|       소망한의원|        NULL|          NULL|          NULL|            NULL|        NULL|                   22| 0.681818181818182|                 0|           1|                NULL|          NULL|               NULL|           NULL|                 0|            False|            NULL|2023-10-05 00:00:...|\n",
      "|  19523171| 금호호랑이한의원|금호동한의원|  금호역한의원|금남시장한의원|        도침치료|        NULL|                   91| 0.351648351648352|                68|           5|                NULL|          NULL|               NULL|           NULL|                38|            False|            NULL|2023-10-05 00:00:...|\n",
      "|  18757770|       약촌한의원|        NULL|          NULL|          NULL|            NULL|        NULL|                    5|               0.4|                 0|        NULL|                NULL|          NULL|               NULL|           NULL|                 0|             NULL|            NULL|2023-10-05 00:00:...|\n",
      "|1079161835|       장수한의원|창신동한의원|  종로구한의원|      추나교정|        교통사고|  동묘한의원|                  113| 0.389380530973451|                 2|           5|                NULL|          NULL|               NULL|           NULL|                92|             NULL|            NULL|2023-10-05 00:00:...|\n",
      "|1703239053|   성동예본한의원| 8체질한의원|        한의원|         8체질|     왕십리8체질|왕십리한의원|                   49|                 0|                 5|           5|                NULL|          NULL|               NULL|           NULL|               179|             NULL|            NULL|2023-10-05 00:00:...|\n",
      "|  19529164|       태평한의원|        NULL|          NULL|          NULL|            NULL|        NULL|                   27| 0.481481481481481|                 0|           1|                NULL|          NULL|               NULL|           NULL|                 0|             NULL|            NULL|2023-10-05 00:00:...|\n",
      "| 230007709|     알파스한의원|        치매|          NULL|          NULL|            NULL|        NULL|                   43| 0.441860465116279|                 0|           1|                NULL|          NULL|               NULL|           NULL|                 0|             NULL|            NULL|2023-10-05 00:00:...|\n",
      "|  19518394|       홍익한의원|        NULL|          NULL|          NULL|            NULL|        NULL|                   93| 0.354838709677419|                 2|        NULL|                NULL|          NULL|               NULL|           NULL|                 0|             NULL|            NULL|2023-10-05 00:00:...|\n",
      "|  19529128|     신중앙한의원|        NULL|          NULL|          NULL|            NULL|        NULL|                    8|               0.5|                 0|        NULL|                NULL|          NULL|               NULL|           NULL|                 0|             NULL|            NULL|2023-10-05 00:00:...|\n",
      "|  36523267|대한민국365한의원|      한의원|교통사고입원실|자동차보험입원|산재지정의료기관|    다이어트|                   99|0.0909090909090909|               340|          19|                NULL|          NULL|               NULL|           NULL|              1880|            False|            NULL|2023-10-05 00:00:...|\n",
      "|  13100633|       명인한의원|        NULL|          NULL|          NULL|            NULL|        NULL|                  262| 0.812977099236641|                 0|        NULL|                NULL|          NULL|               NULL|           NULL|                 0|             NULL|            NULL|2023-10-05 00:00:...|\n",
      "|  19518670|     도화당한의원|        NULL|          NULL|          NULL|            NULL|        NULL|                 NULL|              NULL|                 1|           2|                NULL|          NULL|               NULL|           NULL|                 0|             NULL|            NULL|2023-10-05 00:00:...|\n",
      "|1524076456| 마포척편한한의원|마포역한의원|      추나요법|교통사고한의원|        척추관절|도화동한의원|                   81| 0.259259259259259|                31|           8|http://talk.naver...|      웹사이트|              False|           NULL|               168|             True|            NULL|2023-10-05 00:00:...|\n",
      "|  19527635|       자향한의원|        NULL|          NULL|          NULL|            NULL|        NULL|                    6|                 1|                 0|        NULL|                NULL|          NULL|               NULL|           NULL|                 0|             NULL|            NULL|2023-10-05 00:00:...|\n",
      "|  13153787|       제일한의원|          침|            뜸|          한약|            NULL|        NULL|                    2|               0.5|                 0|           5|                NULL|          NULL|               NULL|           NULL|                 0|             NULL|            NULL|2023-10-05 00:00:...|\n",
      "|  13021125|     소나무한의원|        NULL|          NULL|          NULL|            NULL|        NULL|                   37| 0.405405405405405|                 0|           5|                NULL|          NULL|               NULL|           NULL|                67|            False|            NULL|2023-10-05 00:00:...|\n",
      "|  19529179|     소진백한의원|        NULL|          NULL|          NULL|            NULL|        NULL|                   89|  0.50561797752809|                 1|           1|                NULL|          NULL|               NULL|           NULL|                 0|             NULL|            NULL|2023-10-05 00:00:...|\n",
      "|  18049532|     영광당한의원|        NULL|          NULL|          NULL|            NULL|        NULL|                 NULL|              NULL|                 0|        NULL|                NULL|          NULL|               NULL|           NULL|                 0|             NULL|            NULL|2023-10-05 00:00:...|\n",
      "|  18044874|       정명한의원|        NULL|          NULL|          NULL|            NULL|        NULL|                    1|                 1|                 0|        NULL|                NULL|          NULL|               NULL|           NULL|                 0|             NULL|            NULL|2023-10-05 00:00:...|\n",
      "+----------+-----------------+------------+--------------+--------------+----------------+------------+---------------------+------------------+------------------+------------+--------------------+--------------+-------------------+---------------+------------------+-----------------+----------------+--------------------+\n",
      "only showing top 20 rows\n",
      "\n"
     ]
    }
   ],
   "source": [
    "# Select specific columns\n",
    "selected_columns = [\n",
    "    'id', 'name', 'keywords_1', 'keywords_2', 'keywords_3', \n",
    "    'keywords_4', 'keywords_5', 'visitor_reviews_total', \n",
    "    'photo_review_ratio', 'fsas_reviews_total', 'images_count', \n",
    "    'talktalk_url', 'homepages_type', 'homepages_isDeadUrl', \n",
    "    'homepages_isRep', 'description_length', 'self_blog_present', \n",
    "    'qna_answer_count', 'crawled_at'\n",
    "]\n",
    "\n",
    "# Create a new DataFrame with only the selected columns\n",
    "new_df = df.select(selected_columns)\n",
    "\n",
    "# Show the first few rows of the new DataFrame\n",
    "new_df.show()"
   ]
  },
  {
   "cell_type": "code",
   "execution_count": null,
   "id": "7e8ab07e-e17f-4a18-bf65-d2a93f0d6bbc",
   "metadata": {},
   "outputs": [],
   "source": [
    "# Assuming new_df is the DataFrame you want to save\n",
    "new_df.write.csv('/Users/b06/Desktop/yeardream/medi-05/data/new_dataset.csv', header=True)"
   ]
  }
 ],
 "metadata": {
  "kernelspec": {
   "display_name": "Python 3 (ipykernel)",
   "language": "python",
   "name": "python3"
  },
  "language_info": {
   "codemirror_mode": {
    "name": "ipython",
    "version": 3
   },
   "file_extension": ".py",
   "mimetype": "text/x-python",
   "name": "python",
   "nbconvert_exporter": "python",
   "pygments_lexer": "ipython3",
   "version": "3.11.6"
  }
 },
 "nbformat": 4,
 "nbformat_minor": 5
}
