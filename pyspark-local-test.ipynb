{
 "cells": [
  {
   "cell_type": "code",
   "execution_count": 4,
   "id": "991b7a66-643f-4836-b565-9035e695ef7c",
   "metadata": {},
   "outputs": [],
   "source": [
    "from pyspark.sql import SparkSession\n",
    "from pyspark.sql.functions import col, explode, get_json_object, to_json, struct"
   ]
  },
  {
   "cell_type": "code",
   "execution_count": 5,
   "id": "e8bb57da-bb68-4606-ad14-1f0a87c29ee1",
   "metadata": {},
   "outputs": [
    {
     "name": "stderr",
     "output_type": "stream",
     "text": [
      "23/11/08 16:26:15 WARN SparkSession: Using an existing Spark session; only runtime SQL configurations will take effect.\n"
     ]
    }
   ],
   "source": [
    "# Jupyter 노트북 셀에서 PySpark 코드 실행\n",
    "from pyspark.sql import SparkSession\n",
    "\n",
    "# Spark 세션 생성\n",
    "spark = SparkSession.builder \\\n",
    "    .master(\"local[*]\") \\\n",
    "    .appName(\"PySparkTest\") \\\n",
    "    .getOrCreate()"
   ]
  },
  {
   "cell_type": "code",
   "execution_count": 6,
   "id": "c064ecdc-9d4b-45bf-a0f5-fe260b788258",
   "metadata": {},
   "outputs": [],
   "source": [
    "# meta_sample.csv 경로\n",
    "csv_path = '/Users/b06/Desktop/yeardream/medi-05/data/meta_sample.csv'\n",
    "\n",
    "\n",
    "# 데이터 로드\n",
    "df = spark.read.csv(csv_path, header=True)"
   ]
  },
  {
   "cell_type": "code",
   "execution_count": null,
   "id": "ea63a2e4-577f-4974-8a2f-ec30ea0800ba",
   "metadata": {},
   "outputs": [],
   "source": []
  }
 ],
 "metadata": {
  "kernelspec": {
   "display_name": "Python 3 (ipykernel)",
   "language": "python",
   "name": "python3"
  },
  "language_info": {
   "codemirror_mode": {
    "name": "ipython",
    "version": 3
   },
   "file_extension": ".py",
   "mimetype": "text/x-python",
   "name": "python",
   "nbconvert_exporter": "python",
   "pygments_lexer": "ipython3",
   "version": "3.11.6"
  }
 },
 "nbformat": 4,
 "nbformat_minor": 5
}
